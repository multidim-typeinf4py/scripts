{
 "cells": [
  {
   "cell_type": "code",
   "execution_count": 1,
   "id": "initial_id",
   "metadata": {
    "collapsed": true,
    "ExecuteTime": {
     "end_time": "2023-08-08T14:39:05.949054646Z",
     "start_time": "2023-08-08T14:38:57.994300500Z"
    }
   },
   "outputs": [
    {
     "name": "stdout",
     "output_type": "stream",
     "text": [
      "[Errno 2] No such file or directory: '/home/benji/Documents/Uni/heidelberg/05/masterarbeit/impls/scripts/experiments'\n",
      "/home/ben/coding/scripts/experiments/00datasets\n"
     ]
    }
   ],
   "source": [
    "%load_ext autoreload\n",
    "%autoreload 2\n",
    "\n",
    "%pwd\n",
    "%matplotlib inline\n",
    "\n",
    "import pandas as pd\n",
    "\n",
    "pd.set_option(\"display.max_rows\", None)\n",
    "pd.set_option(\"display.max_columns\", None)\n",
    "pd.set_option(\"display.expand_frame_repr\", False)"
   ]
  },
  {
   "cell_type": "code",
   "execution_count": 4,
   "outputs": [],
   "source": [
    "import pathlib, sys\n",
    "import logging\n",
    "\n",
    "DATA_FOLDER = pathlib.Path(\"/raid/students/mdti4py/datasets/cdt4py\")\n",
    "\n",
    "logger = logging.getLogger(name=__name__)\n",
    "logger.setLevel(level=logging.DEBUG)\n",
    "\n",
    "handler = logging.StreamHandler(stream=sys.stdout)\n",
    "handler.setFormatter(fmt=logging.Formatter('%(asctime)s | %(levelname)s : %(message)s'))\n",
    "logger.addHandler(handler)"
   ],
   "metadata": {
    "collapsed": false,
    "ExecuteTime": {
     "end_time": "2023-08-08T14:53:58.038778784Z",
     "start_time": "2023-08-08T14:53:57.988146634Z"
    }
   },
   "id": "c2c4e7858c5f1ad5"
  },
  {
   "cell_type": "code",
   "execution_count": 7,
   "outputs": [],
   "source": [
    "from scripts.infer.structure import AuthorRepo\n",
    "from typet5.data import GitRepo\n",
    "\n",
    "\n",
    "class CDT4PyRepo(GitRepo):\n",
    "    def __init__(self, author_repo: AuthorRepo) -> None:\n",
    "        super().__init__(\n",
    "            author=author_repo.author,\n",
    "            name=author_repo.repo,\n",
    "            url=None,\n",
    "            stars=-1,\n",
    "            forks=-1\n",
    "        )\n",
    "        \n",
    "    def authorname(self) -> str:\n",
    "        return f\"{self.author}/{self.name}\"\n",
    "        \n",
    "\n",
    "class CDT4PyFlaskRepo(CDT4PyRepo):\n",
    "    def repo_dir(self, repos_dir: pathlib.Path) -> pathlib.Path:\n",
    "        return repos_dir / \"flask\" / self.authorname()\n",
    "    \n",
    "class CDT4PyNumpyRepo(CDT4PyRepo):\n",
    "    def repo_dir(self, repos_dir: pathlib.Path) -> pathlib.Path:\n",
    "        return repos_dir / \"numpy\"  / self.authorname()"
   ],
   "metadata": {
    "collapsed": false,
    "ExecuteTime": {
     "end_time": "2023-08-08T15:02:19.924837648Z",
     "start_time": "2023-08-08T15:02:19.829184843Z"
    }
   },
   "id": "645a1dcfef8d7de2"
  },
  {
   "cell_type": "code",
   "execution_count": null,
   "outputs": [],
   "source": [
    "from typet5.data import GitRepo\n",
    "\n",
    "import tqdm\n",
    "\n",
    "from scripts.infer.structure import CrossDomainTypes4Py\n",
    "\n",
    "dataset = CrossDomainTypes4Py(dataset_root=DATA_FOLDER)\n",
    "test_set = dataset.test_set()\n",
    "assert test_set\n",
    "\n",
    "new_repos = []\n",
    "\n",
    "for cdt4py_repo in (CDT4PyFlaskRepo, CDT4PyNumpyRepo):\n",
    "    downloaded_repos = [cdt4py_repo(dataset.author_repo(test_repo)) for test_repo in test_set]\n",
    "\n",
    "    for r in tqdm.tqdm(downloaded_repos):\n",
    "        r.read_last_update(DATA_FOLDER)\n",
    "    \n",
    "    new_domain_repos = [r for r in downloaded_repos if \"typeshed\" not in r.name and \"stub\" not in r.name]\n",
    "    logger.info(f\"{len(new_domain_repos)} / {len(downloaded_repos)} are not additionally related to stubbing\")\n",
    "    \n",
    "    new_repos.extend(new_domain_repos)"
   ],
   "metadata": {
    "collapsed": false
   },
   "id": "6c08c2beed07bc6f"
  },
  {
   "cell_type": "code",
   "execution_count": null,
   "outputs": [],
   "source": [
    "loc_limit = 50000\n",
    "\n",
    "small_repos = []\n",
    "all_repos = []\n",
    "for rep in tqdm.tqdm(new_repos):\n",
    "    try:\n",
    "        loc = rep.count_lines_of_code(DATA_FOLDER)\n",
    "        if loc < loc_limit:\n",
    "            small_repos.append(rep)\n",
    "        else:\n",
    "            logger.warning(f\"{rep.authorname()} does not pass, with {loc} LOC\")\n",
    "    except UnicodeDecodeError:\n",
    "        # nothing we can do\n",
    "        logger.warning(f\"{rep.authorname()} does not pass due to encoding error\", exc_info=True)\n",
    "    except Exception as e:\n",
    "        logger.warning(f\"{rep.authorname()} does not pass\", exc_info=True)\n",
    "\n",
    "    else:\n",
    "        all_repos.append(rep)\n",
    "\n",
    "print(\n",
    "    f\"{len(small_repos)}/{len(new_repos)} repos are within the size limit ({loc_limit} LOC).\"\n",
    ")"
   ],
   "metadata": {
    "collapsed": false
   },
   "id": "3ce1867bd6e38b3b"
  },
  {
   "cell_type": "code",
   "execution_count": null,
   "outputs": [],
   "source": [
    "test_repos = small_repos[:]"
   ],
   "metadata": {
    "collapsed": false
   },
   "id": "9e22e80d4d06d23f"
  },
  {
   "cell_type": "code",
   "execution_count": null,
   "outputs": [],
   "source": [
    "# Bin by lines of code\n",
    "import pandas as pd\n",
    "\n",
    "kloc = loc_limit // 1000\n",
    "LOC_BINS = [loc * 1000 for loc in range(0, kloc + 1, 4)]\n",
    "print(LOC_BINS)\n",
    "\n",
    "def loc_binning(repos: list[GitRepo], title: str) -> None:\n",
    "    repo_loc = pd.DataFrame(\n",
    "        [(repo.authorname(), repo.lines_of_code) for repo in repos],\n",
    "        columns=[\"Repository\", \"Lines of Code\"]\n",
    "    )\n",
    "    repo_loc.plot.hist(ylabel=\"Frequency\", bins=LOC_BINS, title=title)"
   ],
   "metadata": {
    "collapsed": false
   },
   "id": "6be349d1c84e7ee7"
  },
  {
   "cell_type": "code",
   "execution_count": null,
   "outputs": [],
   "source": [
    "loc_binning(all_repos, title=\"All Test Repositories\")\n",
    "loc_binning(test_repos, title=\"Sub 50kLOC Test Repositories\")"
   ],
   "metadata": {
    "collapsed": false
   },
   "id": "8b053240229a5950"
  },
  {
   "cell_type": "code",
   "execution_count": 9,
   "outputs": [
    {
     "ename": "NameError",
     "evalue": "name 'small_repos' is not defined",
     "output_type": "error",
     "traceback": [
      "\u001B[0;31m---------------------------------------------------------------------------\u001B[0m",
      "\u001B[0;31mNameError\u001B[0m                                 Traceback (most recent call last)",
      "Cell \u001B[0;32mIn[9], line 16\u001B[0m\n\u001B[1;32m     13\u001B[0m \u001B[38;5;28;01mfrom\u001B[39;00m \u001B[38;5;21;01mconcurrent\u001B[39;00m\u001B[38;5;21;01m.\u001B[39;00m\u001B[38;5;21;01mfutures\u001B[39;00m \u001B[38;5;28;01mimport\u001B[39;00m ProcessPoolExecutor, as_completed\n\u001B[1;32m     15\u001B[0m \u001B[38;5;28;01mwith\u001B[39;00m ProcessPoolExecutor(max_workers\u001B[38;5;241m=\u001B[39m\u001B[38;5;241m4\u001B[39m) \u001B[38;5;28;01mas\u001B[39;00m executor:\n\u001B[0;32m---> 16\u001B[0m     fs \u001B[38;5;241m=\u001B[39m [executor\u001B[38;5;241m.\u001B[39msubmit(count_repo_annots, r) \u001B[38;5;28;01mfor\u001B[39;00m r \u001B[38;5;129;01min\u001B[39;00m \u001B[43msmall_repos\u001B[49m]\n\u001B[1;32m     17\u001B[0m     repo2annotations \u001B[38;5;241m=\u001B[39m [f\u001B[38;5;241m.\u001B[39mresult() \u001B[38;5;28;01mfor\u001B[39;00m f \u001B[38;5;129;01min\u001B[39;00m tqdm\u001B[38;5;241m.\u001B[39mtqdm(as_completed(fs), total\u001B[38;5;241m=\u001B[39m\u001B[38;5;28mlen\u001B[39m(fs))]\n\u001B[1;32m     19\u001B[0m repo2annotations: \u001B[38;5;28mlist\u001B[39m[\u001B[38;5;28mtuple\u001B[39m[CDT4PyRepo, \u001B[38;5;28mdict\u001B[39m]] \u001B[38;5;241m=\u001B[39m [r \u001B[38;5;28;01mfor\u001B[39;00m r \u001B[38;5;129;01min\u001B[39;00m repo2annotations \u001B[38;5;28;01mif\u001B[39;00m r \u001B[38;5;129;01mis\u001B[39;00m \u001B[38;5;129;01mnot\u001B[39;00m \u001B[38;5;28;01mNone\u001B[39;00m]\n",
      "\u001B[0;31mNameError\u001B[0m: name 'small_repos' is not defined"
     ]
    }
   ],
   "source": [
    "import operator\n",
    "\n",
    "def count_repo_annots(repo: GitRepo) -> tuple[GitRepo, dict] | None:\n",
    "    try:\n",
    "        annotations = repo.collect_annotations(DATA_FOLDER)\n",
    "        if repo.n_type_annots / rep.lines_of_code > 0.05:\n",
    "            return repo, annotations\n",
    "    except Exception as e:\n",
    "        logger.warning(f\"Failed to count annotations for {repo.name}. Exception: {e}\")\n",
    "        return None"
   ],
   "metadata": {
    "collapsed": false,
    "ExecuteTime": {
     "end_time": "2023-08-08T15:08:01.680633868Z",
     "start_time": "2023-08-08T15:08:01.528623889Z"
    }
   },
   "id": "c8316378d6d8b729"
  },
  {
   "cell_type": "code",
   "execution_count": null,
   "outputs": [],
   "source": [
    "from concurrent.futures import ProcessPoolExecutor, as_completed\n",
    "\n",
    "with ProcessPoolExecutor(max_workers=4) as executor:\n",
    "    fs = [executor.submit(count_repo_annots, r) for r in small_repos]\n",
    "    repo2annotations = [f.result() for f in tqdm.tqdm(as_completed(fs), total=len(fs))]\n",
    "\n",
    "repo2annotations: list[tuple[CDT4PyRepo, dict]] = [r for r in repo2annotations if r is not None]\n",
    "useful_repos: list[CDT4PyRepo] = list(map(operator.itemgetter(0), repo2annotations))\n",
    "\n",
    "logger.info(\n",
    "    f\"{len(useful_repos)}/{len(small_repos)} repos are parsable, have enough portions of type annotations\"\n",
    ")\n",
    "\n",
    "del repo2annotations"
   ],
   "metadata": {
    "collapsed": false
   },
   "id": "9553728711ac611f"
  },
  {
   "cell_type": "code",
   "execution_count": 8,
   "outputs": [],
   "source": [
    "# Bin by relative annotation count\n",
    "def type_slots_filled(repos: list[GitRepo], title: str) -> None:\n",
    "    anno_df = pd.DataFrame(\n",
    "        [(repo.authorname(), repo.n_type_annots / repo.n_type_places * 100) for repo in repos],\n",
    "        columns=[\"Repository\", \"Annotation Frequency\"]\n",
    "    )\n",
    "    bins = [x for x in range(0, 100 + 1, 10)]\n",
    "    anno_df.plot.hist(ylabel=\"Frequency\", bins=bins, title=title)"
   ],
   "metadata": {
    "collapsed": false,
    "ExecuteTime": {
     "end_time": "2023-08-08T15:07:59.437178798Z",
     "start_time": "2023-08-08T15:07:59.411377044Z"
    }
   },
   "id": "c62bf9b453b5b98f"
  },
  {
   "cell_type": "code",
   "execution_count": null,
   "outputs": [],
   "source": [
    "type_slots_filled(useful_repos, title=\"Percentile of Type Slots Filled\")"
   ],
   "metadata": {
    "collapsed": false
   },
   "id": "cb8cd435519f81fe"
  }
 ],
 "metadata": {
  "kernelspec": {
   "display_name": "Python 3",
   "language": "python",
   "name": "python3"
  },
  "language_info": {
   "codemirror_mode": {
    "name": "ipython",
    "version": 2
   },
   "file_extension": ".py",
   "mimetype": "text/x-python",
   "name": "python",
   "nbconvert_exporter": "python",
   "pygments_lexer": "ipython2",
   "version": "2.7.6"
  }
 },
 "nbformat": 4,
 "nbformat_minor": 5
}
