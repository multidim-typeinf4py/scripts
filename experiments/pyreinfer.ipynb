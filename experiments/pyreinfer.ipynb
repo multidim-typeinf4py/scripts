{
 "cells": [
  {
   "cell_type": "code",
   "execution_count": 78,
   "metadata": {},
   "outputs": [
    {
     "name": "stdout",
     "output_type": "stream",
     "text": [
      "The autoreload extension is already loaded. To reload it, use:\n",
      "  %reload_ext autoreload\n"
     ]
    }
   ],
   "source": [
    "%load_ext autoreload\n",
    "%autoreload 2"
   ]
  },
  {
   "cell_type": "code",
   "execution_count": 79,
   "metadata": {},
   "outputs": [],
   "source": [
    "from scripts.common.schemas import TypeCollectionCategory\n",
    "\n",
    "tool = \"pyreinfer\"\n",
    "task = TypeCollectionCategory.CALLABLE_RETURN"
   ]
  },
  {
   "cell_type": "code",
   "execution_count": 80,
   "metadata": {},
   "outputs": [
    {
     "data": {
      "image/svg+xml": "<svg xmlns=\"http://www.w3.org/2000/svg\" xmlns:xlink=\"http://www.w3.org/1999/xlink\" width=\"1640pt\" height=\"212pt\" viewBox=\"0.00 0.00 1639.50 211.75\">\n<g id=\"graph0\" class=\"graph\" transform=\"scale(1 1) rotate(0) translate(4 207.75)\">\n<title>polars_query</title>\n<polygon fill=\"white\" stroke=\"none\" points=\"-4,4 -4,-207.75 1635.5,-207.75 1635.5,4 -4,4\"/>\n<!-- RECHUNK [(0, 0)] -->\n<g id=\"node1\" class=\"node\">\n<title>RECHUNK [(0, 0)]</title>\n<polygon fill=\"none\" stroke=\"black\" points=\"884.38,-203.75 790.38,-203.75 790.38,-167.75 884.38,-167.75 884.38,-203.75\"/>\n<text text-anchor=\"middle\" x=\"837.38\" y=\"-181.07\" font-family=\"Times,serif\" font-size=\"14.00\">RECHUNK</text>\n</g>\n<!-- UNION [(0, 1)] -->\n<g id=\"node2\" class=\"node\">\n<title>UNION [(0, 1)]</title>\n<polygon fill=\"none\" stroke=\"black\" points=\"871.62,-131.75 803.12,-131.75 803.12,-95.75 871.62,-95.75 871.62,-131.75\"/>\n<text text-anchor=\"middle\" x=\"837.38\" y=\"-109.08\" font-family=\"Times,serif\" font-size=\"14.00\">UNION</text>\n</g>\n<!-- RECHUNK [(0, 0)]&#45;&#45;UNION [(0, 1)] -->\n<g id=\"edge1\" class=\"edge\">\n<title>RECHUNK [(0, 0)]--UNION [(0, 1)]</title>\n<path fill=\"none\" stroke=\"black\" d=\"M837.38,-167.45C837.38,-156.6 837.38,-142.67 837.38,-131.85\"/>\n</g>\n<!-- CSV SCAN pyreinfer/pyreinfer@[CALLABLE_RETURN]+[CALLABLE_RETURN]/betterproj1.betterproj1/.inferred.csv;\nπ */7;\nσ &#45; [(0, 2)] -->\n<g id=\"node3\" class=\"node\">\n<title>CSV SCAN pyreinfer/pyreinfer@[CALLABLE_RETURN]+[CALLABLE_RETURN]/betterproj1.betterproj1/.inferred.csv;\nπ */7;\nσ - [(0, 2)]</title>\n<polygon fill=\"none\" stroke=\"black\" points=\"850.75,-59.75 0,-59.75 0,0 850.75,0 850.75,-59.75\"/>\n<text text-anchor=\"middle\" x=\"425.38\" y=\"-42.45\" font-family=\"Times,serif\" font-size=\"14.00\">CSV SCAN pyreinfer/pyreinfer@[CALLABLE_RETURN]+[CALLABLE_RETURN]/betterproj1.betterproj1/.inferred.csv;</text>\n<text text-anchor=\"middle\" x=\"425.38\" y=\"-25.2\" font-family=\"Times,serif\" font-size=\"14.00\">π */7;</text>\n<text text-anchor=\"middle\" x=\"425.38\" y=\"-7.95\" font-family=\"Times,serif\" font-size=\"14.00\">σ -</text>\n</g>\n<!-- UNION [(0, 1)]&#45;&#45;CSV SCAN pyreinfer/pyreinfer@[CALLABLE_RETURN]+[CALLABLE_RETURN]/betterproj1.betterproj1/.inferred.csv;\nπ */7;\nσ &#45; [(0, 2)] -->\n<g id=\"edge2\" class=\"edge\">\n<title>UNION [(0, 1)]--CSV SCAN pyreinfer/pyreinfer@[CALLABLE_RETURN]+[CALLABLE_RETURN]/betterproj1.betterproj1/.inferred.csv;\nπ */7;\nσ - [(0, 2)]</title>\n<path fill=\"none\" stroke=\"black\" d=\"M802.96,-105.91C752.58,-95.9 655.72,-76.65 572.72,-60.16\"/>\n</g>\n<!-- CSV SCAN pyreinfer/pyreinfer@[CALLABLE_RETURN]+[CALLABLE_RETURN]/proj1.proj1/.inferred.csv;\nπ */7;\nσ &#45; [(1, 2)] -->\n<g id=\"node4\" class=\"node\">\n<title>CSV SCAN pyreinfer/pyreinfer@[CALLABLE_RETURN]+[CALLABLE_RETURN]/proj1.proj1/.inferred.csv;\nπ */7;\nσ - [(1, 2)]</title>\n<polygon fill=\"none\" stroke=\"black\" points=\"1631.5,-59.75 869.25,-59.75 869.25,0 1631.5,0 1631.5,-59.75\"/>\n<text text-anchor=\"middle\" x=\"1250.38\" y=\"-42.45\" font-family=\"Times,serif\" font-size=\"14.00\">CSV SCAN pyreinfer/pyreinfer@[CALLABLE_RETURN]+[CALLABLE_RETURN]/proj1.proj1/.inferred.csv;</text>\n<text text-anchor=\"middle\" x=\"1250.38\" y=\"-25.2\" font-family=\"Times,serif\" font-size=\"14.00\">π */7;</text>\n<text text-anchor=\"middle\" x=\"1250.38\" y=\"-7.95\" font-family=\"Times,serif\" font-size=\"14.00\">σ -</text>\n</g>\n<!-- UNION [(0, 1)]&#45;&#45;CSV SCAN pyreinfer/pyreinfer@[CALLABLE_RETURN]+[CALLABLE_RETURN]/proj1.proj1/.inferred.csv;\nπ */7;\nσ &#45; [(1, 2)] -->\n<g id=\"edge3\" class=\"edge\">\n<title>UNION [(0, 1)]--CSV SCAN pyreinfer/pyreinfer@[CALLABLE_RETURN]+[CALLABLE_RETURN]/proj1.proj1/.inferred.csv;\nπ */7;\nσ - [(1, 2)]</title>\n<path fill=\"none\" stroke=\"black\" d=\"M871.88,-105.91C922.38,-95.9 1019.47,-76.65 1102.67,-60.16\"/>\n</g>\n</g>\n</svg>",
      "text/plain": [
       "<IPython.core.display.SVG object>"
      ]
     },
     "metadata": {},
     "output_type": "display_data"
    }
   ],
   "source": [
    "from experiments import api\n",
    "\n",
    "task_folder = api.tasks.tool_and_task(tool=tool, task=task)\n",
    "api.tasks.csv_graph(task_folder)"
   ]
  },
  {
   "cell_type": "code",
   "execution_count": 81,
   "metadata": {},
   "outputs": [
    {
     "name": "stdout",
     "output_type": "stream",
     "text": [
      "pyreinfer/pyreinfer@[CALLABLE_RETURN]+[CALLABLE_RETURN]/betterproj1.betterproj1/.inferred.csv shape: (6, 8)\n",
      "┌──────────┬──────────────┬──────────────┬──────────────┬─────────────┬───────────┬──────┬─────────┐\n",
      "│ file     ┆ category     ┆ qname        ┆ qname_ssa    ┆ anno        ┆ method    ┆ topn ┆ literal │\n",
      "│ ---      ┆ ---          ┆ ---          ┆ ---          ┆ ---         ┆ ---       ┆ ---  ┆ ---     │\n",
      "│ str      ┆ str          ┆ str          ┆ str          ┆ str         ┆ str       ┆ i64  ┆ null    │\n",
      "╞══════════╪══════════════╪══════════════╪══════════════╪═════════════╪═══════════╪══════╪═════════╡\n",
      "│ mod/x.py ┆ CALLABLE_RET ┆ function     ┆ function     ┆ int         ┆ pyreinfer ┆ 1    ┆ null    │\n",
      "│          ┆ URN          ┆              ┆              ┆             ┆           ┆      ┆         │\n",
      "│ mod/x.py ┆ CALLABLE_RET ┆ function_wit ┆ function_wit ┆ int         ┆ pyreinfer ┆ 1    ┆ null    │\n",
      "│          ┆ URN          ┆ h_multiline_ ┆ h_multiline_ ┆             ┆           ┆      ┆         │\n",
      "│          ┆              ┆ paramete…    ┆ paramete…    ┆             ┆           ┆      ┆         │\n",
      "│ mod/x.py ┆ CALLABLE_RET ┆ outer        ┆ outer        ┆ int         ┆ pyreinfer ┆ 1    ┆ null    │\n",
      "│          ┆ URN          ┆              ┆              ┆             ┆           ┆      ┆         │\n",
      "│ mod/x.py ┆ CALLABLE_RET ┆ Clazz.__init ┆ Clazz.__init ┆ None        ┆ pyreinfer ┆ 1    ┆ null    │\n",
      "│          ┆ URN          ┆ __           ┆ __           ┆             ┆           ┆      ┆         │\n",
      "│ mod/x.py ┆ CALLABLE_RET ┆ Clazz.method ┆ Clazz.method ┆ tuple[int,  ┆ pyreinfer ┆ 1    ┆ null    │\n",
      "│          ┆ URN          ┆              ┆              ┆ str, int]   ┆           ┆      ┆         │\n",
      "│ mod/y.py ┆ CALLABLE_RET ┆ f            ┆ f            ┆ list[int]   ┆ pyreinfer ┆ 1    ┆ null    │\n",
      "│          ┆ URN          ┆              ┆              ┆             ┆           ┆      ┆         │\n",
      "└──────────┴──────────────┴──────────────┴──────────────┴─────────────┴───────────┴──────┴─────────┘\n"
     ]
    },
    {
     "name": "stderr",
     "output_type": "stream",
     "text": [
      "Cannot combine 'streaming' with 'common_subplan_elimination'. CSE will be turned off.\n",
      "Cannot combine 'streaming' with 'common_subplan_elimination'. CSE will be turned off.\n"
     ]
    },
    {
     "ename": "AssertionError",
     "evalue": "Preventing overwrite of already existing dataset: pyreinfer/CALLABLE_RETURN/pyreinfer/pyreinfer@[CALLABLE_RETURN]+[CALLABLE_RETURN]/betterproj1.betterproj1.csv",
     "output_type": "error",
     "traceback": [
      "\u001b[0;31m---------------------------------------------------------------------------\u001b[0m",
      "\u001b[0;31mAssertionError\u001b[0m                            Traceback (most recent call last)",
      "Cell \u001b[0;32mIn[81], line 35\u001b[0m\n\u001b[1;32m     33\u001b[0m \u001b[39mfor\u001b[39;00m inferred, df \u001b[39min\u001b[39;00m \u001b[39mzip\u001b[39m(inferreds, pl\u001b[39m.\u001b[39mcollect_all(queries, streaming\u001b[39m=\u001b[39m\u001b[39mTrue\u001b[39;00m)):\n\u001b[1;32m     34\u001b[0m     \u001b[39mprint\u001b[39m(inferred, df)\n\u001b[0;32m---> 35\u001b[0m     api\u001b[39m.\u001b[39;49mtasks\u001b[39m.\u001b[39;49mdump_polars(df, tool\u001b[39m=\u001b[39;49mtool, task\u001b[39m=\u001b[39;49mtask, author_proj\u001b[39m=\u001b[39;49minferred\u001b[39m.\u001b[39;49mparent)\n",
      "File \u001b[0;32m~/Documents/Uni/heidelberg/05/masterarbeit/impls/scripts/experiments/api/tasks.py:25\u001b[0m, in \u001b[0;36mdump_polars\u001b[0;34m(df, tool, task, author_proj)\u001b[0m\n\u001b[1;32m     21\u001b[0m \u001b[39mdef\u001b[39;00m \u001b[39mdump_polars\u001b[39m(\n\u001b[1;32m     22\u001b[0m     df: pl\u001b[39m.\u001b[39mDataFrame, tool: \u001b[39mstr\u001b[39m, task: TypeCollectionCategory, author_proj: \u001b[39mstr\u001b[39m\n\u001b[1;32m     23\u001b[0m ) \u001b[39m-\u001b[39m\u001b[39m>\u001b[39m \u001b[39mNone\u001b[39;00m:\n\u001b[1;32m     24\u001b[0m     p \u001b[39m=\u001b[39m pathlib\u001b[39m.\u001b[39mPath(tool) \u001b[39m/\u001b[39m \u001b[39mstr\u001b[39m(task) \u001b[39m/\u001b[39m \u001b[39mf\u001b[39m\u001b[39m\"\u001b[39m\u001b[39m{\u001b[39;00mauthor_proj\u001b[39m}\u001b[39;00m\u001b[39m.csv\u001b[39m\u001b[39m\"\u001b[39m\n\u001b[0;32m---> 25\u001b[0m     \u001b[39massert\u001b[39;00m \u001b[39mnot\u001b[39;00m p\u001b[39m.\u001b[39mis_file(), \u001b[39mf\u001b[39m\u001b[39m\"\u001b[39m\u001b[39mPreventing overwrite of already existing dataset: \u001b[39m\u001b[39m{\u001b[39;00mp\u001b[39m}\u001b[39;00m\u001b[39m\"\u001b[39m\n\u001b[1;32m     26\u001b[0m     p\u001b[39m.\u001b[39mparent\u001b[39m.\u001b[39mmkdir(parents\u001b[39m=\u001b[39m\u001b[39mTrue\u001b[39;00m, exist_ok\u001b[39m=\u001b[39m\u001b[39mTrue\u001b[39;00m)\n\u001b[1;32m     28\u001b[0m     df\u001b[39m.\u001b[39mwrite_csv(file\u001b[39m=\u001b[39mp)\n",
      "\u001b[0;31mAssertionError\u001b[0m: Preventing overwrite of already existing dataset: pyreinfer/CALLABLE_RETURN/pyreinfer/pyreinfer@[CALLABLE_RETURN]+[CALLABLE_RETURN]/betterproj1.betterproj1.csv"
     ]
    }
   ],
   "source": [
    "import functools, operator\n",
    "\n",
    "import polars as pl\n",
    "\n",
    "from experiments.api.config import ExperimentConfig\n",
    "from experiments.api.mappers import MappingConfig\n",
    "from experiments.api.filters import FilteringConfig\n",
    "\n",
    "PyreQuery = ExperimentConfig(\n",
    "    mapping=MappingConfig(\n",
    "        dequalification=True,\n",
    "        normalise_unions=True,\n",
    "        normalise_typing_imports=True,\n",
    "    ),\n",
    "    filtering=FilteringConfig(),\n",
    ")\n",
    "\n",
    "mappers = PyreQuery.mapping.into_exprs()\n",
    "filters = functools.reduce(operator.or_, PyreQuery.filtering.into_exprs())\n",
    "\n",
    "queries = []\n",
    "\n",
    "inferreds = list(task_folder.glob(\"./**/*.inferred.csv\"))\n",
    "for file in inferreds:\n",
    "    queries.append(\n",
    "        functools.reduce(\n",
    "            lambda df, e: df.with_columns(e),\n",
    "            mappers,\n",
    "            pl.scan_csv(file),\n",
    "        ).filter(predicate=filters)\n",
    "    )\n",
    "\n",
    "for inferred, df in zip(inferreds, pl.collect_all(queries, streaming=True)):\n",
    "    print(inferred, df)\n",
    "    api.tasks.dump_polars(df, tool=tool, task=task, author_proj=inferred.parent)\n"
   ]
  }
 ],
 "metadata": {
  "kernelspec": {
   "display_name": "Python 3.10.11 ('scripts-FcvKWS83-py3.10')",
   "language": "python",
   "name": "python3"
  },
  "language_info": {
   "codemirror_mode": {
    "name": "ipython",
    "version": 3
   },
   "file_extension": ".py",
   "mimetype": "text/x-python",
   "name": "python",
   "nbconvert_exporter": "python",
   "pygments_lexer": "ipython3",
   "version": "3.10.11"
  },
  "orig_nbformat": 4,
  "vscode": {
   "interpreter": {
    "hash": "cb5ea0ec9276ea53bca768cbad83872d3e07fe0f98ee4aa691b5a250409cc09e"
   }
  }
 },
 "nbformat": 4,
 "nbformat_minor": 2
}
