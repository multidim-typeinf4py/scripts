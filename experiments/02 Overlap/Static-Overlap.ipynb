{
 "cells": [
  {
   "cell_type": "code",
   "execution_count": 1,
   "id": "80a5a00d-b9b2-444e-965c-bab6dbac3f21",
   "metadata": {},
   "outputs": [
    {
     "name": "stderr",
     "output_type": "stream",
     "text": [
      "/tmp/ipykernel_687194/327059659.py:2: DeprecationWarning: Importing display from IPython.core.display is deprecated since IPython 7.14, please import from IPython display\n",
      "  from IPython.core.display import display, HTML\n"
     ]
    },
    {
     "data": {
      "text/html": [
       "<style>.container { width:100% !important; }</style>"
      ],
      "text/plain": [
       "<IPython.core.display.HTML object>"
      ]
     },
     "metadata": {},
     "output_type": "display_data"
    }
   ],
   "source": [
    "# https://stackoverflow.com/questions/21971449/how-do-i-increase-the-cell-width-of-the-jupyter-ipython-notebook-in-my-browser\n",
    "from IPython.core.display import display, HTML\n",
    "display(HTML(\"<style>.container { width:100% !important; }</style>\"))"
   ]
  },
  {
   "cell_type": "code",
   "execution_count": 2,
   "id": "0394d1a9-ecdf-4e33-a9cc-431180580c8d",
   "metadata": {},
   "outputs": [],
   "source": [
    "%load_ext autoreload\n",
    "%autoreload 2"
   ]
  },
  {
   "cell_type": "code",
   "execution_count": 3,
   "id": "fbdba820-5216-4c0e-b57a-76a7c61f186e",
   "metadata": {},
   "outputs": [],
   "source": [
    "%autoreload"
   ]
  },
  {
   "cell_type": "code",
   "execution_count": 4,
   "id": "37d46267-f757-412e-a6fb-bb9efaa62ee2",
   "metadata": {},
   "outputs": [],
   "source": [
    "import os\n",
    "import sys\n",
    "module_path = os.path.abspath(os.path.join('../..'))\n",
    "if module_path not in sys.path:\n",
    "    sys.path.append(module_path)"
   ]
  },
  {
   "cell_type": "code",
   "execution_count": null,
   "id": "344e86fe-456e-4a7f-8d9b-92141536e3b8",
   "metadata": {},
   "outputs": [
    {
     "name": "stdout",
     "output_type": "stream",
     "text": [
      "['/nfs/home/bsparks/mdti4py/scripts/scripts']\n"
     ]
    }
   ],
   "source": [
    "import scripts\n",
    "print(scripts.__path__)\n",
    "import pathlib\n",
    "\n",
    "\n",
    "from scripts.common.schemas import TypeCollectionCategory\n",
    "from scripts.infer.structure import DatasetFolderStructure\n",
    "\n",
    "dataset = DatasetFolderStructure(pathlib.Path(\n",
    "    \"/nfs/home/bsparks/mdti4py/datasets/better-types-4-py-dataset\"\n",
    "))\n",
    "assert dataset.dataset_root.is_dir(), f\"{dataset.dataset_root} not a directory!\"\n",
    "\n",
    "print(dataset)"
   ]
  },
  {
   "cell_type": "code",
   "execution_count": null,
   "id": "dd788ecd-ebcd-475c-8fc2-3b1d909fea20",
   "metadata": {},
   "outputs": [],
   "source": [
    "import importlib\n",
    "import experiments.inferred"
   ]
  },
  {
   "cell_type": "code",
   "execution_count": null,
   "id": "161c110a-0939-40e8-85f5-e9a747529cb2",
   "metadata": {},
   "outputs": [],
   "source": [
    "artifact_root = pathlib.Path(\"/nfs/home/bsparks/mdti4py/datasets\")\n",
    "assert artifact_root.is_dir(), f\"Cannot find {artifact_root=}\""
   ]
  },
  {
   "cell_type": "markdown",
   "id": "28eb0227-c520-4f8f-be6d-750d499d95b8",
   "metadata": {},
   "source": [
    "# Ground Truth"
   ]
  },
  {
   "cell_type": "code",
   "execution_count": null,
   "id": "136e9645-d642-423a-ade8-d2f1d02dd7f4",
   "metadata": {},
   "outputs": [],
   "source": [
    "importlib.reload(experiments.inferred)\n",
    "groundtruth = experiments.inferred.load_groundtruths(artifact_root, dataset)"
   ]
  },
  {
   "cell_type": "code",
   "execution_count": null,
   "id": "695324db-4023-4454-9996-40dc3301c742",
   "metadata": {},
   "outputs": [],
   "source": [
    "groundtruth[groundtruth[\"file\"] == \"aiosonic/pools.py\"].drop(columns=[\"category\", \"qname\", \"repository\"])"
   ]
  },
  {
   "cell_type": "code",
   "execution_count": null,
   "id": "31cbbc4c-bb5b-4d03-ad7b-7524133ddc21",
   "metadata": {},
   "outputs": [],
   "source": [
    "trivial_mask = groundtruth[\"adjusted_anno\"].isin([\"None\", \"Any\"])\n",
    "groundtruth = groundtruth[~trivial_mask]\n",
    "\n",
    "groundtruth"
   ]
  },
  {
   "cell_type": "code",
   "execution_count": null,
   "id": "d0026188-0998-4f84-bd8a-d27668715ff2",
   "metadata": {},
   "outputs": [],
   "source": [
    "print(\"=== Label Counts === \")\n",
    "print(f\"{groundtruth.raw_anno.notna().sum()=}, {groundtruth.adjusted_anno.notna().sum()=}, {groundtruth.base_anno.notna().sum()=}\")"
   ]
  },
  {
   "cell_type": "code",
   "execution_count": null,
   "id": "0d4927e1-e9c1-418d-8e64-6943df8452a1",
   "metadata": {},
   "outputs": [],
   "source": [
    "from scripts.common.schemas import ExtendedTypeCollectionSchema\n",
    "\n",
    "import experiments.inferred\n",
    "from experiments.predictions import ubiquitous_types, co_occurrences\n",
    "\n",
    "import pandera.typing as pt, pandas as pd, seaborn as sns\n",
    "import importlib\n",
    "\n",
    "import matplotlib.pyplot as plt\n",
    "\n",
    "def adjusted_pipeline(tool: str, groundtruth: pt.DataFrame[ExtendedTypeCollectionSchema]) -> pd.DataFrame:\n",
    "    importlib.reload(experiments.inferred)\n",
    "    print(f\"Loaded inferred\")\n",
    "    \n",
    "    inferred = experiments.inferred.load_entire_inferred(artifact_root, dataset, tool_name=tool, task=\"all\")\n",
    "    experiments.inferred.error_if_duplicate_keys(inferred)\n",
    "    print(f\"No duplicate keys found\")\n",
    "\n",
    "    adjusted = experiments.inferred.typet5_adjusted_form(inferred)\n",
    "    print(f\"Converted to adjusted form\")\n",
    "\n",
    "    trivial_mask = groundtruth.adjusted_anno.str.endswith((\".None\", \".Any\")) | groundtruth.adjusted_anno.isin([\"None\", \"Any\"])\n",
    "    groundtruth = groundtruth[~trivial_mask]\n",
    "    print(\"Removed trivial types from groundtruth (None and Any)\")\n",
    "\n",
    "    aligned = experiments.inferred.join_truth_to_preds(\n",
    "        truth=groundtruth, \n",
    "        predictions=adjusted, \n",
    "        comparable_anno=ExtendedTypeCollectionSchema.adjusted_anno,\n",
    "    )\n",
    "    print(f\"{aligned.shape}\")\n",
    "    print(f\"Joined ground truth to predictions\")\n",
    "    \n",
    "    evaluatable = experiments.inferred.evaluatable(aligned)\n",
    "    assert evaluatable[\"gt_anno\"].notna().all()\n",
    "    assert evaluatable[\"anno\"].notna().all()\n",
    "    \n",
    "    print(f\"Reduced to evaluatable: {evaluatable.shape}\")\n",
    "    return evaluatable\n",
    "\n",
    "def base_pipeline(tool: str, groundtruth: pt.DataFrame[ExtendedTypeCollectionSchema]) -> pd.DataFrame:\n",
    "    importlib.reload(experiments.inferred)   \n",
    "    inferred = experiments.inferred.load_entire_inferred(artifact_root, dataset, tool_name=tool, task=\"all\")\n",
    "    print(f\"Loaded inferred\")\n",
    "    \n",
    "    experiments.inferred.error_if_duplicate_keys(inferred)\n",
    "    print(f\"No duplicate keys found\")\n",
    "\n",
    "    adjusted = experiments.inferred.typet5_base_form(inferred)\n",
    "    print(f\"Converted to base form\")\n",
    "\n",
    "    trivial_mask = groundtruth.base_anno.isin([\"None\", \"Any\"])\n",
    "    groundtruth = groundtruth[~trivial_mask]\n",
    "    print(\"Removed trivial types from groundtruth (None and Any)\")\n",
    "\n",
    "    aligned = experiments.inferred.join_truth_to_preds(\n",
    "        truth=groundtruth, \n",
    "        predictions=adjusted, \n",
    "        comparable_anno=ExtendedTypeCollectionSchema.base_anno,\n",
    "    )\n",
    "    print(f\"{aligned.shape}\")\n",
    "    print(f\"Joined ground truth to predictions\")\n",
    "    \n",
    "    evaluatable = experiments.inferred.evaluatable(aligned)\n",
    "    assert evaluatable[\"gt_anno\"].notna().all()\n",
    "    assert evaluatable[\"anno\"].notna().all()\n",
    "    \n",
    "    print(f\"Reduced to evaluatable: {evaluatable.shape}\")\n",
    "    return evaluatable"
   ]
  },
  {
   "cell_type": "markdown",
   "id": "0c1b057a-f723-49f6-843e-7e58ecd5a121",
   "metadata": {},
   "source": [
    "# HiTyperNoML"
   ]
  },
  {
   "cell_type": "code",
   "execution_count": null,
   "id": "6ff9304d-1d6f-480e-82c1-33d245ae2b11",
   "metadata": {},
   "outputs": [],
   "source": [
    "hitypernoml_adjusted = adjusted_pipeline(tool=\"HiTyperNoML\", groundtruth=groundtruth)"
   ]
  },
  {
   "cell_type": "code",
   "execution_count": null,
   "id": "147502d7-f65b-4eaf-98f7-e7bd8765e891",
   "metadata": {},
   "outputs": [],
   "source": [
    "hitypernoml_base = base_pipeline(tool=\"HiTyperNoML\", groundtruth=groundtruth)"
   ]
  },
  {
   "cell_type": "code",
   "execution_count": null,
   "id": "e0e73484-4d1e-410a-8372-23c95a310f36",
   "metadata": {},
   "outputs": [],
   "source": [
    "experiments.predictions.performance(hitypernoml_adjusted.replace(\"<MISSING>\", pd.NA), total=True)"
   ]
  },
  {
   "cell_type": "code",
   "execution_count": null,
   "id": "1c8a8a9e-c6d2-42e4-9d5b-88228cec57fd",
   "metadata": {},
   "outputs": [],
   "source": [
    "experiments.predictions.performance(hitypernoml_base.replace(\"<MISSING>\", pd.NA), total=True)"
   ]
  },
  {
   "cell_type": "code",
   "execution_count": null,
   "id": "68363340-06d7-4123-9fc3-4d2a8d6a3e63",
   "metadata": {},
   "outputs": [],
   "source": [
    "thres_figs, ax1 = plt.subplots(nrows=1)\n",
    "\n",
    "importlib.reload(experiments.predictions)\n",
    "hitypernoml_base_ubiq = experiments.predictions.ubiquitous_types(hitypernoml_base.replace(\"<MISSING>\", pd.NA))\n",
    "\n",
    "ax1.set_title('HiTyperNoML')\n",
    "co_occurrences(hitypernoml_base_ubiq, truth=\"gt_anno\", pred=\"anno\", threshold=0.08, figsize=(5, 10), ax=ax1)\n",
    "\n",
    "plt.tight_layout()\n",
    "plt.show()"
   ]
  }
 ],
 "metadata": {
  "kernelspec": {
   "display_name": "Python 3 (ipykernel)",
   "language": "python",
   "name": "python3"
  },
  "language_info": {
   "codemirror_mode": {
    "name": "ipython",
    "version": 3
   },
   "file_extension": ".py",
   "mimetype": "text/x-python",
   "name": "python",
   "nbconvert_exporter": "python",
   "pygments_lexer": "ipython3",
   "version": "3.10.12"
  }
 },
 "nbformat": 4,
 "nbformat_minor": 5
}
