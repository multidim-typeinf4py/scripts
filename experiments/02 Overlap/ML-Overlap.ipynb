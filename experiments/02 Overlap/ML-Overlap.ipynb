{
 "cells": [
  {
   "cell_type": "code",
   "execution_count": 1,
   "id": "80a5a00d-b9b2-444e-965c-bab6dbac3f21",
   "metadata": {},
   "outputs": [
    {
     "name": "stderr",
     "output_type": "stream",
     "text": [
      "/tmp/ipykernel_1453373/327059659.py:2: DeprecationWarning: Importing display from IPython.core.display is deprecated since IPython 7.14, please import from IPython display\n",
      "  from IPython.core.display import display, HTML\n"
     ]
    },
    {
     "data": {
      "text/html": [
       "<style>.container { width:100% !important; }</style>"
      ],
      "text/plain": [
       "<IPython.core.display.HTML object>"
      ]
     },
     "metadata": {},
     "output_type": "display_data"
    }
   ],
   "source": [
    "# https://stackoverflow.com/questions/21971449/how-do-i-increase-the-cell-width-of-the-jupyter-ipython-notebook-in-my-browser\n",
    "from IPython.core.display import display, HTML\n",
    "display(HTML(\"<style>.container { width:100% !important; }</style>\"))"
   ]
  },
  {
   "cell_type": "code",
   "execution_count": 2,
   "id": "0394d1a9-ecdf-4e33-a9cc-431180580c8d",
   "metadata": {},
   "outputs": [],
   "source": [
    "%load_ext autoreload\n",
    "%autoreload 2"
   ]
  },
  {
   "cell_type": "code",
   "execution_count": 3,
   "id": "fbdba820-5216-4c0e-b57a-76a7c61f186e",
   "metadata": {},
   "outputs": [],
   "source": [
    "%autoreload"
   ]
  },
  {
   "cell_type": "code",
   "execution_count": 4,
   "id": "37d46267-f757-412e-a6fb-bb9efaa62ee2",
   "metadata": {},
   "outputs": [],
   "source": [
    "import os\n",
    "import sys\n",
    "module_path = os.path.abspath(os.path.join('../..'))\n",
    "if module_path not in sys.path:\n",
    "    sys.path.append(module_path)"
   ]
  },
  {
   "cell_type": "code",
   "execution_count": 5,
   "id": "344e86fe-456e-4a7f-8d9b-92141536e3b8",
   "metadata": {},
   "outputs": [
    {
     "name": "stdout",
     "output_type": "stream",
     "text": [
      "['/nfs/home/bsparks/mdti4py/scripts/scripts']\n"
     ]
    },
    {
     "name": "stderr",
     "output_type": "stream",
     "text": [
      "2023-09-28 13:25:47.961078: I tensorflow/core/platform/cpu_feature_guard.cc:182] This TensorFlow binary is optimized to use available CPU instructions in performance-critical operations.\n",
      "To enable the following instructions: AVX2 FMA, in other operations, rebuild TensorFlow with the appropriate compiler flags.\n",
      "2023-09-28 13:25:48.775152: W tensorflow/compiler/tf2tensorrt/utils/py_utils.cc:38] TF-TRT Warning: Could not find TensorRT\n"
     ]
    },
    {
     "name": "stdout",
     "output_type": "stream",
     "text": [
      "CrossDomainTypes4Py @ /nfs/data/students/bsparks/mdti4py-dataset-pool/cdt4py\n"
     ]
    }
   ],
   "source": [
    "import scripts\n",
    "print(scripts.__path__)\n",
    "import pathlib\n",
    "\n",
    "\n",
    "from scripts.common.schemas import TypeCollectionCategory\n",
    "from scripts.infer.structure import DatasetFolderStructure\n",
    "\n",
    "dataset = DatasetFolderStructure(pathlib.Path(\n",
    "    \"/nfs/data/students/bsparks/mdti4py-dataset-pool/cdt4py\"\n",
    "))\n",
    "assert dataset.dataset_root.is_dir(), f\"{dataset.dataset_root} not a directory!\"\n",
    "\n",
    "print(dataset)"
   ]
  },
  {
   "cell_type": "code",
   "execution_count": 6,
   "id": "dd788ecd-ebcd-475c-8fc2-3b1d909fea20",
   "metadata": {},
   "outputs": [],
   "source": [
    "import importlib\n",
    "import experiments.inferred"
   ]
  },
  {
   "cell_type": "code",
   "execution_count": 7,
   "id": "161c110a-0939-40e8-85f5-e9a747529cb2",
   "metadata": {},
   "outputs": [],
   "source": [
    "artifact_root = pathlib.Path(\"/nfs/home/bsparks/mdti4py/datasets\")\n",
    "assert artifact_root.is_dir(), f\"Cannot find {artifact_root=}\""
   ]
  },
  {
   "cell_type": "markdown",
   "id": "28eb0227-c520-4f8f-be6d-750d499d95b8",
   "metadata": {},
   "source": [
    "# Ground Truth"
   ]
  },
  {
   "cell_type": "code",
   "execution_count": 10,
   "id": "136e9645-d642-423a-ade8-d2f1d02dd7f4",
   "metadata": {},
   "outputs": [
    {
     "name": "stderr",
     "output_type": "stream",
     "text": [
      "/nfs/home/bsparks/mdti4py/datasets/CrossDomainTypes4Py/chrisc36__umpy-allennlp/extended_ground_truth.csv: 100%|█████████████████████████████████████████████████████████████████████████████████████████| 1550/1550 [00:20<00:00, 73.90it/s]\n",
      "/nfs/home/bsparks/mdti4py/datasets/CrossDomainTypes4Py/chrisc36__umpy-allennlp/context.csv: 100%|██████████████████████████████████████████████████████████████████████████████████████████████████████| 1550/1550 [00:09<00:00, 171.50it/s]\n"
     ]
    }
   ],
   "source": [
    "importlib.reload(experiments.inferred)\n",
    "import pandas as pd\n",
    "groundtruth = experiments.inferred.load_groundtruths(artifact_root, dataset).replace(\"<MISSING>\", pd.NA)"
   ]
  },
  {
   "cell_type": "markdown",
   "id": "0c1b057a-f723-49f6-843e-7e58ecd5a121",
   "metadata": {},
   "source": [
    "# Type4Py"
   ]
  },
  {
   "cell_type": "code",
   "execution_count": 11,
   "id": "7242e2d3-b903-49f9-b85d-ff33cedbe1f2",
   "metadata": {},
   "outputs": [],
   "source": [
    "from experiments import pipeline, inferred"
   ]
  },
  {
   "cell_type": "code",
   "execution_count": 12,
   "id": "6ff9304d-1d6f-480e-82c1-33d245ae2b11",
   "metadata": {},
   "outputs": [
    {
     "name": "stderr",
     "output_type": "stream",
     "text": [
      "/nfs/home/bsparks/mdti4py/datasets/CrossDomainTypes4Py/chrisc36__umpy-allennlp/type4pyN1/all/inferred.csv: 100%|███████████████████████████████████████████████████████████████████████████████████████| 1550/1550 [00:10<00:00, 149.85it/s]\n"
     ]
    },
    {
     "name": "stdout",
     "output_type": "stream",
     "text": [
      "Loaded 1539 inference artifacts\n",
      "Initial prediction size: (1171294, 8)\n",
      "Deriving limited form\n"
     ]
    },
    {
     "name": "stderr",
     "output_type": "stream",
     "text": [
      "100%|█████████████████████████████████████████████████████████████████████████████████████████████████████████████████████████████████████████████████████████████████████████████████████████| 1171294/1171294 [00:10<00:00, 113361.45it/s]\n"
     ]
    },
    {
     "name": "stdout",
     "output_type": "stream",
     "text": [
      "Deriving adjusted form from limited form\n"
     ]
    },
    {
     "name": "stderr",
     "output_type": "stream",
     "text": [
      "100%|█████████████████████████████████████████████████████████████████████████████████████████████████████████████████████████████████████████████████████████████████████████████████████████| 1171294/1171294 [00:09<00:00, 126166.22it/s]\n"
     ]
    },
    {
     "name": "stdout",
     "output_type": "stream",
     "text": [
      "Size after joining predictions to groundtruth: (1054110, 12)\n"
     ]
    },
    {
     "name": "stderr",
     "output_type": "stream",
     "text": [
      "/nfs/home/bsparks/mdti4py/scripts/experiments/inferred.py:269: SettingWithCopyWarning: \n",
      "A value is trying to be set on a copy of a slice from a DataFrame.\n",
      "Try using .loc[row_indexer,col_indexer] = value instead\n",
      "\n",
      "See the caveats in the documentation: https://pandas.pydata.org/pandas-docs/stable/user_guide/indexing.html#returning-a-view-versus-a-copy\n",
      "  cleaned[clean_annos] = cleaned[clean_annos].fillna(\"<MISSING>\")\n"
     ]
    },
    {
     "name": "stdout",
     "output_type": "stream",
     "text": [
      "Reduced to evaluatable: (228284, 12)\n",
      "Deriving limited form\n"
     ]
    },
    {
     "name": "stderr",
     "output_type": "stream",
     "text": [
      "100%|█████████████████████████████████████████████████████████████████████████████████████████████████████████████████████████████████████████████████████████████████████████████████████████| 1171294/1171294 [00:09<00:00, 124161.51it/s]\n"
     ]
    },
    {
     "name": "stdout",
     "output_type": "stream",
     "text": [
      "Deriving adjusted form from limited form\n"
     ]
    },
    {
     "name": "stderr",
     "output_type": "stream",
     "text": [
      "100%|█████████████████████████████████████████████████████████████████████████████████████████████████████████████████████████████████████████████████████████████████████████████████████████| 1171294/1171294 [00:08<00:00, 134591.76it/s]\n"
     ]
    },
    {
     "name": "stdout",
     "output_type": "stream",
     "text": [
      "Deriving base form from adjusted form\n"
     ]
    },
    {
     "name": "stderr",
     "output_type": "stream",
     "text": [
      "100%|█████████████████████████████████████████████████████████████████████████████████████████████████████████████████████████████████████████████████████████████████████████████████████████| 1171294/1171294 [00:09<00:00, 122411.82it/s]\n"
     ]
    },
    {
     "name": "stdout",
     "output_type": "stream",
     "text": [
      "(1054110, 12)\n",
      "Reduced to evaluatable: (228284, 12)\n"
     ]
    },
    {
     "name": "stderr",
     "output_type": "stream",
     "text": [
      "/nfs/home/bsparks/mdti4py/scripts/experiments/inferred.py:269: SettingWithCopyWarning: \n",
      "A value is trying to be set on a copy of a slice from a DataFrame.\n",
      "Try using .loc[row_indexer,col_indexer] = value instead\n",
      "\n",
      "See the caveats in the documentation: https://pandas.pydata.org/pandas-docs/stable/user_guide/indexing.html#returning-a-view-versus-a-copy\n",
      "  cleaned[clean_annos] = cleaned[clean_annos].fillna(\"<MISSING>\")\n"
     ]
    }
   ],
   "source": [
    "type4py_inferred = inferred.load_entire_inferred(\n",
    "    artifact_root, dataset, tool_name=\"type4pyN1\", task=\"all\"\n",
    ")\n",
    "type4py_adjusted = pipeline.factory(\n",
    "    tool=\"type4pyN1\", \n",
    "    groundtruth=groundtruth, \n",
    "    inferred=type4py_inferred, \n",
    "    form=\"adjusted\"\n",
    ")\n",
    "type4py_base = pipeline.factory(\n",
    "    tool=\"type4pyN1\",\n",
    "    groundtruth=groundtruth,\n",
    "    inferred=type4py_inferred,\n",
    "    form=\"base\"\n",
    ")"
   ]
  },
  {
   "cell_type": "markdown",
   "id": "f46cfa28-4979-4899-88f2-388ddb784578",
   "metadata": {},
   "source": [
    "# Typilus"
   ]
  },
  {
   "cell_type": "code",
   "execution_count": 13,
   "id": "96558ff7-3960-41f6-8ae5-346765fd8575",
   "metadata": {},
   "outputs": [
    {
     "name": "stderr",
     "output_type": "stream",
     "text": [
      "/nfs/home/bsparks/mdti4py/datasets/CrossDomainTypes4Py/chrisc36__umpy-allennlp/typilusN1/all/inferred.csv: 100%|███████████████████████████████████████████████████████████████████████████████████████| 1550/1550 [00:10<00:00, 142.21it/s]\n"
     ]
    },
    {
     "name": "stdout",
     "output_type": "stream",
     "text": [
      "Loaded 1542 inference artifacts\n",
      "Initial prediction size: (1171258, 8)\n",
      "Deriving limited form\n"
     ]
    },
    {
     "name": "stderr",
     "output_type": "stream",
     "text": [
      "100%|█████████████████████████████████████████████████████████████████████████████████████████████████████████████████████████████████████████████████████████████████████████████████████████| 1171258/1171258 [00:10<00:00, 115789.57it/s]\n"
     ]
    },
    {
     "name": "stdout",
     "output_type": "stream",
     "text": [
      "Deriving adjusted form from limited form\n"
     ]
    },
    {
     "name": "stderr",
     "output_type": "stream",
     "text": [
      "100%|█████████████████████████████████████████████████████████████████████████████████████████████████████████████████████████████████████████████████████████████████████████████████████████| 1171258/1171258 [00:11<00:00, 104123.05it/s]\n"
     ]
    },
    {
     "name": "stdout",
     "output_type": "stream",
     "text": [
      "Size after joining predictions to groundtruth: (1012573, 12)\n"
     ]
    },
    {
     "name": "stderr",
     "output_type": "stream",
     "text": [
      "/nfs/home/bsparks/mdti4py/scripts/experiments/inferred.py:269: SettingWithCopyWarning: \n",
      "A value is trying to be set on a copy of a slice from a DataFrame.\n",
      "Try using .loc[row_indexer,col_indexer] = value instead\n",
      "\n",
      "See the caveats in the documentation: https://pandas.pydata.org/pandas-docs/stable/user_guide/indexing.html#returning-a-view-versus-a-copy\n",
      "  cleaned[clean_annos] = cleaned[clean_annos].fillna(\"<MISSING>\")\n"
     ]
    },
    {
     "name": "stdout",
     "output_type": "stream",
     "text": [
      "Reduced to evaluatable: (222302, 12)\n",
      "Deriving limited form\n"
     ]
    },
    {
     "name": "stderr",
     "output_type": "stream",
     "text": [
      "100%|█████████████████████████████████████████████████████████████████████████████████████████████████████████████████████████████████████████████████████████████████████████████████████████| 1171258/1171258 [00:09<00:00, 119560.57it/s]\n"
     ]
    },
    {
     "name": "stdout",
     "output_type": "stream",
     "text": [
      "Deriving adjusted form from limited form\n"
     ]
    },
    {
     "name": "stderr",
     "output_type": "stream",
     "text": [
      "100%|█████████████████████████████████████████████████████████████████████████████████████████████████████████████████████████████████████████████████████████████████████████████████████████| 1171258/1171258 [00:09<00:00, 118464.45it/s]\n"
     ]
    },
    {
     "name": "stdout",
     "output_type": "stream",
     "text": [
      "Deriving base form from adjusted form\n"
     ]
    },
    {
     "name": "stderr",
     "output_type": "stream",
     "text": [
      "100%|█████████████████████████████████████████████████████████████████████████████████████████████████████████████████████████████████████████████████████████████████████████████████████████| 1171258/1171258 [00:09<00:00, 119275.59it/s]\n"
     ]
    },
    {
     "name": "stdout",
     "output_type": "stream",
     "text": [
      "(1012573, 12)\n",
      "Reduced to evaluatable: (222302, 12)\n"
     ]
    },
    {
     "name": "stderr",
     "output_type": "stream",
     "text": [
      "/nfs/home/bsparks/mdti4py/scripts/experiments/inferred.py:269: SettingWithCopyWarning: \n",
      "A value is trying to be set on a copy of a slice from a DataFrame.\n",
      "Try using .loc[row_indexer,col_indexer] = value instead\n",
      "\n",
      "See the caveats in the documentation: https://pandas.pydata.org/pandas-docs/stable/user_guide/indexing.html#returning-a-view-versus-a-copy\n",
      "  cleaned[clean_annos] = cleaned[clean_annos].fillna(\"<MISSING>\")\n"
     ]
    }
   ],
   "source": [
    "typilus_inferred = inferred.load_entire_inferred(\n",
    "    artifact_root, dataset, tool_name=\"typilusN1\", task=\"all\"\n",
    ")\n",
    "typilus_adjusted = pipeline.factory(\n",
    "    tool=\"typilusN1\", \n",
    "    groundtruth=groundtruth, \n",
    "    inferred=typilus_inferred, \n",
    "    form=\"adjusted\"\n",
    ")\n",
    "typilus_base = pipeline.factory(\n",
    "    tool=\"typilusN1\",\n",
    "    groundtruth=groundtruth,\n",
    "    inferred=typilus_inferred,\n",
    "    form=\"base\"\n",
    ")"
   ]
  },
  {
   "cell_type": "markdown",
   "id": "d285456f-0eb8-428b-9080-f5e59e7ead82",
   "metadata": {},
   "source": [
    "# TypeT5"
   ]
  },
  {
   "cell_type": "code",
   "execution_count": 14,
   "id": "b56d0065-2fbe-477b-8bfe-4783c3138442",
   "metadata": {},
   "outputs": [
    {
     "name": "stderr",
     "output_type": "stream",
     "text": [
      "/nfs/home/bsparks/mdti4py/datasets/CrossDomainTypes4Py/chrisc36__umpy-allennlp/TypeT5TopN1/all/inferred.csv: 100%|█████████████████████████████████████████████████████████████████████████████████████| 1550/1550 [00:09<00:00, 156.20it/s]\n"
     ]
    },
    {
     "name": "stdout",
     "output_type": "stream",
     "text": [
      "Loaded 1483 inference artifacts\n",
      "Initial prediction size: (1151363, 8)\n",
      "Deriving limited form\n"
     ]
    },
    {
     "name": "stderr",
     "output_type": "stream",
     "text": [
      "100%|█████████████████████████████████████████████████████████████████████████████████████████████████████████████████████████████████████████████████████████████████████████████████████████| 1151363/1151363 [00:05<00:00, 216122.08it/s]\n"
     ]
    },
    {
     "name": "stdout",
     "output_type": "stream",
     "text": [
      "Deriving adjusted form from limited form\n"
     ]
    },
    {
     "name": "stderr",
     "output_type": "stream",
     "text": [
      "100%|█████████████████████████████████████████████████████████████████████████████████████████████████████████████████████████████████████████████████████████████████████████████████████████| 1151363/1151363 [00:05<00:00, 214469.43it/s]\n"
     ]
    },
    {
     "name": "stdout",
     "output_type": "stream",
     "text": [
      "Size after joining predictions to groundtruth: (584320, 12)\n",
      "Reduced to evaluatable: (206348, 12)\n"
     ]
    },
    {
     "name": "stderr",
     "output_type": "stream",
     "text": [
      "/nfs/home/bsparks/mdti4py/scripts/experiments/inferred.py:269: SettingWithCopyWarning: \n",
      "A value is trying to be set on a copy of a slice from a DataFrame.\n",
      "Try using .loc[row_indexer,col_indexer] = value instead\n",
      "\n",
      "See the caveats in the documentation: https://pandas.pydata.org/pandas-docs/stable/user_guide/indexing.html#returning-a-view-versus-a-copy\n",
      "  cleaned[clean_annos] = cleaned[clean_annos].fillna(\"<MISSING>\")\n"
     ]
    },
    {
     "name": "stdout",
     "output_type": "stream",
     "text": [
      "Deriving limited form\n"
     ]
    },
    {
     "name": "stderr",
     "output_type": "stream",
     "text": [
      "100%|█████████████████████████████████████████████████████████████████████████████████████████████████████████████████████████████████████████████████████████████████████████████████████████| 1151363/1151363 [00:05<00:00, 216108.39it/s]\n"
     ]
    },
    {
     "name": "stdout",
     "output_type": "stream",
     "text": [
      "Deriving adjusted form from limited form\n"
     ]
    },
    {
     "name": "stderr",
     "output_type": "stream",
     "text": [
      "100%|█████████████████████████████████████████████████████████████████████████████████████████████████████████████████████████████████████████████████████████████████████████████████████████| 1151363/1151363 [00:05<00:00, 203091.14it/s]\n"
     ]
    },
    {
     "name": "stdout",
     "output_type": "stream",
     "text": [
      "Deriving base form from adjusted form\n"
     ]
    },
    {
     "name": "stderr",
     "output_type": "stream",
     "text": [
      "100%|█████████████████████████████████████████████████████████████████████████████████████████████████████████████████████████████████████████████████████████████████████████████████████████| 1151363/1151363 [00:05<00:00, 218504.98it/s]\n"
     ]
    },
    {
     "name": "stdout",
     "output_type": "stream",
     "text": [
      "(584320, 12)\n",
      "Reduced to evaluatable: (206348, 12)\n"
     ]
    },
    {
     "name": "stderr",
     "output_type": "stream",
     "text": [
      "/nfs/home/bsparks/mdti4py/scripts/experiments/inferred.py:269: SettingWithCopyWarning: \n",
      "A value is trying to be set on a copy of a slice from a DataFrame.\n",
      "Try using .loc[row_indexer,col_indexer] = value instead\n",
      "\n",
      "See the caveats in the documentation: https://pandas.pydata.org/pandas-docs/stable/user_guide/indexing.html#returning-a-view-versus-a-copy\n",
      "  cleaned[clean_annos] = cleaned[clean_annos].fillna(\"<MISSING>\")\n"
     ]
    }
   ],
   "source": [
    "typet5_inferred = inferred.load_entire_inferred(\n",
    "    artifact_root, dataset, tool_name=\"TypeT5TopN1\", task=\"all\"\n",
    ")\n",
    "typet5_adjusted = pipeline.factory(\n",
    "    tool=\"TypeT5TopN1\",\n",
    "    groundtruth=groundtruth,\n",
    "    inferred=typet5_inferred,\n",
    "    form=\"adjusted\"\n",
    ")\n",
    "typet5_base = pipeline.factory(\n",
    "    tool=\"TypeT5TopN1\",\n",
    "    groundtruth=groundtruth,\n",
    "    inferred=typet5_inferred,\n",
    "    form=\"base\"\n",
    ")"
   ]
  },
  {
   "cell_type": "code",
   "execution_count": 17,
   "id": "32641655-93c3-45b8-aa5c-57e0fc185e57",
   "metadata": {},
   "outputs": [
    {
     "data": {
      "image/png": "[encoded data removed]",
      "text/plain": [
       "<Figure size 640x480 with 6 Axes>"
      ]
     },
     "metadata": {},
     "output_type": "display_data"
    },
    {
     "data": {
      "text/plain": [
       "<Figure size 500x1000 with 0 Axes>"
      ]
     },
     "metadata": {},
     "output_type": "display_data"
    },
    {
     "data": {
      "text/plain": [
       "<Figure size 500x1000 with 0 Axes>"
      ]
     },
     "metadata": {},
     "output_type": "display_data"
    },
    {
     "data": {
      "text/plain": [
       "<Figure size 500x1000 with 0 Axes>"
      ]
     },
     "metadata": {},
     "output_type": "display_data"
    }
   ],
   "source": [
    "import experiments.predictions\n",
    "import matplotlib.pyplot as plt\n",
    "importlib.reload(experiments.predictions)\n",
    "thres_figs, (ax1, ax2, ax3) = plt.subplots(nrows=3)\n",
    "\n",
    "ax1.set_title('Type4Py')\n",
    "type4py_base_ubiq = experiments.predictions.ubiquitous_types(type4py_base.replace(\"<MISSING>\", pd.NA).dropna())\n",
    "experiments.predictions.co_occurrences(\n",
    "    type4py_base_ubiq,\n",
    "    truth=\"gt_anno\",\n",
    "    pred=\"anno\",\n",
    "    threshold=0.00,\n",
    "    figsize=(5, 10),\n",
    "    ax=ax1\n",
    ")\n",
    "\n",
    "ax2.set_title('Typilus')\n",
    "typilus_base_ubiq = experiments.predictions.ubiquitous_types(typilus_base.replace(\"<MISSING>\", pd.NA).dropna())\n",
    "experiments.predictions.co_occurrences(\n",
    "    typilus_base_ubiq, \n",
    "    truth=\"gt_anno\", \n",
    "    pred=\"anno\", \n",
    "    threshold=0.00, \n",
    "    figsize=(5, 10), \n",
    "    ax=ax2\n",
    ")\n",
    "\n",
    "ax3.set_title('TypeT5')\n",
    "typet5_base_ubiq = experiments.predictions.ubiquitous_types(typet5_base.replace(\"<MISSING>\", pd.NA).dropna())\n",
    "experiments.predictions.co_occurrences(\n",
    "    typet5_base_ubiq, \n",
    "    truth=\"gt_anno\",\n",
    "    pred=\"anno\", \n",
    "    threshold=0.00,\n",
    "    figsize=(5, 10),\n",
    "    ax=ax3\n",
    ")\n",
    "\n",
    "thres_figs.tight_layout()\n",
    "thres_figs.show()"
   ]
  },
  {
   "cell_type": "code",
   "execution_count": null,
   "id": "19207d5b-3b72-4050-8ade-883ea68fc920",
   "metadata": {},
   "outputs": [],
   "source": [
    "ax1.show()"
   ]
  },
  {
   "cell_type": "markdown",
   "id": "f3730caa-d0fa-4046-af32-3a8e223ad3c4",
   "metadata": {},
   "source": [
    "# Overlap: Capture per symbol diversity"
   ]
  },
  {
   "cell_type": "code",
   "execution_count": null,
   "id": "9d20744a-1f5c-4ae9-882c-59129c6d1b2a",
   "metadata": {},
   "outputs": [],
   "source": [
    "!pip install matplotlib-venn\n",
    "from matplotlib_venn import venn3"
   ]
  },
  {
   "cell_type": "code",
   "execution_count": null,
   "id": "49f76654-5406-4511-8abd-8036322d2453",
   "metadata": {},
   "outputs": [],
   "source": [
    "ignore = [\"gt_anno\", \"topn\", \"method\"]\n",
    "\n",
    "common_predictions = type4py_adjusted.drop(columns=ignore).merge(\n",
    "    typilus_adjusted.drop(columns=ignore), \n",
    "    how=\"outer\", \n",
    "    on=[\"repository\", \"category\", \"file\", \"qname\", \"qname_ssa\"], \n",
    "    suffixes=(\"_type4py\", \"_typilus\")\n",
    ").merge(\n",
    "    typet5_adjusted.drop(columns=ignore).rename(columns={\"anno\": \"anno_typet5\"}),\n",
    "    how=\"outer\", \n",
    "    on=[\"repository\", \"category\", \"file\", \"qname\", \"qname_ssa\"]\n",
    ")\n",
    "\n",
    "common_predictions = pd.merge(\n",
    "    left=common_predictions,\n",
    "    right=groundtruth,\n",
    "    how=\"left\",\n",
    "    on=[\"repository\", \"category\", \"file\", \"qname\", \"qname_ssa\"],\n",
    ").replace(\"<MISSING>\", pd.NA).dropna(subset=[\"adjusted_anno\", \"anno_type4py\", \"anno_typilus\", \"anno_typet5\"], how=\"all\", axis=0)\n",
    "    \n",
    "#display(common_predictions[\"adjusted_anno\"].value_counts())\n",
    "common_predictions[[\"anno_type4py\", \"anno_typilus\", \"anno_typet5\"]] = common_predictions[[\"anno_type4py\", \"anno_typilus\", \"anno_typet5\"]]#.fillna(\"<MISSING>\")\n",
    "common_predictions[[\"adjusted_anno\", \"anno_type4py\", \"anno_typilus\", \"anno_typet5\"]]"
   ]
  },
  {
   "cell_type": "code",
   "execution_count": null,
   "id": "c04855f3-6992-46b8-bafa-b59b7ea31140",
   "metadata": {
    "scrolled": true
   },
   "outputs": [],
   "source": [
    "!pip install upsetplot\n",
    "import upsetplot"
   ]
  },
  {
   "cell_type": "code",
   "execution_count": null,
   "id": "39a432bc-70a9-4257-afd2-bcb8160839df",
   "metadata": {},
   "outputs": [],
   "source": [
    "aligned = pd.DataFrame()\n",
    "for relevant in [\"adjusted_anno\", \"anno_type4py\", \"anno_typilus\", \"anno_typet5\"]:\n",
    "    aligned[relevant] = common_predictions.index.astype(\"string\") + common_predictions[relevant].fillna(pd.NA)\n",
    "\n",
    "aligned[[\"adjusted_anno\", \"anno_type4py\", \"anno_typilus\", \"anno_typet5\"]]"
   ]
  },
  {
   "cell_type": "code",
   "execution_count": null,
   "id": "386c3bfa-ed6e-4453-b2eb-4068c7d3671f",
   "metadata": {},
   "outputs": [],
   "source": [
    "venn3(\n",
    "    (set(aligned[\"anno_type4py\"].tolist()), set(aligned[\"anno_typilus\"].tolist()), set(aligned[\"anno_typet5\"].tolist())),\n",
    "    set_labels=('Type4Py', 'Typilus', 'TypeT5'),\n",
    ")"
   ]
  },
  {
   "cell_type": "code",
   "execution_count": null,
   "id": "694c6f78-6758-49ca-928e-82e67b4a2963",
   "metadata": {
    "scrolled": true
   },
   "outputs": [],
   "source": [
    "relevant = aligned[[\"adjusted_anno\", \"anno_type4py\", \"anno_typilus\", \"anno_typet5\"]]\n",
    "\n",
    "gt_anno, type4py, typilus, typet5 = relevant.T.to_dict(\"records\")\n",
    "\n",
    "contents = {\n",
    "    #\"ground_truth\": set(gt_anno.values()),\n",
    "    \"Typilus\": set(typilus.values()).difference({None, pd.NA}),\n",
    "    \"Type4Py\": set(type4py.values()).difference({None, pd.NA}),\n",
    "    \"TypeT5\": set(typet5.values()).difference({None, pd.NA}),\n",
    "}\n",
    "\n",
    "import upsetplot\n",
    "predictions_by_model = upsetplot.from_contents(contents)\n",
    "predictions_by_model\n",
    "\n",
    "upsetplot.UpSet(predictions_by_model, show_counts=True, subset_size='count')"
   ]
  },
  {
   "cell_type": "code",
   "execution_count": null,
   "id": "83b56a5c-aeb9-4705-82dd-996aeaf6b291",
   "metadata": {},
   "outputs": [],
   "source": [
    "relevant = aligned[[\"adjusted_anno\", \"anno_type4py\", \"anno_typilus\", \"anno_typet5\"]]\n",
    "gt_anno, type4py, typilus, typet5 = relevant.T.to_dict(\"records\")\n",
    "\n",
    "contents = {\n",
    "    \"GT\": set(gt_anno.values()).difference({None, pd.NA}),\n",
    "    \"Typilus\": set(typilus.values()).difference({None, pd.NA}),\n",
    "    \"Type4Py\": set(type4py.values()).difference({None, pd.NA}),\n",
    "    \"TypeT5\": set(typet5.values()).difference({None, pd.NA}),\n",
    "}\n",
    "\n",
    "import upsetplot\n",
    "predictions_by_model = upsetplot.from_contents(contents)\n",
    "predictions_by_model\n",
    "\n",
    "upsetplot.UpSet(predictions_by_model, show_counts=True, subset_size='count')"
   ]
  },
  {
   "cell_type": "code",
   "execution_count": null,
   "id": "202da293-b4f0-4604-9eec-cc4b7a91ea02",
   "metadata": {},
   "outputs": [],
   "source": [
    "# Investigate types not predicted by any model:\n",
    "missed_entirely = common_predictions[\n",
    "    (common_predictions[\"anno_typet5\"] != common_predictions[\"adjusted_anno\"]) &\n",
    "    (common_predictions[\"anno_type4py\"] != common_predictions[\"adjusted_anno\"]) &\n",
    "    (common_predictions[\"anno_typilus\"] != common_predictions[\"adjusted_anno\"])\n",
    "]\n",
    "missed_entirely[[\"repository\", \"file\", \"qname_ssa\", \"adjusted_anno\",\"anno_typet5\", \"anno_type4py\", \"anno_typilus\"]]"
   ]
  },
  {
   "cell_type": "code",
   "execution_count": null,
   "id": "c84e0b33-077d-48c6-a7cf-829b0f54e383",
   "metadata": {},
   "outputs": [],
   "source": [
    "missed_entirely[\"adjusted_anno\"].value_counts()"
   ]
  },
  {
   "cell_type": "code",
   "execution_count": null,
   "id": "77262939-975e-4431-a6e8-362a06f0983f",
   "metadata": {},
   "outputs": [],
   "source": [
    "for anno in [\"type4py\", \"typilus\", \"typet5\"]:\n",
    "    print(missed_entirely[[\"adjusted_anno\", f\"anno_{anno}\"]].value_counts())"
   ]
  },
  {
   "cell_type": "code",
   "execution_count": null,
   "id": "f239ba46-e46a-4a3d-91d1-2fd96af6066c",
   "metadata": {},
   "outputs": [],
   "source": []
  }
 ],
 "metadata": {
  "kernelspec": {
   "display_name": "Python 3 (ipykernel)",
   "language": "python",
   "name": "python3"
  },
  "language_info": {
   "codemirror_mode": {
    "name": "ipython",
    "version": 3
   },
   "file_extension": ".py",
   "mimetype": "text/x-python",
   "name": "python",
   "nbconvert_exporter": "python",
   "pygments_lexer": "ipython3",
   "version": "3.10.12"
  }
 },
 "nbformat": 4,
 "nbformat_minor": 5
}
