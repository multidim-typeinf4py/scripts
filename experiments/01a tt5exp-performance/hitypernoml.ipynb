{
 "cells": [
  {
   "cell_type": "markdown",
   "metadata": {},
   "source": [
    "# BT4Py HiTyper Without ML Top-1"
   ]
  },
  {
   "cell_type": "code",
   "execution_count": 1,
   "metadata": {},
   "outputs": [
    {
     "name": "stdout",
     "output_type": "stream",
     "text": [
      "/home/benji/Documents/Uni/heidelberg/05/masterarbeit/impls/scripts/experiments\n"
     ]
    }
   ],
   "source": [
    "%load_ext autoreload\n",
    "%autoreload 2\n",
    "\n",
    "%pwd\n",
    "%cd /home/benji/Documents/Uni/heidelberg/05/masterarbeit/impls/scripts/experiments"
   ]
  },
  {
   "cell_type": "code",
   "execution_count": 2,
   "metadata": {},
   "outputs": [
    {
     "data": {
      "text/plain": [
       "polars.config.Config"
      ]
     },
     "execution_count": 2,
     "metadata": {},
     "output_type": "execute_result"
    }
   ],
   "source": [
    "import polars as pl\n",
    "\n",
    "pl.Config.set_fmt_str_lengths(300)\n",
    "pl.Config.set_tbl_rows(n=50)"
   ]
  },
  {
   "cell_type": "code",
   "execution_count": 3,
   "metadata": {},
   "outputs": [
    {
     "name": "stderr",
     "output_type": "stream",
     "text": [
      "2023-07-27 18:03:33.345413: I tensorflow/core/platform/cpu_feature_guard.cc:182] This TensorFlow binary is optimized to use available CPU instructions in performance-critical operations.\n",
      "To enable the following instructions: AVX2 FMA, in other operations, rebuild TensorFlow with the appropriate compiler flags.\n",
      "2023-07-27 18:03:34.079141: W tensorflow/compiler/tf2tensorrt/utils/py_utils.cc:38] TF-TRT Warning: Could not find TensorRT\n"
     ]
    }
   ],
   "source": [
    "import pathlib\n",
    "\n",
    "from scripts.common.schemas import TypeCollectionCategory\n",
    "from scripts.infer.structure import DatasetFolderStructure\n",
    "\n",
    "tool = \"HiTyperNoML\"\n",
    "dataset = DatasetFolderStructure(pathlib.Path(\n",
    "    \"/home/benji/Documents/Uni/heidelberg/05/masterarbeit/datasets/better-types-4-py-dataset\"\n",
    "))\n"
   ]
  },
  {
   "cell_type": "code",
   "execution_count": 4,
   "metadata": {},
   "outputs": [
    {
     "name": "stderr",
     "output_type": "stream",
     "text": [
      "[HiTyperNoML @ INFO]: Hello World!\n"
     ]
    }
   ],
   "source": [
    "import logging\n",
    "from importlib import reload\n",
    "\n",
    "logging.shutdown()\n",
    "reload(logging)\n",
    "\n",
    "logger = logging.getLogger(__name__)\n",
    "logger.setLevel(logging.DEBUG)\n",
    "for handler in logger.handlers:\n",
    "    logger.removeHandler(handler)\n",
    "ch = logging.StreamHandler()\n",
    "ch.setLevel(logging.DEBUG)\n",
    "\n",
    "ch.setFormatter(logging.Formatter(f\"[{tool} @ %(levelname)s]: %(message)s\"))\n",
    "logger.addHandler(ch)\n",
    "\n",
    "logger.info(\"Hello World!\")\n"
   ]
  },
  {
   "cell_type": "markdown",
   "metadata": {},
   "source": [
    "#  Prediction Metrics for Full Accuracy"
   ]
  },
  {
   "cell_type": "code",
   "execution_count": 7,
   "metadata": {
    "scrolled": true
   },
   "outputs": [
    {
     "name": "stdout",
     "output_type": "stream",
     "text": [
      "50\n"
     ]
    },
    {
     "name": "stderr",
     "output_type": "stream",
     "text": [
      "\n",
      "Parsing labels:   0%|                                                                          | 0/50 [00:00<?, ?it/s]\u001b[A\n",
      "Parsing labels:   2%|█▎                                                                | 1/50 [00:01<01:23,  1.70s/it]\u001b[A\n",
      "Parsing labels:   4%|██▋                                                               | 2/50 [00:02<01:05,  1.36s/it]\u001b[A\n",
      "Parsing labels:   6%|███▉                                                              | 3/50 [00:03<00:44,  1.05it/s]\u001b[A\n",
      "Parsing labels:   8%|█████▎                                                            | 4/50 [00:06<01:18,  1.70s/it]\u001b[A\n",
      "Parsing labels:  10%|██████▌                                                           | 5/50 [00:07<01:05,  1.46s/it]\u001b[A\n",
      "Parsing labels:  12%|███████▉                                                          | 6/50 [00:25<05:10,  7.07s/it]\u001b[A\n",
      "Parsing labels:  14%|█████████▏                                                        | 7/50 [00:30<04:34,  6.37s/it]\u001b[A\n",
      "Parsing labels:  16%|██████████▌                                                       | 8/50 [00:30<03:14,  4.63s/it]\u001b[A\n",
      "Parsing labels:  18%|███████████▉                                                      | 9/50 [00:31<02:13,  3.25s/it]\u001b[A\n",
      "Parsing labels:  20%|█████████████                                                    | 10/50 [00:31<01:38,  2.45s/it]\u001b[A\n",
      "Parsing labels:  22%|██████████████▎                                                  | 11/50 [00:32<01:16,  1.96s/it]\u001b[A\n",
      "Parsing labels:  24%|███████████████▌                                                 | 12/50 [00:34<01:12,  1.91s/it]\u001b[A\n",
      "Parsing labels:  26%|████████████████▉                                                | 13/50 [00:34<00:53,  1.43s/it]\u001b[A\n",
      "Parsing labels:  30%|███████████████████▌                                             | 15/50 [00:36<00:41,  1.18s/it]\u001b[A\n",
      "Parsing labels:  32%|████████████████████▊                                            | 16/50 [00:40<00:58,  1.73s/it]\u001b[A\n",
      "Parsing labels:  34%|██████████████████████                                           | 17/50 [00:41<00:53,  1.63s/it]\u001b[A\n",
      "Parsing labels:  36%|███████████████████████▍                                         | 18/50 [00:46<01:21,  2.56s/it]\u001b[A\n",
      "Parsing labels:  38%|████████████████████████▋                                        | 19/50 [00:50<01:33,  3.00s/it]\u001b[A\n",
      "Parsing labels:  40%|██████████████████████████                                       | 20/50 [00:50<01:07,  2.24s/it]\u001b[A\n",
      "Parsing labels:  42%|███████████████████████████▎                                     | 21/50 [00:51<00:52,  1.81s/it]\u001b[A\n",
      "Parsing labels:  44%|████████████████████████████▌                                    | 22/50 [00:55<01:10,  2.51s/it]\u001b[A\n",
      "Parsing labels:  46%|█████████████████████████████▉                                   | 23/50 [00:56<00:54,  2.02s/it]\u001b[A\n",
      "Parsing labels:  48%|███████████████████████████████▏                                 | 24/50 [00:57<00:46,  1.78s/it]\u001b[A\n",
      "Parsing labels:  50%|████████████████████████████████▌                                | 25/50 [00:58<00:36,  1.47s/it]\u001b[A\n",
      "Parsing labels:  52%|█████████████████████████████████▊                               | 26/50 [00:59<00:29,  1.25s/it]\u001b[A\n",
      "Parsing labels:  54%|███████████████████████████████████                              | 27/50 [01:00<00:26,  1.14s/it]\u001b[A\n",
      "Parsing labels:  56%|████████████████████████████████████▍                            | 28/50 [01:00<00:18,  1.17it/s]\u001b[A\n",
      "Parsing labels:  58%|█████████████████████████████████████▋                           | 29/50 [01:07<00:55,  2.64s/it]\u001b[A\n",
      "Parsing labels:  60%|███████████████████████████████████████                          | 30/50 [01:07<00:39,  1.95s/it]\u001b[A\n",
      "Parsing labels:  62%|████████████████████████████████████████▎                        | 31/50 [01:09<00:34,  1.83s/it]\u001b[A\n",
      "Parsing labels:  64%|█████████████████████████████████████████▌                       | 32/50 [01:09<00:26,  1.45s/it]\u001b[A\n",
      "Parsing labels:  66%|██████████████████████████████████████████▉                      | 33/50 [01:10<00:19,  1.15s/it]\u001b[A\n",
      "Parsing labels:  68%|████████████████████████████████████████████▏                    | 34/50 [01:10<00:14,  1.12it/s]\u001b[A\n",
      "Parsing labels:  70%|█████████████████████████████████████████████▌                   | 35/50 [01:13<00:22,  1.52s/it]\u001b[A\n",
      "Parsing labels:  72%|██████████████████████████████████████████████▊                  | 36/50 [01:14<00:19,  1.37s/it]\u001b[A\n",
      "Parsing labels:  74%|████████████████████████████████████████████████                 | 37/50 [01:14<00:14,  1.11s/it]\u001b[A\n",
      "Parsing labels:  76%|█████████████████████████████████████████████████▍               | 38/50 [01:16<00:15,  1.29s/it]\u001b[A\n",
      "Parsing labels:  78%|██████████████████████████████████████████████████▋              | 39/50 [01:20<00:21,  1.92s/it]\u001b[A\n",
      "Parsing labels:  80%|████████████████████████████████████████████████████             | 40/50 [01:21<00:18,  1.82s/it]\u001b[A\n",
      "Parsing labels:  82%|█████████████████████████████████████████████████████▎           | 41/50 [01:24<00:19,  2.11s/it]\u001b[A\n",
      "Parsing labels:  84%|██████████████████████████████████████████████████████▌          | 42/50 [01:28<00:22,  2.83s/it]\u001b[A\n",
      "Parsing labels:  86%|███████████████████████████████████████████████████████▉         | 43/50 [01:31<00:18,  2.62s/it]\u001b[A\n",
      "Parsing labels:  88%|█████████████████████████████████████████████████████████▏       | 44/50 [01:31<00:11,  1.95s/it]\u001b[A\n",
      "Parsing labels:  90%|██████████████████████████████████████████████████████████▌      | 45/50 [01:31<00:07,  1.47s/it]\u001b[A\n",
      "Parsing labels:  92%|███████████████████████████████████████████████████████████▊     | 46/50 [01:40<00:14,  3.56s/it]\u001b[A\n",
      "Parsing labels:  94%|█████████████████████████████████████████████████████████████    | 47/50 [01:41<00:08,  2.89s/it]\u001b[A\n",
      "Parsing labels:  96%|██████████████████████████████████████████████████████████████▍  | 48/50 [01:44<00:05,  2.84s/it]\u001b[A\n",
      "Parsing labels:  98%|███████████████████████████████████████████████████████████████▋ | 49/50 [01:47<00:02,  2.91s/it]\u001b[A\n",
      "Parsing labels: 100%|█████████████████████████████████████████████████████████████████| 50/50 [01:49<00:00,  2.18s/it]\u001b[A\n"
     ]
    }
   ],
   "source": [
    "import pathlib, shutil, tqdm\n",
    "\n",
    "from typet5.static_analysis import PythonProject\n",
    "from typet5.experiments.utils import remove_newer_syntax_for_repo\n",
    "from typet5.experiments.type4py import Type4PySupportedSyntax\n",
    "\n",
    "name_to_location = {r.name: r for r in dataset.test_set() if r.is_dir()}\n",
    "print(len(name_to_location))\n",
    "\n",
    "name_to_parsed = {\n",
    "    name: PythonProject.parse_from_root(root, discard_bad_files=True) \n",
    "    for name, root in tqdm.tqdm(name_to_location.items(), \"Parsing labels\")\n",
    "}\n",
    "# print(name_to_parsed[\"ActivityWatch__aw-research\"])"
   ]
  },
  {
   "cell_type": "code",
   "execution_count": 8,
   "metadata": {},
   "outputs": [
    {
     "data": {
      "application/vnd.jupyter.widget-view+json": {
       "model_id": "d98853e789d24be98519e323a163db72",
       "version_major": 2,
       "version_minor": 0
      },
      "text/plain": [
       "Fetching 9 files:   0%|          | 0/9 [00:00<?, ?it/s]"
      ]
     },
     "metadata": {},
     "output_type": "display_data"
    }
   ],
   "source": [
    "# Constants\n",
    "# Common Type Names\n",
    "from typet5.model import ModelWrapper\n",
    "model = ModelWrapper.load_from_hub(\"MrVPlusOne/TypeT5-v7\")\n",
    "common_names = model.common_type_names\n",
    "del model\n",
    "\n",
    "from scripts.common.schemas import TypeCollectionCategory"
   ]
  },
  {
   "cell_type": "code",
   "execution_count": 11,
   "metadata": {},
   "outputs": [],
   "source": [
    "import pathlib, collections\n",
    "\n",
    "# Because our analysis reviews more datapoints than these models actually regard, reuse TypeT5 metrics instead\n",
    "def typet5_metrics_4_hitt5(task: TypeCollectionCategory | str) -> None:\n",
    "    def cleanup_predictions(predictions: dict) -> dict:\n",
    "        # {'global@global': [{'category': 'local', 'name': '__all__', 'type': ['tuple[typing.Text]']}]}\n",
    "        rewritten_predictions = collections.defaultdict(list)\n",
    "        for scope, ps in predictions.items():\n",
    "            for p in ps:\n",
    "                rewritten_p = p.copy()\n",
    "                rewritten_p[\"type\"] = [ty.replace(\"typing.Text\", \"str\") for ty in rewritten_p[\"type\"]]\n",
    "                \n",
    "                # if rewritten_p[\"type\"] or rewritten_p[\"category\"] != \"local\":\n",
    "                rewritten_predictions[scope].append(rewritten_p)\n",
    "        \n",
    "        return rewritten_predictions\n",
    "    \n",
    "    from scripts.common.output import InferenceArtifactIO\n",
    "\n",
    "    test_set = dataset.test_set()\n",
    "\n",
    "    proj2datasets = [\n",
    "        (\n",
    "            project,\n",
    "            InferenceArtifactIO(\n",
    "                artifact_root=pathlib.Path(),\n",
    "                dataset=dataset,\n",
    "                repository=project,\n",
    "                tool_name=tool,\n",
    "                task=task,\n",
    "            ),\n",
    "        )\n",
    "        for project in test_set\n",
    "    ]\n",
    "    existing = dict(\n",
    "        (project, artifact)\n",
    "        for project, artifact in proj2datasets\n",
    "        if artifact.full_location().exists()\n",
    "    )\n",
    "    \n",
    "    from importlib import reload\n",
    "\n",
    "    from libcst import helpers as h\n",
    "    import tqdm\n",
    "\n",
    "\n",
    "    from typet5.experiments import hityper, type4py\n",
    "    from typet5.static_analysis import PythonProject, SignatureMap, AccuracyMetric, SignatureErrorAnalysis\n",
    "    from typet5.experiments.typet5 import accs_as_table_row\n",
    "    from typet5.visualization import pretty_print_dict\n",
    "    import pprint\n",
    "    reload(hityper)\n",
    "\n",
    "    assignments = dict[str, SignatureMap]()\n",
    "    projects = dict[str, PythonProject]()\n",
    "\n",
    "    for (project, artifact) in tqdm.tqdm(existing.items(), desc=f\"Loading predictions from {task}\"):\n",
    "        model_predictions, hityper_predictions, _ = artifact.read()\n",
    "        \n",
    "        # rewritten_project_location = name_to_location[project.name]\n",
    "        rewritten_project_parsed = name_to_parsed[project.name]\n",
    "        \n",
    "        # pprint.pprint(hity4py_predictions)\n",
    "        # print()\n",
    "        \n",
    "        sigmap = SignatureMap()\n",
    "        for fname, mres in hityper_predictions.items():\n",
    "            #print(f\"{fname=}, {mres=}\")\n",
    "            \n",
    "            mres_rewritten = cleanup_predictions(mres)\n",
    "            #print(fname, mres_rewritten)\n",
    "\n",
    "            # Removing first three path tokens from fname because they represent the temporary directory / tmp and tmpasdas\n",
    "            root, tmp, tmpfolder, *project_parts = pathlib.Path(fname).parts       \n",
    "            mname = PythonProject.rel_path_to_module_name(pathlib.Path(*project_parts))\n",
    "            \n",
    "            parser = hityper.HiTyperResponseParser(module=mname)\n",
    "            sigmap.update(parser.parse(mres_rewritten))\n",
    "        \n",
    "            #print(f\"Adding sigmap for {mname}\")\n",
    "        assignments[project.name] = sigmap\n",
    "        \n",
    "        #print(f\"Registering labels for {rewritten_project_location.name}\")\n",
    "        projects[project.name] = rewritten_project_parsed\n",
    "    \n",
    "    label_signatures: dict[str, SignatureMap] = {\n",
    "        project_name: {e.path: e.get_signature() for e in project.all_elems()}\n",
    "        for project_name, project in projects.items()\n",
    "    }\n",
    "    \n",
    "    pred_signatures = assignments\n",
    "    \n",
    "    print(f\"{len(label_signatures)=}, {len(pred_signatures)=}\")\n",
    "    \n",
    "    #for (pname, mname), o in zip(module_srcs, assignments):        \n",
    "        # pred_signatures[pname].update(o)\n",
    "\n",
    "    # print(\"LABEL SIGS:\", \"ActivityWatch__aw-research\", label_signatures[\"ActivityWatch__aw-research\"], \"\\n\")\n",
    "    # print(\"PRED SIGS:\", \"ActivityWatch__aw-research\", pred_signatures[\"ActivityWatch__aw-research\"], \"\\n\")\n",
    "\n",
    "    eval_result = type4py.Type4PyEvalResult(\n",
    "        pred_maps=pred_signatures,\n",
    "        label_maps=label_signatures,\n",
    "    )\n",
    "    \n",
    "    metrics = AccuracyMetric.default_metrics(common_type_names=common_names)\n",
    "    # acc_metric = AccuracyMetric(common_type_names=ubiq_names)\n",
    "\n",
    "    n_annots = sum([e.get_signature().n_annots() for _, p in projects.items() for e in p.all_elems()])\n",
    "    n_labels = sum([e.n_annotated() for lm in eval_result.label_maps.values() for e in lm.values()])\n",
    "    \n",
    "    logger.info(f\"n_annots: {n_annots}, n_labels: {n_labels}\")\n",
    "    logger.info(f\"Ratio: {n_labels / n_annots}\")\n",
    "    \n",
    "    accs = {\n",
    "        m.name: SignatureErrorAnalysis(\n",
    "            eval_result.pred_maps,\n",
    "            eval_result.label_maps,\n",
    "            m,\n",
    "            error_on_mismatched_signature=False,\n",
    "        ).accuracies\n",
    "        for m in metrics\n",
    "    }\n",
    "    accs_as_table_row(accs)\n",
    "    pretty_print_dict(accs)"
   ]
  },
  {
   "cell_type": "code",
   "execution_count": 12,
   "metadata": {},
   "outputs": [
    {
     "name": "stderr",
     "output_type": "stream",
     "text": [
      "\n",
      "Loading predictions from all:   0%|                                                            | 0/50 [00:00<?, ?it/s]\u001b[A\n",
      "Loading predictions from all:  12%|██████▏                                             | 6/50 [00:00<00:01, 25.32it/s]\u001b[A\n",
      "Loading predictions from all:  24%|████████████▏                                      | 12/50 [00:00<00:01, 35.81it/s]\u001b[A\n",
      "Loading predictions from all:  36%|██████████████████▎                                | 18/50 [00:00<00:00, 38.24it/s]\u001b[A\n",
      "Loading predictions from all:  46%|███████████████████████▍                           | 23/50 [00:00<00:00, 39.09it/s]\u001b[A\n",
      "Loading predictions from all:  60%|██████████████████████████████▌                    | 30/50 [00:00<00:00, 47.63it/s]\u001b[A\n",
      "Loading predictions from all:  76%|██████████████████████████████████████▊            | 38/50 [00:00<00:00, 56.64it/s]\u001b[A\n",
      "Loading predictions from all: 100%|███████████████████████████████████████████████████| 50/50 [00:01<00:00, 41.84it/s]\u001b[A\n"
     ]
    },
    {
     "name": "stdout",
     "output_type": "stream",
     "text": [
      "len(label_signatures)=50, len(pred_signatures)=50\n"
     ]
    },
    {
     "name": "stderr",
     "output_type": "stream",
     "text": [
      "[HiTyperNoML @ INFO]: n_annots: 30070, n_labels: 16520\n",
      "[HiTyperNoML @ INFO]: Ratio: 0.5493847688726305\n"
     ]
    },
    {
     "name": "stdout",
     "output_type": "stream",
     "text": [
      "[((ty'None', ty'str'), 97),\n",
      " ((ty'None', ty'Union[None, str]'), 94),\n",
      " ((ty'List', ty'List[str]'), 33),\n",
      " ((ty'None', ty'Any'), 33),\n",
      " ((ty'None', ty'Union[None, int]'), 32),\n",
      " ((ty'None', ty'bool'), 23),\n",
      " ((ty'None', ty'Union[IPersistentMap, None]'), 23),\n",
      " ((ty'None', ty'List[str]'), 18),\n",
      " ((ty'None', ty'int'), 16),\n",
      " ((ty'Tuple[str]', ty'Reply'), 15),\n",
      " ((ty'None', ty'Union[None, T]'), 13),\n",
      " ((ty'None', ty'Union[None, bool]'), 13),\n",
      " ((ty'None', ty'Union[Context, None]'), 12),\n",
      " ((ty'None', ty'Union[ISeq[T], None]'), 10),\n",
      " ((ty'None', ty'Union[MetaNode, None]'), 10),\n",
      " ((ty'Dict', ty'Dict[str, str]'), 10),\n",
      " ((ty'Tuple[Union[Dict, Set]]',\n",
      "   ty't.Tuple[t.Set[exceptions.Error], model.ParamMapping]'),\n",
      "  10),\n",
      " ((ty'None', ty'QueryDomain'), 10),\n",
      " ((ty'None', ty'Union[None, ScanCommandExtraArgument]'), 10),\n",
      " ((ty'List', ty'List[int]'), 9)]\n",
      "[((ty'None', ty'str'), 97),\n",
      " ((ty'None', ty'Union[None, str]'), 94),\n",
      " ((ty'List', ty'List[str]'), 33),\n",
      " ((ty'None', ty'Any'), 33),\n",
      " ((ty'None', ty'Union[None, int]'), 32),\n",
      " ((ty'None', ty'bool'), 23),\n",
      " ((ty'None', ty'List[str]'), 18),\n",
      " ((ty'None', ty'int'), 16),\n",
      " ((ty'None', ty'Union[None, T]'), 13),\n",
      " ((ty'None', ty'Union[None, bool]'), 13),\n",
      " ((ty'None', ty'Union[Context, None]'), 12),\n",
      " ((ty'Dict', ty'Dict[str, str]'), 10),\n",
      " ((ty'List', ty'List[int]'), 9),\n",
      " ((ty'None', ty'Union[Dict[str, str], None]'), 8),\n",
      " ((ty'None', ty'Dict'), 8),\n",
      " ((ty'Tuple[int]', ty'Tuple[int, int]'), 7),\n",
      " ((ty'None', ty'Union[List[str], None]'), 7),\n",
      " ((ty'Union[str]', ty'str'), 7),\n",
      " ((ty'Dict', ty'Dict[str, Any]'), 7),\n",
      " ((ty'typing.Generator', ty'Iterator[None]'), 7)]\n",
      "[((ty'None', ty'Union[IPersistentMap, None]'), 23),\n",
      " ((ty'Tuple[str]', ty'Reply'), 15),\n",
      " ((ty'None', ty'Union[ISeq[T], None]'), 10),\n",
      " ((ty'None', ty'Union[MetaNode, None]'), 10),\n",
      " ((ty'Tuple[Union[Dict, Set]]',\n",
      "   ty't.Tuple[t.Set[exceptions.Error], model.ParamMapping]'),\n",
      "  10),\n",
      " ((ty'None', ty'QueryDomain'), 10),\n",
      " ((ty'None', ty'Union[None, ScanCommandExtraArgument]'), 10),\n",
      " ((ty'Tuple[int]', ty'StrIntT'), 9),\n",
      " ((ty'None', ty'Language'), 9),\n",
      " ((ty'None', ty'Timeouts'), 8),\n",
      " ((ty'None', ty'HeadersType'), 8),\n",
      " ((ty'None', ty'ParamsType'), 8),\n",
      " ((ty'None', ty'Union[None, Organization]'), 8),\n",
      " ((ty'None', ty'SSLContext'), 7),\n",
      " ((ty'None', ty'SwitcherBaseResponse'), 7),\n",
      " ((ty'typing.Generator', ty'Iterable[ParseResult]'), 7),\n",
      " ((ty'None', ty'Union[IPersistentSet[kw.Keyword], None]'), 6),\n",
      " ((ty'None', ty'Union[None, RefValidator]'), 5),\n",
      " ((ty'None', ty'BasilispModule'), 5),\n",
      " ((ty'None', ty'Resolver'), 5)]\n",
      "[((ty'None', ty'str'), 191),\n",
      " ((ty'None', ty'int'), 48),\n",
      " ((ty'None', ty'bool'), 36),\n",
      " ((ty'List', ty'List[str]'), 35),\n",
      " ((ty'None', ty'List[str]'), 26),\n",
      " ((ty'None', ty'IPersistentMap'), 24),\n",
      " ((ty'None', ty'T'), 19),\n",
      " ((ty'Tuple[str]', ty'Reply'), 15),\n",
      " ((ty'None', ty'ISeq[T]'), 13),\n",
      " ((ty'None', ty'Context'), 12),\n",
      " ((ty'None', ty'Dict'), 11),\n",
      " ((ty'Dict', ty'Dict[str, str]'), 11),\n",
      " ((ty'None', ty'MetaNode'), 10),\n",
      " ((ty'Dict', ty'Dict[str, Any]'), 10),\n",
      " ((ty'Tuple[Union[Dict, Set]]', ty'Tuple[Set[Error], ParamMapping]'), 10),\n",
      " ((ty'None', ty'QueryDomain'), 10),\n",
      " ((ty'None', ty'ScanCommandExtraArgument'), 10),\n",
      " ((ty'List', ty'List[int]'), 9),\n",
      " ((ty'None', ty'Dict[str, str]'), 9),\n",
      " ((ty'int', ty'float'), 9)]\n",
      "[((ty'None', ty'str'), 191),\n",
      " ((ty'None', ty'int'), 48),\n",
      " ((ty'None', ty'bool'), 36),\n",
      " ((ty'List', ty'List[str]'), 35),\n",
      " ((ty'None', ty'List[str]'), 26),\n",
      " ((ty'None', ty'T'), 19),\n",
      " ((ty'None', ty'Context'), 12),\n",
      " ((ty'None', ty'Dict'), 11),\n",
      " ((ty'Dict', ty'Dict[str, str]'), 11),\n",
      " ((ty'Dict', ty'Dict[str, Any]'), 10),\n",
      " ((ty'List', ty'List[int]'), 9),\n",
      " ((ty'None', ty'Dict[str, str]'), 9),\n",
      " ((ty'int', ty'float'), 9),\n",
      " ((ty'Tuple[int]', ty'Tuple[int, int]'), 8),\n",
      " ((ty'Generator', ty'Iterator[None]'), 8),\n",
      " ((ty'None', ty'float'), 7),\n",
      " ((ty'List', ty'List[T]'), 6),\n",
      " ((ty'None', ty'bytes'), 6),\n",
      " ((ty'None', ty'Dict[str, Any]'), 6),\n",
      " ((ty'Dict', ty'Dict[int, int]'), 5)]\n",
      "[((ty'None', ty'IPersistentMap'), 24),\n",
      " ((ty'Tuple[str]', ty'Reply'), 15),\n",
      " ((ty'None', ty'ISeq[T]'), 13),\n",
      " ((ty'None', ty'MetaNode'), 10),\n",
      " ((ty'Tuple[Union[Dict, Set]]', ty'Tuple[Set[Error], ParamMapping]'), 10),\n",
      " ((ty'None', ty'QueryDomain'), 10),\n",
      " ((ty'None', ty'ScanCommandExtraArgument'), 10),\n",
      " ((ty'Tuple[int]', ty'StrIntT'), 9),\n",
      " ((ty'None', ty'Language'), 9),\n",
      " ((ty'None', ty'Timeouts'), 8),\n",
      " ((ty'None', ty'HeadersType'), 8),\n",
      " ((ty'None', ty'ParamsType'), 8),\n",
      " ((ty'None', ty'Organization'), 8),\n",
      " ((ty'None', ty'SSLContext'), 7),\n",
      " ((ty'None', ty'SwitcherBaseResponse'), 7),\n",
      " ((ty'Generator', ty'Iterable[ParseResult]'), 7),\n",
      " ((ty'None', ty'BasilispModule'), 6),\n",
      " ((ty'None', ty'Resolver'), 6),\n",
      " ((ty'None', ty'IPersistentSet[Keyword]'), 6),\n",
      " ((ty'None', ty'UUID'), 6)]\n",
      "[((ty'None', ty'str'), 191),\n",
      " ((ty'None', ty'int'), 48),\n",
      " ((ty'None', ty'List'), 45),\n",
      " ((ty'None', ty'bool'), 36),\n",
      " ((ty'Generator', ty'Iterable'), 36),\n",
      " ((ty'Generator', ty'Iterator'), 29),\n",
      " ((ty'None', ty'Dict'), 28),\n",
      " ((ty'None', ty'IPersistentMap'), 25),\n",
      " ((ty'None', ty'T'), 19),\n",
      " ((ty'None', ty'ISeq'), 19),\n",
      " ((ty'None', ty'Union'), 17),\n",
      " ((ty'None', ty'Context'), 17),\n",
      " ((ty'Tuple', ty'Reply'), 15),\n",
      " ((ty'Dict', ty'JsonDict'), 11),\n",
      " ((ty'Union', ty'Tuple'), 10),\n",
      " ((ty'None', ty'MetaNode'), 10),\n",
      " ((ty'None', ty'QueryDomain'), 10),\n",
      " ((ty'None', ty'ScanCommandExtraArgument'), 10),\n",
      " ((ty'None', ty'Sequence'), 9),\n",
      " ((ty'int', ty'float'), 9)]\n",
      "[((ty'None', ty'str'), 191),\n",
      " ((ty'None', ty'int'), 48),\n",
      " ((ty'None', ty'List'), 45),\n",
      " ((ty'None', ty'bool'), 36),\n",
      " ((ty'Generator', ty'Iterable'), 36),\n",
      " ((ty'Generator', ty'Iterator'), 29),\n",
      " ((ty'None', ty'Dict'), 28),\n",
      " ((ty'None', ty'T'), 19),\n",
      " ((ty'None', ty'Union'), 17),\n",
      " ((ty'None', ty'Context'), 17),\n",
      " ((ty'Union', ty'Tuple'), 10),\n",
      " ((ty'None', ty'Sequence'), 9),\n",
      " ((ty'int', ty'float'), 9),\n",
      " ((ty'List', ty'Sequence'), 8),\n",
      " ((ty'None', ty'float'), 7),\n",
      " ((ty'Tuple', ty'Iterable'), 7),\n",
      " ((ty'None', ty'Iterable'), 7),\n",
      " ((ty'None', ty'Type'), 6),\n",
      " ((ty'List', ty'Union'), 6),\n",
      " ((ty'None', ty'Callable'), 6)]\n",
      "[((ty'None', ty'IPersistentMap'), 25),\n",
      " ((ty'None', ty'ISeq'), 19),\n",
      " ((ty'Tuple', ty'Reply'), 15),\n",
      " ((ty'Dict', ty'JsonDict'), 11),\n",
      " ((ty'None', ty'MetaNode'), 10),\n",
      " ((ty'None', ty'QueryDomain'), 10),\n",
      " ((ty'None', ty'ScanCommandExtraArgument'), 10),\n",
      " ((ty'Tuple', ty'StrIntT'), 9),\n",
      " ((ty'None', ty'Language'), 9),\n",
      " ((ty'None', ty'Timeouts'), 8),\n",
      " ((ty'None', ty'HeadersType'), 8),\n",
      " ((ty'None', ty'ParamsType'), 8),\n",
      " ((ty'None', ty'Organization'), 8),\n",
      " ((ty'None', ty'SSLContext'), 7),\n",
      " ((ty'None', ty'SwitcherBaseResponse'), 7),\n",
      " ((ty'None', ty'BasilispModule'), 6),\n",
      " ((ty'None', ty'Resolver'), 6),\n",
      " ((ty'None', ty'IPersistentSet'), 6),\n",
      " ((ty'None', ty'UUID'), 6),\n",
      " ((ty'None', ty'RefValidator'), 5)]\n",
      "Accuracies on all types:\n",
      "header:  ['full.all', 'calibrated.all', 'calibrated.simple', 'calibrated.complex', 'base.all']\n",
      "66.42 & 47.14 & 50.58 & 19.42 & 60.61\n",
      "Accuracies on common types:\n",
      "header:  ['full.all', 'calibrated.all', 'calibrated.simple', 'calibrated.complex', 'base.all']\n",
      "77.36 & 57.22 & 60.96 & 17.96 & 68.51\n",
      "Accuracies on rare types:\n",
      "header:  ['full.all', 'calibrated.all', 'calibrated.simple', 'calibrated.complex', 'base.all']\n",
      "29.75 & 30.97 & 32.75 & 20.79 & 41.53\n",
      "full_acc:\n",
      "   full_acc: 66.42% (count=5.3k)\n",
      "   full_acc_by_cat:\n",
      "      FuncArg: 37.34% (count=932)\n",
      "      FuncReturn: 73.48% (count=4.3k)\n",
      "      GlobalVar: 23.19% (count=69)\n",
      "   full_acc_by_simple:\n",
      "      complex: 23.44% (count=418)\n",
      "      simple: 70.13% (count=4.8k)\n",
      "   full_acc_label_size: 1.4952\n",
      "   full_acc_pred_size: 1.2192\n",
      "   full_acc_ignored_labels: 0\n",
      "   n_skipped_types: 2859\n",
      "   n_missing_types: 8396\n",
      "full_acc_common:\n",
      "   full_acc_common: 77.36% (count=4.1k)\n",
      "   full_acc_common_by_cat:\n",
      "      FuncArg: 77.90% (count=751)\n",
      "      FuncReturn: 77.26% (count=3.2k)\n",
      "      GlobalVar: 76.19% (count=63)\n",
      "   full_acc_common_by_simple:\n",
      "      complex: 21.96% (count=214)\n",
      "      simple: 80.45% (count=3.8k)\n",
      "   full_acc_common_label_size: 1.3396\n",
      "   full_acc_common_pred_size: 1.142\n",
      "   full_acc_common_ignored_labels: 1210\n",
      "   n_skipped_types: 2859\n",
      "   n_missing_types: 8396\n",
      "full_acc_rare:\n",
      "   full_acc_rare: 29.75% (count=1.2k)\n",
      "   full_acc_rare_by_cat:\n",
      "      FuncArg: 25.97% (count=258)\n",
      "      FuncReturn: 30.84% (count=934)\n",
      "      GlobalVar: 27.78% (count=18)\n",
      "   full_acc_rare_by_simple:\n",
      "      complex: 25.00% (count=204)\n",
      "      simple: 30.72% (count=1.0k)\n",
      "   full_acc_rare_label_size: 2.0165\n",
      "   full_acc_rare_pred_size: 1.4777\n",
      "   full_acc_rare_ignored_labels: 4055\n",
      "   n_skipped_types: 2859\n",
      "   n_missing_types: 8396\n",
      "acc:\n",
      "   acc: 47.14% (count=3.1k)\n",
      "   acc_by_cat:\n",
      "      FuncArg: 45.85% (count=591)\n",
      "      FuncReturn: 47.28% (count=2.5k)\n",
      "      GlobalVar: 55.10% (count=49)\n",
      "   acc_by_simple:\n",
      "      complex: 19.42% (count=345)\n",
      "      simple: 50.58% (count=2.8k)\n",
      "   acc_label_size: 1.4886\n",
      "   acc_pred_size: 1.3171\n",
      "   acc_ignored_labels: 2140\n",
      "   n_skipped_types: 2859\n",
      "   n_missing_types: 8396\n",
      "acc_common:\n",
      "   acc_common: 57.22% (count=1.9k)\n",
      "   acc_common_by_cat:\n",
      "      FuncArg: 53.77% (count=491)\n",
      "      FuncReturn: 58.33% (count=1.4k)\n",
      "      GlobalVar: 62.07% (count=29)\n",
      "   acc_common_by_simple:\n",
      "      complex: 17.96% (count=167)\n",
      "      simple: 60.96% (count=1.8k)\n",
      "   acc_common_label_size: 1.4064\n",
      "   acc_common_pred_size: 1.2474\n",
      "   acc_common_ignored_labels: 3341\n",
      "   n_skipped_types: 2859\n",
      "   n_missing_types: 8396\n",
      "acc_rare:\n",
      "   acc_rare: 30.97% (count=1.2k)\n",
      "   acc_rare_by_cat:\n",
      "      FuncArg: 26.95% (count=256)\n",
      "      FuncReturn: 32.04% (count=927)\n",
      "      GlobalVar: 33.33% (count=18)\n",
      "   acc_rare_by_simple:\n",
      "      complex: 20.79% (count=178)\n",
      "      simple: 32.75% (count=1.0k)\n",
      "   acc_rare_label_size: 1.6203\n",
      "   acc_rare_pred_size: 1.4288\n",
      "   acc_rare_ignored_labels: 4064\n",
      "   n_skipped_types: 2859\n",
      "   n_missing_types: 8396\n",
      "base_acc:\n",
      "   base_acc: 60.61% (count=3.1k)\n",
      "   base_acc_by_cat:\n",
      "      FuncArg: 58.04% (count=591)\n",
      "      FuncReturn: 61.01% (count=2.5k)\n",
      "      GlobalVar: 71.43% (count=49)\n",
      "   base_acc_ignored_labels: 2140\n",
      "   n_skipped_types: 2859\n",
      "   n_missing_types: 8396\n",
      "base_acc_common:\n",
      "   base_acc_common: 68.51% (count=2.2k)\n",
      "   base_acc_common_by_cat:\n",
      "      FuncArg: 64.87% (count=501)\n",
      "      FuncReturn: 69.52% (count=1.7k)\n",
      "      GlobalVar: 72.41% (count=29)\n",
      "   base_acc_common_ignored_labels: 3055\n",
      "   n_skipped_types: 2859\n",
      "   n_missing_types: 8396\n",
      "base_acc_rare:\n",
      "   base_acc_rare: 41.53% (count=915)\n",
      "   base_acc_rare_by_cat:\n",
      "      FuncArg: 43.65% (count=181)\n",
      "      FuncReturn: 40.97% (count=720)\n",
      "      GlobalVar: 42.86% (count=14)\n",
      "   base_acc_rare_ignored_labels: 4350\n",
      "   n_skipped_types: 2859\n",
      "   n_missing_types: 8396\n"
     ]
    }
   ],
   "source": [
    "typet5_metrics_4_hitt5(task=\"all\")"
   ]
  },
  {
   "cell_type": "code",
   "execution_count": 9,
   "metadata": {
    "scrolled": false
   },
   "outputs": [
    {
     "name": "stderr",
     "output_type": "stream",
     "text": [
      "Loading predictions from VARIABLE: 100%|██████████████████████████████████████████████████████████████████████████████████████████████████████████████████████████████████████████████████████████████████████| 50/50 [00:02<00:00, 23.09it/s]\n"
     ]
    },
    {
     "name": "stdout",
     "output_type": "stream",
     "text": [
      "len(label_signatures)=50, len(pred_signatures)=50\n"
     ]
    },
    {
     "name": "stderr",
     "output_type": "stream",
     "text": [
      "[HiType4PyN1 @ INFO]: n_annots: 30070, n_labels: 16520\n",
      "[HiType4PyN1 @ INFO]: Ratio: 0.5493847688726305\n"
     ]
    },
    {
     "name": "stdout",
     "output_type": "stream",
     "text": [
      "Accuracies on all types:\n",
      "header:  ['full.all', 'calibrated.all', 'calibrated.simple', 'calibrated.complex', 'base.all']\n",
      "45.09 & 48.55 & 51.66 & 21.78 & 54.87\n",
      "Accuracies on common types:\n",
      "header:  ['full.all', 'calibrated.all', 'calibrated.simple', 'calibrated.complex', 'base.all']\n",
      "62.32 & 61.36 & 64.66 & 30.62 & 66.24\n",
      "Accuracies on rare types:\n",
      "header:  ['full.all', 'calibrated.all', 'calibrated.simple', 'calibrated.complex', 'base.all']\n",
      "9.92 & 29.90 & 32.36 & 10.89 & 34.24\n"
     ]
    }
   ],
   "source": [
    "typet5_metrics_4_hitt5(task=TypeCollectionCategory.VARIABLE)"
   ]
  },
  {
   "cell_type": "code",
   "execution_count": 10,
   "metadata": {
    "scrolled": false
   },
   "outputs": [
    {
     "name": "stderr",
     "output_type": "stream",
     "text": [
      "Loading predictions from CALLABLE_RETURN: 100%|███████████████████████████████████████████████████████████████████████████████████████████████████████████████████████████████████████████████████████████████| 50/50 [00:02<00:00, 23.66it/s]\n"
     ]
    },
    {
     "name": "stdout",
     "output_type": "stream",
     "text": [
      "len(label_signatures)=50, len(pred_signatures)=50\n"
     ]
    },
    {
     "name": "stderr",
     "output_type": "stream",
     "text": [
      "[HiType4PyN1 @ INFO]: n_annots: 30070, n_labels: 16520\n",
      "[HiType4PyN1 @ INFO]: Ratio: 0.5493847688726305\n"
     ]
    },
    {
     "name": "stdout",
     "output_type": "stream",
     "text": [
      "Accuracies on all types:\n",
      "header:  ['full.all', 'calibrated.all', 'calibrated.simple', 'calibrated.complex', 'base.all']\n",
      "45.11 & 48.66 & 51.82 & 21.87 & 54.99\n",
      "Accuracies on common types:\n",
      "header:  ['full.all', 'calibrated.all', 'calibrated.simple', 'calibrated.complex', 'base.all']\n",
      "62.36 & 61.54 & 64.84 & 31.05 & 66.41\n",
      "Accuracies on rare types:\n",
      "header:  ['full.all', 'calibrated.all', 'calibrated.simple', 'calibrated.complex', 'base.all']\n",
      "9.91 & 29.92 & 32.47 & 10.68 & 34.28\n"
     ]
    }
   ],
   "source": [
    "typet5_metrics_4_hitt5(task=TypeCollectionCategory.CALLABLE_RETURN)"
   ]
  },
  {
   "cell_type": "code",
   "execution_count": 11,
   "metadata": {},
   "outputs": [
    {
     "name": "stderr",
     "output_type": "stream",
     "text": [
      "Loading predictions from CALLABLE_PARAMETER: 100%|████████████████████████████████████████████████████████████████████████████████████████████████████████████████████████████████████████████████████████████| 50/50 [00:02<00:00, 23.50it/s]\n"
     ]
    },
    {
     "name": "stdout",
     "output_type": "stream",
     "text": [
      "len(label_signatures)=50, len(pred_signatures)=50\n"
     ]
    },
    {
     "name": "stderr",
     "output_type": "stream",
     "text": [
      "[HiType4PyN1 @ INFO]: n_annots: 30070, n_labels: 16520\n",
      "[HiType4PyN1 @ INFO]: Ratio: 0.5493847688726305\n"
     ]
    },
    {
     "name": "stdout",
     "output_type": "stream",
     "text": [
      "Accuracies on all types:\n",
      "header:  ['full.all', 'calibrated.all', 'calibrated.simple', 'calibrated.complex', 'base.all']\n",
      "45.11 & 48.66 & 51.82 & 21.87 & 54.99\n",
      "Accuracies on common types:\n",
      "header:  ['full.all', 'calibrated.all', 'calibrated.simple', 'calibrated.complex', 'base.all']\n",
      "62.36 & 61.54 & 64.84 & 31.05 & 66.41\n",
      "Accuracies on rare types:\n",
      "header:  ['full.all', 'calibrated.all', 'calibrated.simple', 'calibrated.complex', 'base.all']\n",
      "9.91 & 29.92 & 32.47 & 10.68 & 34.28\n"
     ]
    }
   ],
   "source": [
    "typet5_metrics_4_hitt5(task=TypeCollectionCategory.CALLABLE_PARAMETER)"
   ]
  },
  {
   "cell_type": "code",
   "execution_count": 12,
   "metadata": {},
   "outputs": [
    {
     "name": "stderr",
     "output_type": "stream",
     "text": [
      "Loading predictions from all: 100%|███████████████████████████████████████████████████████████████████████████████████████████████████████████████████████████████████████████████████████████████████████████| 50/50 [00:04<00:00, 11.92it/s]\n"
     ]
    },
    {
     "name": "stdout",
     "output_type": "stream",
     "text": [
      "len(label_signatures)=50, len(pred_signatures)=50\n"
     ]
    },
    {
     "name": "stderr",
     "output_type": "stream",
     "text": [
      "[HiType4PyN1 @ INFO]: n_annots: 30070, n_labels: 16520\n",
      "[HiType4PyN1 @ INFO]: Ratio: 0.5493847688726305\n"
     ]
    },
    {
     "name": "stdout",
     "output_type": "stream",
     "text": [
      "Accuracies on all types:\n",
      "header:  ['full.all', 'calibrated.all', 'calibrated.simple', 'calibrated.complex', 'base.all']\n",
      "45.09 & 48.55 & 51.66 & 21.78 & 54.87\n",
      "Accuracies on common types:\n",
      "header:  ['full.all', 'calibrated.all', 'calibrated.simple', 'calibrated.complex', 'base.all']\n",
      "62.32 & 61.36 & 64.66 & 30.62 & 66.24\n",
      "Accuracies on rare types:\n",
      "header:  ['full.all', 'calibrated.all', 'calibrated.simple', 'calibrated.complex', 'base.all']\n",
      "9.92 & 29.90 & 32.36 & 10.89 & 34.24\n"
     ]
    }
   ],
   "source": [
    "typet5_metrics_4_hity4py(task=\"all\")"
   ]
  }
 ],
 "metadata": {
  "kernelspec": {
   "display_name": "Python 3 (ipykernel)",
   "language": "python",
   "name": "python3"
  },
  "language_info": {
   "codemirror_mode": {
    "name": "ipython",
    "version": 3
   },
   "file_extension": ".py",
   "mimetype": "text/x-python",
   "name": "python",
   "nbconvert_exporter": "python",
   "pygments_lexer": "ipython3",
   "version": "3.10.12"
  },
  "vscode": {
   "interpreter": {
    "hash": "cb5ea0ec9276ea53bca768cbad83872d3e07fe0f98ee4aa691b5a250409cc09e"
   }
  }
 },
 "nbformat": 4,
 "nbformat_minor": 2
}
