{
 "cells": [
  {
   "cell_type": "markdown",
   "metadata": {},
   "source": [
    "# BT4Py HiTypeT5 Top-1"
   ]
  },
  {
   "cell_type": "code",
   "execution_count": 1,
   "metadata": {},
   "outputs": [
    {
     "name": "stdout",
     "output_type": "stream",
     "text": [
      "/home/benji/Documents/Uni/heidelberg/05/masterarbeit/impls/scripts/experiments\n"
     ]
    }
   ],
   "source": [
    "%load_ext autoreload\n",
    "%autoreload 2\n",
    "\n",
    "%pwd\n",
    "%cd /home/benji/Documents/Uni/heidelberg/05/masterarbeit/impls/scripts/experiments"
   ]
  },
  {
   "cell_type": "code",
   "execution_count": 2,
   "metadata": {},
   "outputs": [
    {
     "data": {
      "text/plain": [
       "polars.config.Config"
      ]
     },
     "execution_count": 2,
     "metadata": {},
     "output_type": "execute_result"
    }
   ],
   "source": [
    "import polars as pl\n",
    "\n",
    "pl.Config.set_fmt_str_lengths(300)\n",
    "pl.Config.set_tbl_rows(n=50)"
   ]
  },
  {
   "cell_type": "code",
   "execution_count": 3,
   "metadata": {},
   "outputs": [
    {
     "name": "stderr",
     "output_type": "stream",
     "text": [
      "2023-07-27 15:35:57.084392: I tensorflow/core/platform/cpu_feature_guard.cc:182] This TensorFlow binary is optimized to use available CPU instructions in performance-critical operations.\n",
      "To enable the following instructions: AVX2 FMA, in other operations, rebuild TensorFlow with the appropriate compiler flags.\n",
      "2023-07-27 15:35:58.157504: W tensorflow/compiler/tf2tensorrt/utils/py_utils.cc:38] TF-TRT Warning: Could not find TensorRT\n"
     ]
    }
   ],
   "source": [
    "import pathlib\n",
    "\n",
    "from scripts.common.schemas import TypeCollectionCategory\n",
    "from scripts.infer.structure import DatasetFolderStructure\n",
    "\n",
    "tool = \"HiTypilusN1\"\n",
    "dataset = DatasetFolderStructure(pathlib.Path(\n",
    "    \"/home/benji/Documents/Uni/heidelberg/05/masterarbeit/datasets/better-types-4-py-dataset\"\n",
    "))\n"
   ]
  },
  {
   "cell_type": "code",
   "execution_count": 4,
   "metadata": {},
   "outputs": [
    {
     "name": "stderr",
     "output_type": "stream",
     "text": [
      "[HiTypilusN1 @ INFO]: Hello World!\n"
     ]
    }
   ],
   "source": [
    "import logging\n",
    "from importlib import reload\n",
    "\n",
    "logging.shutdown()\n",
    "reload(logging)\n",
    "\n",
    "logger = logging.getLogger(__name__)\n",
    "logger.setLevel(logging.DEBUG)\n",
    "for handler in logger.handlers:\n",
    "    logger.removeHandler(handler)\n",
    "ch = logging.StreamHandler()\n",
    "ch.setLevel(logging.DEBUG)\n",
    "\n",
    "ch.setFormatter(logging.Formatter(f\"[{tool} @ %(levelname)s]: %(message)s\"))\n",
    "logger.addHandler(ch)\n",
    "\n",
    "logger.info(\"Hello World!\")\n"
   ]
  },
  {
   "cell_type": "markdown",
   "metadata": {},
   "source": [
    "# Ensure Datapoints line up"
   ]
  },
  {
   "cell_type": "markdown",
   "metadata": {},
   "source": [
    "# Join Datapoints based on file, category and qname_ssa"
   ]
  },
  {
   "cell_type": "code",
   "execution_count": 8,
   "metadata": {},
   "outputs": [
    {
     "name": "stderr",
     "output_type": "stream",
     "text": [
      "100%|████████████████████████████████████████████████████████████████████████████████████████████████████████████████████████████████████████████████████████████████████████████████████████████████████████| 50/50 [00:00<00:00, 396.16it/s]\n",
      "[TypeT5TopN1 @ INFO]: CALLABLE_PARAMETER, shape: (20, 8)\n",
      "┌──────────────────────────┬────────────────────┬────────────────────┬──────────────────────────────────────────────┬──────┬────────────────────────────────────────┬─────────────────┬────────────────────────────────────────┐\n",
      "│ repository               ┆ file               ┆ category           ┆ qname_ssa                                    ┆ anno ┆ anno_predict                           ┆ parametric_anno ┆ parametric_anno_predict                │\n",
      "│ ---                      ┆ ---                ┆ ---                ┆ ---                                          ┆ ---  ┆ ---                                    ┆ ---             ┆ ---                                    │\n",
      "│ str                      ┆ str                ┆ str                ┆ str                                          ┆ str  ┆ str                                    ┆ str             ┆ str                                    │\n",
      "╞══════════════════════════╪════════════════════╪════════════════════╪══════════════════════════════════════════════╪══════╪════════════════════════════════════════╪═════════════════╪════════════════════════════════════════╡\n",
      "│ linw1995__data_extractor ┆ tests/test_lxml.py ┆ CALLABLE_PARAMETER ┆ element.text                                 ┆ null ┆ builtins.str                           ┆ null            ┆ builtins.str                           │\n",
      "│ linw1995__data_extractor ┆ tests/test_lxml.py ┆ CALLABLE_PARAMETER ┆ test_extract.element                         ┆ null ┆ builtins.str                           ┆ null            ┆ builtins.str                           │\n",
      "│ linw1995__data_extractor ┆ tests/test_lxml.py ┆ CALLABLE_PARAMETER ┆ test_extract.Extractor                       ┆ null ┆ data_extractor.exceptions.ExtractError ┆ null            ┆ data_extractor.exceptions.ExtractError │\n",
      "│ linw1995__data_extractor ┆ tests/test_lxml.py ┆ CALLABLE_PARAMETER ┆ test_extract.expr                            ┆ null ┆ builtins.str                           ┆ null            ┆ builtins.str                           │\n",
      "│ linw1995__data_extractor ┆ tests/test_lxml.py ┆ CALLABLE_PARAMETER ┆ test_extract.expect                          ┆ null ┆ builtins.str                           ┆ null            ┆ builtins.str                           │\n",
      "│ linw1995__data_extractor ┆ tests/test_lxml.py ┆ CALLABLE_PARAMETER ┆ test_extract_first.element                   ┆ null ┆ builtins.str                           ┆ null            ┆ builtins.str                           │\n",
      "│ linw1995__data_extractor ┆ tests/test_lxml.py ┆ CALLABLE_PARAMETER ┆ test_extract_first.Extractor                 ┆ null ┆ data_extractor.exceptions.ExtractError ┆ null            ┆ data_extractor.exceptions.ExtractError │\n",
      "│ linw1995__data_extractor ┆ tests/test_lxml.py ┆ CALLABLE_PARAMETER ┆ test_extract_first.expr                      ┆ null ┆ builtins.str                           ┆ null            ┆ builtins.str                           │\n",
      "│ linw1995__data_extractor ┆ tests/test_lxml.py ┆ CALLABLE_PARAMETER ┆ test_extract_first.expect                    ┆ null ┆ builtins.str                           ┆ null            ┆ builtins.str                           │\n",
      "│ linw1995__data_extractor ┆ tests/test_lxml.py ┆ CALLABLE_PARAMETER ┆ test_extract_first_without_default.element   ┆ null ┆ builtins.str                           ┆ null            ┆ builtins.str                           │\n",
      "│ linw1995__data_extractor ┆ tests/test_lxml.py ┆ CALLABLE_PARAMETER ┆ test_extract_first_without_default.Extractor ┆ null ┆ Extractor                              ┆ null            ┆ Extractor                              │\n",
      "│ linw1995__data_extractor ┆ tests/test_lxml.py ┆ CALLABLE_PARAMETER ┆ test_extract_first_without_default.expr      ┆ null ┆ builtins.str                           ┆ null            ┆ builtins.str                           │\n",
      "│ linw1995__data_extractor ┆ tests/test_lxml.py ┆ CALLABLE_PARAMETER ┆ test_attr_css_extract.element                ┆ null ┆ builtins.str                           ┆ null            ┆ builtins.str                           │\n",
      "│ linw1995__data_extractor ┆ tests/test_lxml.py ┆ CALLABLE_PARAMETER ┆ test_attr_css_extract.expr                   ┆ null ┆ builtins.str                           ┆ null            ┆ builtins.str                           │\n",
      "│ linw1995__data_extractor ┆ tests/test_lxml.py ┆ CALLABLE_PARAMETER ┆ test_attr_css_extract.attr                   ┆ null ┆ builtins.str                           ┆ null            ┆ builtins.str                           │\n",
      "│ linw1995__data_extractor ┆ tests/test_lxml.py ┆ CALLABLE_PARAMETER ┆ test_attr_css_extract.expect                 ┆ null ┆ builtins.str                           ┆ null            ┆ builtins.str                           │\n",
      "│ linw1995__data_extractor ┆ tests/test_lxml.py ┆ CALLABLE_PARAMETER ┆ test_attr_css_extract_first.element          ┆ null ┆ builtins.str                           ┆ null            ┆ builtins.str                           │\n",
      "│ linw1995__data_extractor ┆ tests/test_lxml.py ┆ CALLABLE_PARAMETER ┆ test_attr_css_extract_first.expr             ┆ null ┆ builtins.str                           ┆ null            ┆ builtins.str                           │\n",
      "│ linw1995__data_extractor ┆ tests/test_lxml.py ┆ CALLABLE_PARAMETER ┆ test_attr_css_extract_first.attr             ┆ null ┆ builtins.str                           ┆ null            ┆ builtins.str                           │\n",
      "│ linw1995__data_extractor ┆ tests/test_lxml.py ┆ CALLABLE_PARAMETER ┆ test_attr_css_extract_first.expect           ┆ null ┆ builtins.str                           ┆ null            ┆ builtins.str                           │\n",
      "└──────────────────────────┴────────────────────┴────────────────────┴──────────────────────────────────────────────┴──────┴────────────────────────────────────────┴─────────────────┴────────────────────────────────────────┘\n",
      "[TypeT5TopN1 @ INFO]: CALLABLE_RETURN, shape: (20, 8)\n",
      "┌──────────────────────────┬────────────────────────────┬─────────────────┬─────────────────────────────────────┬──────┬─────────────────────────────────────────────┬─────────────────┬─────────────────────────────────────────────┐\n",
      "│ repository               ┆ file                       ┆ category        ┆ qname_ssa                           ┆ anno ┆ anno_predict                                ┆ parametric_anno ┆ parametric_anno_predict                     │\n",
      "│ ---                      ┆ ---                        ┆ ---             ┆ ---                                 ┆ ---  ┆ ---                                         ┆ ---             ┆ ---                                         │\n",
      "│ str                      ┆ str                        ┆ str             ┆ str                                 ┆ str  ┆ str                                         ┆ str             ┆ str                                         │\n",
      "╞══════════════════════════╪════════════════════════════╪═════════════════╪═════════════════════════════════════╪══════╪═════════════════════════════════════════════╪═════════════════╪═════════════════════════════════════════════╡\n",
      "│ linw1995__data_extractor ┆ tests/test_generic_item.py ┆ CALLABLE_RETURN ┆ test_field_with_type                ┆ null ┆ None                                        ┆ null            ┆ None                                        │\n",
      "│ linw1995__data_extractor ┆ tests/test_generic_item.py ┆ CALLABLE_RETURN ┆ test_field_with_convertor           ┆ null ┆ None                                        ┆ null            ┆ None                                        │\n",
      "│ linw1995__data_extractor ┆ tests/test_generic_item.py ┆ CALLABLE_RETURN ┆ test_item_with_type                 ┆ null ┆ None                                        ┆ null            ┆ None                                        │\n",
      "│ linw1995__data_extractor ┆ tests/utils.py             ┆ CALLABLE_RETURN ┆ DumyExtractor.__init__              ┆ null ┆ None                                        ┆ null            ┆ None                                        │\n",
      "│ linw1995__data_extractor ┆ tests/utils.py             ┆ CALLABLE_RETURN ┆ DumyExtractor.extract               ┆ null ┆ builtins.list                               ┆ null            ┆ builtins.list                               │\n",
      "│ linw1995__data_extractor ┆ tests/conftest.py          ┆ CALLABLE_RETURN ┆ json_extractor_backend              ┆ null ┆ builtins.type                               ┆ null            ┆ builtins.type                               │\n",
      "│ linw1995__data_extractor ┆ tests/conftest.py          ┆ CALLABLE_RETURN ┆ json0                               ┆ null ┆ builtins.dict                               ┆ null            ┆ builtins.dict                               │\n",
      "│ linw1995__data_extractor ┆ tests/conftest.py          ┆ CALLABLE_RETURN ┆ stack_frame_support                 ┆ null ┆ None                                        ┆ null            ┆ None                                        │\n",
      "│ linw1995__data_extractor ┆ tests/test_utils.py        ┆ CALLABLE_RETURN ┆ test_lazy_str                       ┆ null ┆ None                                        ┆ null            ┆ None                                        │\n",
      "│ linw1995__data_extractor ┆ tests/test_utils.py        ┆ CALLABLE_RETURN ┆ test_lazy_str.func                  ┆ null ┆ null                                        ┆ null            ┆ null                                        │\n",
      "│ linw1995__data_extractor ┆ tests/test_utils.py        ┆ CALLABLE_RETURN ┆ complex_extractor                   ┆ null ┆ AbstractComplexExtractor                    ┆ null            ┆ AbstractComplexExtractor                    │\n",
      "│ linw1995__data_extractor ┆ tests/test_utils.py        ┆ CALLABLE_RETURN ┆ simple_extractor                    ┆ null ┆ data_extractor.core.AbstractSimpleExtractor ┆ null            ┆ data_extractor.core.AbstractSimpleExtractor │\n",
      "│ linw1995__data_extractor ┆ tests/test_utils.py        ┆ CALLABLE_RETURN ┆ test_complex_extractor_is_extractor ┆ null ┆ None                                        ┆ null            ┆ None                                        │\n",
      "│ linw1995__data_extractor ┆ tests/test_utils.py        ┆ CALLABLE_RETURN ┆ test_simple_extractor_is_extractor  ┆ null ┆ None                                        ┆ null            ┆ None                                        │\n",
      "│ linw1995__data_extractor ┆ tests/test_utils.py        ┆ CALLABLE_RETURN ┆ test_is_complex_extractor           ┆ null ┆ None                                        ┆ null            ┆ None                                        │\n",
      "│ linw1995__data_extractor ┆ tests/test_utils.py        ┆ CALLABLE_RETURN ┆ test_is_not_complex_extractor       ┆ null ┆ None                                        ┆ null            ┆ None                                        │\n",
      "│ linw1995__data_extractor ┆ tests/test_utils.py        ┆ CALLABLE_RETURN ┆ test_is_simple_extractor            ┆ null ┆ None                                        ┆ null            ┆ None                                        │\n",
      "│ linw1995__data_extractor ┆ tests/test_utils.py        ┆ CALLABLE_RETURN ┆ test_is_not_simple_extractor        ┆ null ┆ None                                        ┆ null            ┆ None                                        │\n",
      "│ linw1995__data_extractor ┆ tests/test_utils.py        ┆ CALLABLE_RETURN ┆ test_missing_cssselect              ┆ null ┆ None                                        ┆ null            ┆ None                                        │\n",
      "│ linw1995__data_extractor ┆ tests/test_utils.py        ┆ CALLABLE_RETURN ┆ test_missing_lxml                   ┆ null ┆ None                                        ┆ null            ┆ None                                        │\n",
      "└──────────────────────────┴────────────────────────────┴─────────────────┴─────────────────────────────────────┴──────┴─────────────────────────────────────────────┴─────────────────┴─────────────────────────────────────────────┘\n"
     ]
    },
    {
     "name": "stderr",
     "output_type": "stream",
     "text": [
      "[TypeT5TopN1 @ INFO]: VARIABLE, shape: (20, 8)\n",
      "┌──────────────────────────┬────────────────────────────────────┬──────────┬───────────────────────────────────────────────────────┬──────┬──────────────┬─────────────────┬─────────────────────────┐\n",
      "│ repository               ┆ file                               ┆ category ┆ qname_ssa                                             ┆ anno ┆ anno_predict ┆ parametric_anno ┆ parametric_anno_predict │\n",
      "│ ---                      ┆ ---                                ┆ ---      ┆ ---                                                   ┆ ---  ┆ ---          ┆ ---             ┆ ---                     │\n",
      "│ str                      ┆ str                                ┆ str      ┆ str                                                   ┆ str  ┆ str          ┆ str             ┆ str                     │\n",
      "╞══════════════════════════╪════════════════════════════════════╪══════════╪═══════════════════════════════════════════════════════╪══════╪══════════════╪═════════════════╪═════════════════════════╡\n",
      "│ linw1995__data_extractor ┆ tests/test_utils.py                ┆ VARIABLE ┆ test_lazy_str.stringλ1                                ┆ null ┆ null         ┆ null            ┆ null                    │\n",
      "│ linw1995__data_extractor ┆ tests/test_utils.py                ┆ VARIABLE ┆ test_lazy_str.stringλ2                                ┆ null ┆ null         ┆ null            ┆ null                    │\n",
      "│ linw1995__data_extractor ┆ tests/test_utils.py                ┆ VARIABLE ┆ test_lazy_str.lsλ1                                    ┆ null ┆ null         ┆ null            ┆ null                    │\n",
      "│ linw1995__data_extractor ┆ tests/test_utils.py                ┆ VARIABLE ┆ test_missing_cssselect.catchλ1                        ┆ null ┆ null         ┆ null            ┆ null                    │\n",
      "│ linw1995__data_extractor ┆ tests/test_utils.py                ┆ VARIABLE ┆ test_missing_cssselect.catchλ2                        ┆ null ┆ null         ┆ null            ┆ null                    │\n",
      "│ linw1995__data_extractor ┆ tests/test_utils.py                ┆ VARIABLE ┆ test_missing_cssselect.catchλ3                        ┆ null ┆ null         ┆ null            ┆ null                    │\n",
      "│ linw1995__data_extractor ┆ tests/test_utils.py                ┆ VARIABLE ┆ test_missing_lxml.catchλ1                             ┆ null ┆ null         ┆ null            ┆ null                    │\n",
      "│ linw1995__data_extractor ┆ tests/test_utils.py                ┆ VARIABLE ┆ test_missing_jsonpath_extractor.catchλ1               ┆ null ┆ null         ┆ null            ┆ null                    │\n",
      "│ linw1995__data_extractor ┆ tests/test_utils.py                ┆ VARIABLE ┆ test_missing_jsonpath_rw.catchλ1                      ┆ null ┆ null         ┆ null            ┆ null                    │\n",
      "│ linw1995__data_extractor ┆ tests/test_utils.py                ┆ VARIABLE ┆ test_missing_jsonpath_rw.catchλ2                      ┆ null ┆ null         ┆ null            ┆ null                    │\n",
      "│ linw1995__data_extractor ┆ tests/test_utils.py                ┆ VARIABLE ┆ test_missing_jsonpath_rw_ext.catchλ1                  ┆ null ┆ null         ┆ null            ┆ null                    │\n",
      "│ linw1995__data_extractor ┆ tests/test_utils.py                ┆ VARIABLE ┆ test_property_accessing_error.Bar.unset_attributeλ1   ┆ null ┆ null         ┆ null            ┆ null                    │\n",
      "│ linw1995__data_extractor ┆ tests/test_utils.py                ┆ VARIABLE ┆ test_property_accessing_error.barλ1                   ┆ null ┆ null         ┆ null            ┆ null                    │\n",
      "│ linw1995__data_extractor ┆ tests/test_utils.py                ┆ VARIABLE ┆ test_property_re_set_error.Bar.booλ1                  ┆ null ┆ null         ┆ null            ┆ null                    │\n",
      "│ linw1995__data_extractor ┆ tests/test_utils.py                ┆ VARIABLE ┆ test_property_re_set_error.barλ1                      ┆ null ┆ null         ┆ null            ┆ null                    │\n",
      "│ linw1995__data_extractor ┆ tests/test_utils.py                ┆ VARIABLE ┆ test_property_change_internal_value_success.Bar.booλ1 ┆ null ┆ null         ┆ null            ┆ null                    │\n",
      "│ linw1995__data_extractor ┆ tests/test_utils.py                ┆ VARIABLE ┆ test_property_change_internal_value_success.barλ1     ┆ null ┆ null         ┆ null            ┆ null                    │\n",
      "│ linw1995__data_extractor ┆ tests/test_utils.py                ┆ VARIABLE ┆ test_property_change_internal_value_failure.Bar.booλ1 ┆ null ┆ null         ┆ null            ┆ null                    │\n",
      "│ linw1995__data_extractor ┆ tests/test_utils.py                ┆ VARIABLE ┆ test_property_change_internal_value_failure.barλ1     ┆ null ┆ null         ┆ null            ┆ null                    │\n",
      "│ linw1995__data_extractor ┆ scripts/export_requirements_txt.py ┆ VARIABLE ┆ Formatλ1                                              ┆ null ┆ enum.Enum    ┆ null            ┆ enum.Enum               │\n",
      "└──────────────────────────┴────────────────────────────────────┴──────────┴───────────────────────────────────────────────────────┴──────┴──────────────┴─────────────────┴─────────────────────────┘\n",
      "[TypeT5TopN1 @ INFO]: CALLABLE_PARAMETER, shape: (20, 8)\n",
      "┌────────────────────────┬─────────────────────────┬────────────────────┬──────────────────────────────────────────┬──────────────┬──────────────┬─────────────────┬─────────────────────────┐\n",
      "│ repository             ┆ file                    ┆ category           ┆ qname_ssa                                ┆ anno         ┆ anno_predict ┆ parametric_anno ┆ parametric_anno_predict │\n",
      "│ ---                    ┆ ---                     ┆ ---                ┆ ---                                      ┆ ---          ┆ ---          ┆ ---             ┆ ---                     │\n",
      "│ str                    ┆ str                     ┆ str                ┆ str                                      ┆ str          ┆ str          ┆ str             ┆ str                     │\n",
      "╞════════════════════════╪═════════════════════════╪════════════════════╪══════════════════════════════════════════╪══════════════╪══════════════╪═════════════════╪═════════════════════════╡\n",
      "│ albertyw__albertyw.com ┆ app/tests/test_serve.py ┆ CALLABLE_PARAMETER ┆ PageCase.setUp.self                      ┆ null         ┆ null         ┆ null            ┆ null                    │\n",
      "│ albertyw__albertyw.com ┆ app/tests/test_serve.py ┆ CALLABLE_PARAMETER ┆ PageCase.test_index_load.self            ┆ null         ┆ null         ┆ null            ┆ null                    │\n",
      "│ albertyw__albertyw.com ┆ app/tests/test_serve.py ┆ CALLABLE_PARAMETER ┆ PageCase.test_resume_load.self           ┆ null         ┆ null         ┆ null            ┆ null                    │\n",
      "│ albertyw__albertyw.com ┆ app/tests/test_serve.py ┆ CALLABLE_PARAMETER ┆ PageCase.test_projects_load.self         ┆ null         ┆ null         ┆ null            ┆ null                    │\n",
      "│ albertyw__albertyw.com ┆ app/tests/test_serve.py ┆ CALLABLE_PARAMETER ┆ PageCase.test_notes_load.self            ┆ null         ┆ null         ┆ null            ┆ null                    │\n",
      "│ albertyw__albertyw.com ┆ app/tests/test_serve.py ┆ CALLABLE_PARAMETER ┆ PageCase.test_shelf_load.self            ┆ null         ┆ null         ┆ null            ┆ null                    │\n",
      "│ albertyw__albertyw.com ┆ app/tests/test_serve.py ┆ CALLABLE_PARAMETER ┆ PageCase.test_reference.self             ┆ null         ┆ null         ┆ null            ┆ null                    │\n",
      "│ albertyw__albertyw.com ┆ app/tests/test_serve.py ┆ CALLABLE_PARAMETER ┆ PageCase.test_about_load.self            ┆ null         ┆ null         ┆ null            ┆ null                    │\n",
      "│ albertyw__albertyw.com ┆ app/tests/test_serve.py ┆ CALLABLE_PARAMETER ┆ PageCase.test_robots_load.self           ┆ null         ┆ null         ┆ null            ┆ null                    │\n",
      "│ albertyw__albertyw.com ┆ app/tests/test_serve.py ┆ CALLABLE_PARAMETER ┆ PageCase.test_security_load.self         ┆ null         ┆ null         ┆ null            ┆ null                    │\n",
      "│ albertyw__albertyw.com ┆ app/tests/test_serve.py ┆ CALLABLE_PARAMETER ┆ PageCase.test_humans_load.self           ┆ null         ┆ null         ┆ null            ┆ null                    │\n",
      "│ albertyw__albertyw.com ┆ app/tests/test_serve.py ┆ CALLABLE_PARAMETER ┆ PageCase.test_health_load.self           ┆ null         ┆ null         ┆ null            ┆ null                    │\n",
      "│ albertyw__albertyw.com ┆ app/tests/test_serve.py ┆ CALLABLE_PARAMETER ┆ PageCase.test_sitemap_load.self          ┆ null         ┆ null         ┆ null            ┆ null                    │\n",
      "│ albertyw__albertyw.com ┆ app/tests/test_serve.py ┆ CALLABLE_PARAMETER ┆ PageCase.test_not_found.self             ┆ null         ┆ null         ┆ null            ┆ null                    │\n",
      "│ albertyw__albertyw.com ┆ app/tests/test_serve.py ┆ CALLABLE_PARAMETER ┆ PageCase.test_note_load.self             ┆ null         ┆ null         ┆ null            ┆ null                    │\n",
      "│ albertyw__albertyw.com ┆ app/tests/test_serve.py ┆ CALLABLE_PARAMETER ┆ PageCase.test_note_capital_load.self     ┆ null         ┆ null         ┆ null            ┆ null                    │\n",
      "│ albertyw__albertyw.com ┆ app/tests/test_serve.py ┆ CALLABLE_PARAMETER ┆ PageCase.test_atom_feed_load.self        ┆ null         ┆ null         ┆ null            ┆ null                    │\n",
      "│ albertyw__albertyw.com ┆ app/tests/test_serve.py ┆ CALLABLE_PARAMETER ┆ PageCase.test_nonexistent_note_load.self ┆ null         ┆ null         ┆ null            ┆ null                    │\n",
      "│ albertyw__albertyw.com ┆ app/tests/test_serve.py ┆ CALLABLE_PARAMETER ┆ PageCase.page_test.self                  ┆ null         ┆ null         ┆ null            ┆ null                    │\n",
      "│ albertyw__albertyw.com ┆ app/tests/test_serve.py ┆ CALLABLE_PARAMETER ┆ PageCase.page_test.path                  ┆ builtins.str ┆ builtins.str ┆ builtins.str    ┆ builtins.str            │\n",
      "└────────────────────────┴─────────────────────────┴────────────────────┴──────────────────────────────────────────┴──────────────┴──────────────┴─────────────────┴─────────────────────────┘\n"
     ]
    },
    {
     "name": "stderr",
     "output_type": "stream",
     "text": [
      "[TypeT5TopN1 @ INFO]: CALLABLE_RETURN, shape: (20, 8)\n",
      "┌────────────────────────┬──────────────────┬─────────────────┬─────────────────────────┬────────────────────────────────────────┬────────────────────────────────────────┬───────────────────┬─────────────────────────┐\n",
      "│ repository             ┆ file             ┆ category        ┆ qname_ssa               ┆ anno                                   ┆ anno_predict                           ┆ parametric_anno   ┆ parametric_anno_predict │\n",
      "│ ---                    ┆ ---              ┆ ---             ┆ ---                     ┆ ---                                    ┆ ---                                    ┆ ---               ┆ ---                     │\n",
      "│ str                    ┆ str              ┆ str             ┆ str                     ┆ str                                    ┆ str                                    ┆ str               ┆ str                     │\n",
      "╞════════════════════════╪══════════════════╪═════════════════╪═════════════════════════╪════════════════════════════════════════╪════════════════════════════════════════╪═══════════════════╪═════════════════════════╡\n",
      "│ albertyw__albertyw.com ┆ app/routes.py    ┆ CALLABLE_RETURN ┆ index                   ┆ builtins.str                           ┆ builtins.str                           ┆ builtins.str      ┆ builtins.str            │\n",
      "│ albertyw__albertyw.com ┆ app/routes.py    ┆ CALLABLE_RETURN ┆ resume                  ┆ builtins.str                           ┆ builtins.str                           ┆ builtins.str      ┆ builtins.str            │\n",
      "│ albertyw__albertyw.com ┆ app/routes.py    ┆ CALLABLE_RETURN ┆ projects                ┆ builtins.str                           ┆ builtins.str                           ┆ builtins.str      ┆ builtins.str            │\n",
      "│ albertyw__albertyw.com ┆ app/routes.py    ┆ CALLABLE_RETURN ┆ notes                   ┆ builtins.str                           ┆ flask.Response                         ┆ builtins.str      ┆ flask.Response          │\n",
      "│ albertyw__albertyw.com ┆ app/routes.py    ┆ CALLABLE_RETURN ┆ shelf                   ┆ builtins.str                           ┆ builtins.str                           ┆ builtins.str      ┆ builtins.str            │\n",
      "│ albertyw__albertyw.com ┆ app/routes.py    ┆ CALLABLE_RETURN ┆ note                    ┆ typing.Any                             ┆ flask.Response                         ┆ typing.Any        ┆ flask.Response          │\n",
      "│ albertyw__albertyw.com ┆ app/routes.py    ┆ CALLABLE_RETURN ┆ references              ┆ typing.Any                             ┆ builtins.str                           ┆ typing.Any        ┆ builtins.str            │\n",
      "│ albertyw__albertyw.com ┆ app/routes.py    ┆ CALLABLE_RETURN ┆ reference               ┆ typing.Any                             ┆ flask.Response                         ┆ typing.Any        ┆ flask.Response          │\n",
      "│ albertyw__albertyw.com ┆ app/routes.py    ┆ CALLABLE_RETURN ┆ about                   ┆ builtins.str                           ┆ builtins.str                           ┆ builtins.str      ┆ builtins.str            │\n",
      "│ albertyw__albertyw.com ┆ app/routes.py    ┆ CALLABLE_RETURN ┆ atom_feed               ┆ typing.Any                             ┆ flask.Response                         ┆ typing.Any        ┆ flask.Response          │\n",
      "│ albertyw__albertyw.com ┆ app/routes.py    ┆ CALLABLE_RETURN ┆ sitemap_urls            ┆ typing.Any                             ┆ typing.Any                             ┆ typing.Any        ┆ typing.Any              │\n",
      "│ albertyw__albertyw.com ┆ app/note_util.py ┆ CALLABLE_RETURN ┆ Note.__init__           ┆ None                                   ┆ None                                   ┆ None              ┆ None                    │\n",
      "│ albertyw__albertyw.com ┆ app/note_util.py ┆ CALLABLE_RETURN ┆ Note.__eq__             ┆ builtins.bool                          ┆ builtins.bool                          ┆ builtins.bool     ┆ builtins.bool           │\n",
      "│ albertyw__albertyw.com ┆ app/note_util.py ┆ CALLABLE_RETURN ┆ Note.__repr__           ┆ builtins.str                           ┆ builtins.str                           ┆ builtins.str      ┆ builtins.str            │\n",
      "│ albertyw__albertyw.com ┆ app/note_util.py ┆ CALLABLE_RETURN ┆ Note.get_note_file_data ┆ typing.Union[None, app.note_util.Note] ┆ typing.Union[None, app.note_util.Note] ┆ typing.Union      ┆ typing.Union            │\n",
      "│ albertyw__albertyw.com ┆ app/note_util.py ┆ CALLABLE_RETURN ┆ Note.parse_time         ┆ datetime.datetime                      ┆ datetime.datetime                      ┆ datetime.datetime ┆ datetime.datetime       │\n",
      "│ albertyw__albertyw.com ┆ app/note_util.py ┆ CALLABLE_RETURN ┆ Note.parse_markdown     ┆ builtins.str                           ┆ builtins.str                           ┆ builtins.str      ┆ builtins.str            │\n",
      "│ albertyw__albertyw.com ┆ app/note_util.py ┆ CALLABLE_RETURN ┆ Note.write_note         ┆ None                                   ┆ None                                   ┆ None              ┆ None                    │\n",
      "│ albertyw__albertyw.com ┆ app/note_util.py ┆ CALLABLE_RETURN ┆ Note.url                ┆ builtins.str                           ┆ builtins.str                           ┆ builtins.str      ┆ builtins.str            │\n",
      "│ albertyw__albertyw.com ┆ app/note_util.py ┆ CALLABLE_RETURN ┆ prune_note_files        ┆ builtins.list[pathlib.Path]            ┆ builtins.list[pathlib.Path]            ┆ builtins.list     ┆ builtins.list           │\n",
      "└────────────────────────┴──────────────────┴─────────────────┴─────────────────────────┴────────────────────────────────────────┴────────────────────────────────────────┴───────────────────┴─────────────────────────┘\n",
      "[TypeT5TopN1 @ INFO]: VARIABLE, shape: (20, 8)\n",
      "┌────────────────────────┬──────────────────┬──────────┬───────────────────────────────────────┬───────────────────┬─────────────────────────────┬───────────────────┬─────────────────────────┐\n",
      "│ repository             ┆ file             ┆ category ┆ qname_ssa                             ┆ anno              ┆ anno_predict                ┆ parametric_anno   ┆ parametric_anno_predict │\n",
      "│ ---                    ┆ ---              ┆ ---      ┆ ---                                   ┆ ---               ┆ ---                         ┆ ---               ┆ ---                     │\n",
      "│ str                    ┆ str              ┆ str      ┆ str                                   ┆ str               ┆ str                         ┆ str               ┆ str                     │\n",
      "╞════════════════════════╪══════════════════╪══════════╪═══════════════════════════════════════╪═══════════════════╪═════════════════════════════╪═══════════════════╪═════════════════════════╡\n",
      "│ albertyw__albertyw.com ┆ app/note_util.py ┆ VARIABLE ┆ MARKDOWN_EXTRASλ1                     ┆ null              ┆ builtins.list[builtins.str] ┆ null              ┆ builtins.list           │\n",
      "│ albertyw__albertyw.com ┆ app/note_util.py ┆ VARIABLE ┆ TIMEZONEλ1                            ┆ null              ┆ zoneinfo.ZoneInfo           ┆ null              ┆ zoneinfo.ZoneInfo       │\n",
      "│ albertyw__albertyw.com ┆ app/note_util.py ┆ VARIABLE ┆ NOTES_DIRECTORYλ1                     ┆ null              ┆ builtins.str                ┆ null              ┆ builtins.str            │\n",
      "│ albertyw__albertyw.com ┆ app/note_util.py ┆ VARIABLE ┆ REFERENCE_DIRECTORYλ1                 ┆ null              ┆ builtins.str                ┆ null              ┆ builtins.str            │\n",
      "│ albertyw__albertyw.com ┆ app/note_util.py ┆ VARIABLE ┆ Note.__init__.self.note_fileλ1        ┆ null              ┆ null                        ┆ null              ┆ null                    │\n",
      "│ albertyw__albertyw.com ┆ app/note_util.py ┆ VARIABLE ┆ Note.__init__.self.titleλ1            ┆ null              ┆ null                        ┆ null              ┆ null                    │\n",
      "│ albertyw__albertyw.com ┆ app/note_util.py ┆ VARIABLE ┆ Note.__init__.self.slugλ1             ┆ null              ┆ null                        ┆ null              ┆ null                    │\n",
      "│ albertyw__albertyw.com ┆ app/note_util.py ┆ VARIABLE ┆ Note.__init__.self.timeλ1             ┆ datetime.datetime ┆ null                        ┆ datetime.datetime ┆ null                    │\n",
      "│ albertyw__albertyw.com ┆ app/note_util.py ┆ VARIABLE ┆ Note.__init__.self.noteλ1             ┆ null              ┆ null                        ┆ null              ┆ null                    │\n",
      "│ albertyw__albertyw.com ┆ app/note_util.py ┆ VARIABLE ┆ Note.__init__.self.markdownλ1         ┆ null              ┆ null                        ┆ null              ┆ null                    │\n",
      "│ albertyw__albertyw.com ┆ app/note_util.py ┆ VARIABLE ┆ Note.get_note_file_data.note_handleλ1 ┆ null              ┆ null                        ┆ null              ┆ null                    │\n",
      "│ albertyw__albertyw.com ┆ app/note_util.py ┆ VARIABLE ┆ Note.get_note_file_data.linesλ1       ┆ null              ┆ null                        ┆ null              ┆ null                    │\n",
      "│ albertyw__albertyw.com ┆ app/note_util.py ┆ VARIABLE ┆ Note.get_note_file_data.linesλ2       ┆ null              ┆ null                        ┆ null              ┆ null                    │\n",
      "│ albertyw__albertyw.com ┆ app/note_util.py ┆ VARIABLE ┆ Note.get_note_file_data.note_parsedλ1 ┆ null              ┆ null                        ┆ null              ┆ null                    │\n",
      "│ albertyw__albertyw.com ┆ app/note_util.py ┆ VARIABLE ┆ Note.parse_time.timestampλ1           ┆ null              ┆ null                        ┆ null              ┆ null                    │\n",
      "│ albertyw__albertyw.com ┆ app/note_util.py ┆ VARIABLE ┆ Note.parse_time.timeλ1                ┆ null              ┆ null                        ┆ null              ┆ null                    │\n",
      "│ albertyw__albertyw.com ┆ app/note_util.py ┆ VARIABLE ┆ Note.parse_markdown.noteλ1            ┆ null              ┆ null                        ┆ null              ┆ null                    │\n",
      "│ albertyw__albertyw.com ┆ app/note_util.py ┆ VARIABLE ┆ Note.parse_markdown.note_strλ1        ┆ null              ┆ null                        ┆ null              ┆ null                    │\n",
      "│ albertyw__albertyw.com ┆ app/note_util.py ┆ VARIABLE ┆ Note.write_note.handleλ1              ┆ null              ┆ null                        ┆ null              ┆ null                    │\n",
      "│ albertyw__albertyw.com ┆ app/note_util.py ┆ VARIABLE ┆ prune_note_files.filesλ1              ┆ null              ┆ null                        ┆ null              ┆ null                    │\n",
      "└────────────────────────┴──────────────────┴──────────┴───────────────────────────────────────┴───────────────────┴─────────────────────────────┴───────────────────┴─────────────────────────┘\n"
     ]
    },
    {
     "name": "stderr",
     "output_type": "stream",
     "text": [
      "[TypeT5TopN1 @ INFO]: CALLABLE_PARAMETER, shape: (20, 8)\n",
      "┌──────────────────┬─────────────────────────┬────────────────────┬────────────────────────────────────────────┬─────────────────────────────────────────┬─────────────────────────────────────────┬────────────────────────────┬────────────────────────────┐\n",
      "│ repository       ┆ file                    ┆ category           ┆ qname_ssa                                  ┆ anno                                    ┆ anno_predict                            ┆ parametric_anno            ┆ parametric_anno_predict    │\n",
      "│ ---              ┆ ---                     ┆ ---                ┆ ---                                        ┆ ---                                     ┆ ---                                     ┆ ---                        ┆ ---                        │\n",
      "│ str              ┆ str                     ┆ str                ┆ str                                        ┆ str                                     ┆ str                                     ┆ str                        ┆ str                        │\n",
      "╞══════════════════╪═════════════════════════╪════════════════════╪════════════════════════════════════════════╪═════════════════════════════════════════╪═════════════════════════════════════════╪════════════════════════════╪════════════════════════════╡\n",
      "│ ocf__slackbridge ┆ slackbridge/messages.py ┆ CALLABLE_PARAMETER ┆ SlackMessage.__init__.self                 ┆ null                                    ┆ null                                    ┆ null                       ┆ null                       │\n",
      "│ ocf__slackbridge ┆ slackbridge/messages.py ┆ CALLABLE_PARAMETER ┆ SlackMessage.__init__.raw_message          ┆ builtins.dict[builtins.str, typing.Any] ┆ builtins.dict[builtins.str, typing.Any] ┆ builtins.dict              ┆ builtins.dict              │\n",
      "│ ocf__slackbridge ┆ slackbridge/messages.py ┆ CALLABLE_PARAMETER ┆ SlackMessage.__init__.bridge_bot           ┆ slackbridge.bots.BridgeBot              ┆ slackbridge.bots.BridgeBot              ┆ slackbridge.bots.BridgeBot ┆ slackbridge.bots.BridgeBot │\n",
      "│ ocf__slackbridge ┆ slackbridge/messages.py ┆ CALLABLE_PARAMETER ┆ SlackMessage.resolve.self                  ┆ null                                    ┆ null                                    ┆ null                       ┆ null                       │\n",
      "│ ocf__slackbridge ┆ slackbridge/messages.py ┆ CALLABLE_PARAMETER ┆ SlackMessage.is_bot_user.self              ┆ null                                    ┆ null                                    ┆ null                       ┆ null                       │\n",
      "│ ocf__slackbridge ┆ slackbridge/messages.py ┆ CALLABLE_PARAMETER ┆ SlackMessage._change_presence.self         ┆ null                                    ┆ null                                    ┆ null                       ┆ null                       │\n",
      "│ ocf__slackbridge ┆ slackbridge/messages.py ┆ CALLABLE_PARAMETER ┆ SlackMessage._change_presence.user_bot     ┆ slackbridge.bots.UserBot                ┆ slackbridge.bots.UserBot                ┆ slackbridge.bots.UserBot   ┆ slackbridge.bots.UserBot   │\n",
      "│ ocf__slackbridge ┆ slackbridge/messages.py ┆ CALLABLE_PARAMETER ┆ SlackMessage._irc_me_action.self           ┆ null                                    ┆ null                                    ┆ null                       ┆ null                       │\n",
      "│ ocf__slackbridge ┆ slackbridge/messages.py ┆ CALLABLE_PARAMETER ┆ SlackMessage._irc_me_action.channel_name   ┆ builtins.str                            ┆ builtins.str                            ┆ builtins.str               ┆ builtins.str               │\n",
      "│ ocf__slackbridge ┆ slackbridge/messages.py ┆ CALLABLE_PARAMETER ┆ SlackMessage._irc_me_action.user_bot       ┆ slackbridge.bots.UserBot                ┆ slackbridge.bots.UserBot                ┆ slackbridge.bots.UserBot   ┆ slackbridge.bots.UserBot   │\n",
      "│ ocf__slackbridge ┆ slackbridge/messages.py ┆ CALLABLE_PARAMETER ┆ SlackMessage._irc_me_action.action         ┆ builtins.str                            ┆ builtins.str                            ┆ builtins.str               ┆ builtins.str               │\n",
      "│ ocf__slackbridge ┆ slackbridge/messages.py ┆ CALLABLE_PARAMETER ┆ SlackMessage._post_to_fluffy.self          ┆ null                                    ┆ null                                    ┆ null                       ┆ null                       │\n",
      "│ ocf__slackbridge ┆ slackbridge/messages.py ┆ CALLABLE_PARAMETER ┆ SlackMessage._post_to_fluffy.channel_name  ┆ builtins.str                            ┆ builtins.str                            ┆ builtins.str               ┆ builtins.str               │\n",
      "│ ocf__slackbridge ┆ slackbridge/messages.py ┆ CALLABLE_PARAMETER ┆ SlackMessage._post_to_fluffy.user_bot      ┆ slackbridge.bots.UserBot                ┆ slackbridge.bots.UserBot                ┆ slackbridge.bots.UserBot   ┆ slackbridge.bots.UserBot   │\n",
      "│ ocf__slackbridge ┆ slackbridge/messages.py ┆ CALLABLE_PARAMETER ┆ SlackMessage._post_to_fluffy.file_data     ┆ builtins.dict[builtins.str, typing.Any] ┆ builtins.dict[builtins.str, typing.Any] ┆ builtins.dict              ┆ builtins.dict              │\n",
      "│ ocf__slackbridge ┆ slackbridge/messages.py ┆ CALLABLE_PARAMETER ┆ SlackMessage._post_to_irc.self             ┆ null                                    ┆ null                                    ┆ null                       ┆ null                       │\n",
      "│ ocf__slackbridge ┆ slackbridge/messages.py ┆ CALLABLE_PARAMETER ┆ SlackMessage._post_to_irc.channel_name     ┆ builtins.str                            ┆ builtins.str                            ┆ builtins.str               ┆ builtins.str               │\n",
      "│ ocf__slackbridge ┆ slackbridge/messages.py ┆ CALLABLE_PARAMETER ┆ SlackMessage._post_to_irc.user_bot         ┆ slackbridge.bots.UserBot                ┆ slackbridge.bots.UserBot                ┆ slackbridge.bots.UserBot   ┆ slackbridge.bots.UserBot   │\n",
      "│ ocf__slackbridge ┆ slackbridge/messages.py ┆ CALLABLE_PARAMETER ┆ SlackMessage._post_pm_to_irc.self          ┆ null                                    ┆ null                                    ┆ null                       ┆ null                       │\n",
      "│ ocf__slackbridge ┆ slackbridge/messages.py ┆ CALLABLE_PARAMETER ┆ SlackMessage._post_pm_to_irc.irc_recipient ┆ builtins.str                            ┆ builtins.str                            ┆ builtins.str               ┆ builtins.str               │\n",
      "└──────────────────┴─────────────────────────┴────────────────────┴────────────────────────────────────────────┴─────────────────────────────────────────┴─────────────────────────────────────────┴────────────────────────────┴────────────────────────────┘\n",
      "[TypeT5TopN1 @ INFO]: CALLABLE_RETURN, shape: (20, 8)\n",
      "┌──────────────────┬─────────────────────┬─────────────────┬───────────────────────────────┬──────┬──────────────┬─────────────────┬─────────────────────────┐\n",
      "│ repository       ┆ file                ┆ category        ┆ qname_ssa                     ┆ anno ┆ anno_predict ┆ parametric_anno ┆ parametric_anno_predict │\n",
      "│ ---              ┆ ---                 ┆ ---             ┆ ---                           ┆ ---  ┆ ---          ┆ ---             ┆ ---                     │\n",
      "│ str              ┆ str                 ┆ str             ┆ str                           ┆ str  ┆ str          ┆ str             ┆ str                     │\n",
      "╞══════════════════╪═════════════════════╪═════════════════╪═══════════════════════════════╪══════╪══════════════╪═════════════════╪═════════════════════════╡\n",
      "│ ocf__slackbridge ┆ slackbridge/bots.py ┆ CALLABLE_RETURN ┆ IRCBot.__init__               ┆ null ┆ None         ┆ null            ┆ None                    │\n",
      "│ ocf__slackbridge ┆ slackbridge/bots.py ┆ CALLABLE_RETURN ┆ IRCBot.post_to_slack          ┆ None ┆ None         ┆ None            ┆ None                    │\n",
      "│ ocf__slackbridge ┆ slackbridge/bots.py ┆ CALLABLE_RETURN ┆ LoopHandler.__init__          ┆ null ┆ None         ┆ null            ┆ None                    │\n",
      "│ ocf__slackbridge ┆ slackbridge/bots.py ┆ CALLABLE_RETURN ┆ LoopHandler.start_loop        ┆ None ┆ None         ┆ None            ┆ None                    │\n",
      "│ ocf__slackbridge ┆ slackbridge/bots.py ┆ CALLABLE_RETURN ┆ LoopHandler.handle_loop_error ┆ None ┆ None         ┆ None            ┆ None                    │\n",
      "│ ocf__slackbridge ┆ slackbridge/bots.py ┆ CALLABLE_RETURN ┆ BridgeBot.__init__            ┆ null ┆ None         ┆ null            ┆ None                    │\n",
      "│ ocf__slackbridge ┆ slackbridge/bots.py ┆ CALLABLE_RETURN ┆ BridgeBot.rtm_connect         ┆ None ┆ None         ┆ None            ┆ None                    │\n",
      "│ ocf__slackbridge ┆ slackbridge/bots.py ┆ CALLABLE_RETURN ┆ BridgeBot.signedOn            ┆ None ┆ None         ┆ None            ┆ None                    │\n",
      "│ ocf__slackbridge ┆ slackbridge/bots.py ┆ CALLABLE_RETURN ┆ BridgeBot.privmsg             ┆ None ┆ None         ┆ None            ┆ None                    │\n",
      "│ ocf__slackbridge ┆ slackbridge/bots.py ┆ CALLABLE_RETURN ┆ BridgeBot.action              ┆ None ┆ None         ┆ None            ┆ None                    │\n",
      "│ ocf__slackbridge ┆ slackbridge/bots.py ┆ CALLABLE_RETURN ┆ BridgeBot.check_slack_rtm     ┆ None ┆ None         ┆ None            ┆ None                    │\n",
      "│ ocf__slackbridge ┆ slackbridge/bots.py ┆ CALLABLE_RETURN ┆ BridgeBot.empty_queue         ┆ None ┆ None         ┆ None            ┆ None                    │\n",
      "│ ocf__slackbridge ┆ slackbridge/bots.py ┆ CALLABLE_RETURN ┆ BridgeBot.topicUpdated        ┆ None ┆ None         ┆ None            ┆ None                    │\n",
      "│ ocf__slackbridge ┆ slackbridge/bots.py ┆ CALLABLE_RETURN ┆ BridgeBot.irc_330             ┆ None ┆ None         ┆ None            ┆ None                    │\n",
      "│ ocf__slackbridge ┆ slackbridge/bots.py ┆ CALLABLE_RETURN ┆ BridgeBot.irc_RPL_ENDOFWHOIS  ┆ None ┆ None         ┆ None            ┆ None                    │\n",
      "│ ocf__slackbridge ┆ slackbridge/bots.py ┆ CALLABLE_RETURN ┆ BridgeBot.userRenamed         ┆ None ┆ None         ┆ None            ┆ None                    │\n",
      "│ ocf__slackbridge ┆ slackbridge/bots.py ┆ CALLABLE_RETURN ┆ BridgeBot.userLeft            ┆ None ┆ None         ┆ None            ┆ None                    │\n",
      "│ ocf__slackbridge ┆ slackbridge/bots.py ┆ CALLABLE_RETURN ┆ BridgeBot.userQuit            ┆ None ┆ None         ┆ None            ┆ None                    │\n",
      "│ ocf__slackbridge ┆ slackbridge/bots.py ┆ CALLABLE_RETURN ┆ BridgeBot.userKicked          ┆ None ┆ None         ┆ None            ┆ None                    │\n",
      "│ ocf__slackbridge ┆ slackbridge/bots.py ┆ CALLABLE_RETURN ┆ BridgeBot.deauthenticate      ┆ None ┆ None         ┆ None            ┆ None                    │\n",
      "└──────────────────┴─────────────────────┴─────────────────┴───────────────────────────────┴──────┴──────────────┴─────────────────┴─────────────────────────┘\n"
     ]
    },
    {
     "name": "stderr",
     "output_type": "stream",
     "text": [
      "[TypeT5TopN1 @ INFO]: VARIABLE, shape: (20, 8)\n",
      "┌──────────────────┬──────────────────────────┬──────────┬────────────────────────────────────────────────────┬─────────────────────────────┬───────────────────────────────────┬─────────────────┬─────────────────────────┐\n",
      "│ repository       ┆ file                     ┆ category ┆ qname_ssa                                          ┆ anno                        ┆ anno_predict                      ┆ parametric_anno ┆ parametric_anno_predict │\n",
      "│ ---              ┆ ---                      ┆ ---      ┆ ---                                                ┆ ---                         ┆ ---                               ┆ ---             ┆ ---                     │\n",
      "│ str              ┆ str                      ┆ str      ┆ str                                                ┆ str                         ┆ str                               ┆ str             ┆ str                     │\n",
      "╞══════════════════╪══════════════════════════╪══════════╪════════════════════════════════════════════════════╪═════════════════════════════╪═══════════════════════════════════╪═════════════════╪═════════════════════════╡\n",
      "│ ocf__slackbridge ┆ slackbridge/factories.py ┆ VARIABLE ┆ BridgeBotFactory.__init__.self.slack_clientλ1      ┆ null                        ┆ null                              ┆ null            ┆ null                    │\n",
      "│ ocf__slackbridge ┆ slackbridge/factories.py ┆ VARIABLE ┆ BridgeBotFactory.__init__.self.slack_uidλ1         ┆ null                        ┆ null                              ┆ null            ┆ null                    │\n",
      "│ ocf__slackbridge ┆ slackbridge/factories.py ┆ VARIABLE ┆ BridgeBotFactory.__init__.self.bridge_nicknameλ1   ┆ null                        ┆ null                              ┆ null            ┆ null                    │\n",
      "│ ocf__slackbridge ┆ slackbridge/factories.py ┆ VARIABLE ┆ BridgeBotFactory.__init__.self.nickserv_passwordλ1 ┆ null                        ┆ null                              ┆ null            ┆ null                    │\n",
      "│ ocf__slackbridge ┆ slackbridge/factories.py ┆ VARIABLE ┆ BridgeBotFactory.__init__.self.bot_classλ1         ┆ null                        ┆ null                              ┆ null            ┆ null                    │\n",
      "│ ocf__slackbridge ┆ slackbridge/factories.py ┆ VARIABLE ┆ BridgeBotFactory.__init__.userλ1                   ┆ null                        ┆ null                              ┆ null            ┆ null                    │\n",
      "│ ocf__slackbridge ┆ slackbridge/factories.py ┆ VARIABLE ┆ BridgeBotFactory.buildProtocol.pλ1                 ┆ null                        ┆ null                              ┆ null            ┆ null                    │\n",
      "│ ocf__slackbridge ┆ slackbridge/factories.py ┆ VARIABLE ┆ BridgeBotFactory.instantiate_bot.user_factoryλ1    ┆ null                        ┆ null                              ┆ null            ┆ null                    │\n",
      "│ ocf__slackbridge ┆ slackbridge/factories.py ┆ VARIABLE ┆ UserBotFactory.__init__.self.slack_clientλ1        ┆ null                        ┆ null                              ┆ null            ┆ null                    │\n",
      "│ ocf__slackbridge ┆ slackbridge/factories.py ┆ VARIABLE ┆ UserBotFactory.__init__.self.bridge_bot_factoryλ1  ┆ null                        ┆ null                              ┆ null            ┆ null                    │\n",
      "│ ocf__slackbridge ┆ slackbridge/factories.py ┆ VARIABLE ┆ UserBotFactory.__init__.self.slack_userλ1          ┆ null                        ┆ null                              ┆ null            ┆ null                    │\n",
      "│ ocf__slackbridge ┆ slackbridge/factories.py ┆ VARIABLE ┆ UserBotFactory.__init__.self.joined_channelsλ1     ┆ builtins.list[builtins.str] ┆ null                              ┆ builtins.list   ┆ null                    │\n",
      "│ ocf__slackbridge ┆ slackbridge/factories.py ┆ VARIABLE ┆ UserBotFactory.__init__.self.target_group_nickλ1   ┆ null                        ┆ null                              ┆ null            ┆ null                    │\n",
      "│ ocf__slackbridge ┆ slackbridge/factories.py ┆ VARIABLE ┆ UserBotFactory.__init__.self.nickserv_passwordλ1   ┆ null                        ┆ null                              ┆ null            ┆ null                    │\n",
      "│ ocf__slackbridge ┆ slackbridge/factories.py ┆ VARIABLE ┆ UserBotFactory.__init__.channelλ1                  ┆ null                        ┆ null                              ┆ null            ┆ null                    │\n",
      "│ ocf__slackbridge ┆ slackbridge/factories.py ┆ VARIABLE ┆ UserBotFactory.buildProtocol.pλ1                   ┆ null                        ┆ null                              ┆ null            ┆ null                    │\n",
      "│ ocf__slackbridge ┆ slackbridge/messages.py  ┆ VARIABLE ┆ IGNORED_MSG_SUBTYPESλ1                             ┆ null                        ┆ builtins.tuple[builtins.str, ...] ┆ null            ┆ builtins.tuple          │\n",
      "│ ocf__slackbridge ┆ slackbridge/messages.py  ┆ VARIABLE ┆ FILEHOSTλ1                                         ┆ null                        ┆ builtins.str                      ┆ null            ┆ builtins.str            │\n",
      "│ ocf__slackbridge ┆ slackbridge/messages.py  ┆ VARIABLE ┆ SlackMessage.__init__.self.raw_messageλ1           ┆ null                        ┆ null                              ┆ null            ┆ null                    │\n",
      "│ ocf__slackbridge ┆ slackbridge/messages.py  ┆ VARIABLE ┆ SlackMessage.__init__.self.bridge_botλ1            ┆ null                        ┆ null                              ┆ null            ┆ null                    │\n",
      "└──────────────────┴──────────────────────────┴──────────┴────────────────────────────────────────────────────┴─────────────────────────────┴───────────────────────────────────┴─────────────────┴─────────────────────────┘\n"
     ]
    }
   ],
   "source": [
    "import polars as pl\n",
    "\n",
    "queries_for_inner = []\n",
    "queries_for_missing = []\n",
    "for author_repo in tqdm.tqdm(ground_truths):\n",
    "    ground_truth = pl.read_csv(source=ground_truths[author_repo], null_values=[\"\"]).filter(\n",
    "        pl.col(ExtendedInferredSchema.category).is_in(tasks_str)\n",
    "    ).with_columns(pl.lit(str(author_repo)).alias(\"repository\"))\n",
    "    #print(ground_truth)\n",
    "\n",
    "    inferred = pl.concat([\n",
    "        pl.read_csv(source=inferreds[task][author_repo], null_values=[\"\"])\n",
    "        for task in tasks\n",
    "    ]).with_columns(pl.lit(str(author_repo)).alias(\"repository\"))\n",
    "    #print(inferred)\n",
    "\n",
    "    \n",
    "    gt_vs_inf = ground_truth.join(\n",
    "        inferred,\n",
    "        on=[\n",
    "            \"repository\",\n",
    "            ExtendedInferredSchema.file,\n",
    "            ExtendedInferredSchema.category,\n",
    "            ExtendedInferredSchema.qname,\n",
    "            ExtendedInferredSchema.qname_ssa,\n",
    "        ],\n",
    "        how=\"inner\",\n",
    "        # validate=\"1:1\",\n",
    "        suffix=(\"_predict\"),\n",
    "    )\n",
    "    #print(gt_vs_inf)\n",
    "    # print(gt_vs_inf)\n",
    "    queries_for_inner.append(gt_vs_inf)\n",
    "\n",
    "\n",
    "for author_repo, merged, _ in zip(\n",
    "    ground_truths, \n",
    "    # pl.collect_all(queries_for_inner, streaming=True, common_subplan_elimination=False),\n",
    "    queries_for_inner,\n",
    "    range(3)\n",
    "):\n",
    "    for task in tasks_str:\n",
    "        task_sample = (\n",
    "            merged.select([\n",
    "                pl.col(\"repository\"),\n",
    "                pl.col(ExtendedInferredSchema.file),\n",
    "                pl.col(ExtendedInferredSchema.category),\n",
    "                pl.col(ExtendedInferredSchema.qname_ssa),\n",
    "                pl.col(ExtendedInferredSchema.anno),\n",
    "                pl.col(\"anno_predict\"),\n",
    "                pl.col(ExtendedInferredSchema.parametric_anno),\n",
    "                pl.col(\"parametric_anno_predict\"),\n",
    "            ]).filter(pl.col(ExtendedInferredSchema.category) == task).head(n=20))\n",
    "        \n",
    "        logger.info(f\"{task}, {task_sample}\")\n"
   ]
  },
  {
   "cell_type": "markdown",
   "metadata": {},
   "source": [
    "# Check transformed dataset"
   ]
  },
  {
   "cell_type": "code",
   "execution_count": 68,
   "metadata": {},
   "outputs": [
    {
     "name": "stderr",
     "output_type": "stream",
     "text": [
      "[TypeT5TopN1 @ INFO]: shape: (20, 6)\n",
      "┌────────────────────────────────────────┬─────────────────────────────────────────────────────────────────┬────────────────────┬───────────────────────────────────────────────────────┬──────────────────────────────────────────────────────────────────┬──────────────────────────────┐\n",
      "│ repository                             ┆ file                                                            ┆ category           ┆ qname_ssa                                             ┆ anno                                                             ┆ rewritten_anno               │\n",
      "│ ---                                    ┆ ---                                                             ┆ ---                ┆ ---                                                   ┆ ---                                                              ┆ ---                          │\n",
      "│ str                                    ┆ str                                                             ┆ str                ┆ str                                                   ┆ str                                                              ┆ str                          │\n",
      "╞════════════════════════════════════════╪═════════════════════════════════════════════════════════════════╪════════════════════╪═══════════════════════════════════════════════════════╪══════════════════════════════════════════════════════════════════╪══════════════════════════════╡\n",
      "│ JakobGM__quelf                         ┆ quelf/sleepcycle.py                                             ┆ CALLABLE_PARAMETER ┆ SleepSessions.__init__.first_sleepsession_id          ┆ builtins.int                                                     ┆ int                          │\n",
      "│ jreese__aql                            ┆ aql/query.py                                                    ┆ CALLABLE_RETURN    ┆ Query.factory                                         ┆ typing.Type                                                      ┆ Type                         │\n",
      "│ scalableminds__webknossos-connect      ┆ wkconnect/backends/backend.py                                   ┆ CALLABLE_PARAMETER ┆ Backend.get_meshes.dataset                            ┆ wkconnect.backends.backend.DatasetInfo                           ┆ DatasetInfo                  │\n",
      "│ webrecorder__browsertrix               ┆ backend/btrixcloud/colls.py                                     ┆ CALLABLE_PARAMETER ┆ CollectionOps.list_collections.page_size              ┆ builtins.int                                                     ┆ int                          │\n",
      "│ marcosschroh__dataclasses-avroschema   ┆ dataclasses_avroschema/fields.py                                ┆ VARIABLE           ┆ FixedField.field_infoλ1                               ┆ typing.Union[None,dataclasses_avroschema.types.FieldInfo]        ┆ Union[FieldInfo,None]        │\n",
      "│ ClearcodeHQ__mirakuru                  ┆ tests/server_for_tests.py                                       ┆ CALLABLE_RETURN    ┆ SlowServerHandler.count_timeout                       ┆ builtins.bool                                                    ┆ bool                         │\n",
      "│ Gerschtli__teamspeak-update-notifier   ┆ notifier/version_manager.py                                     ┆ CALLABLE_PARAMETER ┆ need_update.current_version                           ┆ builtins.str                                                     ┆ str                          │\n",
      "│ antonagestam__collectfast              ┆ collectfast/strategies/base.py                                  ┆ CALLABLE_PARAMETER ┆ CachingHashStrategy.post_copy_hook.path               ┆ builtins.str                                                     ┆ str                          │\n",
      "│ kornicameister__axion                  ┆ tests/test_handler_analysis.py                                  ┆ CALLABLE_RETURN    ┆ async_f                                               ┆ axion.pipeline.Response                                          ┆ Response                     │\n",
      "│ lucaswerkmeister__tool-quickcategories ┆ database.py                                                     ┆ CALLABLE_PARAMETER ┆ DatabaseStore.make_plan_pending_background.user_agent ┆ builtins.str                                                     ┆ str                          │\n",
      "│ basilisp-lang__basilisp                ┆ tests/basilisp/compiler_test.py                                 ┆ CALLABLE_PARAMETER ┆ TestTryCatch.test_single_catch_with_binding.lcompile  ┆ tests.basilisp.helpers.CompileFn                                 ┆ CompileFn                    │\n",
      "│ nabla-c0d3__sslyze                     ┆ sslyze/plugins/certificate_info/_cli_connector.py               ┆ CALLABLE_RETURN    ┆ _get_subject_as_short_text                            ┆ builtins.str                                                     ┆ str                          │\n",
      "│ paulcwatts__drf-json-schema            ┆ tests/support/serializers.py                                    ┆ VARIABLE           ┆ INITIAL_ARTISTSλ1                                     ┆ builtins.list[tests.support.serializers.Artist]                  ┆ list[Artist]                 │\n",
      "│ AxelVoitier__lookups                   ┆ lookups/instance_content.py                                     ┆ CALLABLE_RETURN    ┆ Convertor.id                                          ┆ builtins.str                                                     ┆ str                          │\n",
      "│ amplify-education__python-hcl2         ┆ hcl2/transformer.py                                             ┆ CALLABLE_RETURN    ┆ DictTransformer.attr_splat                            ┆ builtins.str                                                     ┆ str                          │\n",
      "│ boompig__book-classics                 ┆ book_classics/ru_wiki.py                                        ┆ CALLABLE_RETURN    ┆ get_col_text                                          ┆ builtins.str                                                     ┆ str                          │\n",
      "│ kornicameister__axion                  ┆ axion/plugin.py                                                 ┆ VARIABLE           ┆ PluginMeta.all_known_pluginsλ1                        ┆ typing.ClassVar[builtins.dict[axion.plugin.PluginId,typing.Any]] ┆ ClassVar[dict[PluginId,Any]] │\n",
      "│ seattleflu__id3c                       ┆ lib/id3c/cli/command/redcap_sync.py                             ┆ CALLABLE_PARAMETER ┆ delete_linked_encounter_records.encounter_id          ┆ builtins.int                                                     ┆ int                          │\n",
      "│ AxelVoitier__lookups                   ┆ lookups/generic_lookup.py                                       ┆ CALLABLE_PARAMETER ┆ GenericLookup._add_pair.pair                          ┆ lookups.generic_lookup.Pair                                      ┆ Pair                         │\n",
      "│ nubark__instark                        ┆ instark/core/suppliers/common/tenancy/memory_tenant_supplier.py ┆ CALLABLE_RETURN    ┆ MemoryTenantSupplier.get_tenant                       ┆ builtins.dict[builtins.str,typing.Any]                           ┆ dict[str,Any]                │\n",
      "└────────────────────────────────────────┴─────────────────────────────────────────────────────────────────┴────────────────────┴───────────────────────────────────────────────────────┴──────────────────────────────────────────────────────────────────┴──────────────────────────────┘\n"
     ]
    }
   ],
   "source": [
    "logger.info(filtered_ground_truths_vs_predictions.select(\n",
    "    pl.col(\"repository\"),\n",
    "    pl.col(ExtendedInferredSchema.file),\n",
    "    pl.col(ExtendedInferredSchema.category),\n",
    "    pl.col(ExtendedInferredSchema.qname_ssa),\n",
    "    pl.col(ExtendedInferredSchema.anno),\n",
    "    pl.col(\"rewritten_anno\"),\n",
    ").sample(n=20))"
   ]
  },
  {
   "cell_type": "code",
   "execution_count": 69,
   "metadata": {},
   "outputs": [
    {
     "name": "stderr",
     "output_type": "stream",
     "text": [
      "[TypeT5TopN1 @ INFO]: shape: (20, 6)\n",
      "┌────────────────────────────────────────┬────────────────────────────────────────────────────────────────┬────────────────────┬──────────────────────────────────────────────────────────────────────────┬──────────────────────────────────────────┬───────────────────────────┐\n",
      "│ repository                             ┆ file                                                           ┆ category           ┆ qname_ssa                                                                ┆ parametric_anno                          ┆ rewritten_parametric_anno │\n",
      "│ ---                                    ┆ ---                                                            ┆ ---                ┆ ---                                                                      ┆ ---                                      ┆ ---                       │\n",
      "│ str                                    ┆ str                                                            ┆ str                ┆ str                                                                      ┆ str                                      ┆ str                       │\n",
      "╞════════════════════════════════════════╪════════════════════════════════════════════════════════════════╪════════════════════╪══════════════════════════════════════════════════════════════════════════╪══════════════════════════════════════════╪═══════════════════════════╡\n",
      "│ joshtemple__lkml                       ┆ lkml/__init__.py                                               ┆ CALLABLE_PARAMETER ┆ dump.obj                                                                 ┆ builtins.dict                            ┆ dict                      │\n",
      "│ flopp__GpxTrackPoster                  ┆ gpxtrackposter/poster.py                                       ┆ CALLABLE_RETURN    ┆ Poster.translate                                                         ┆ builtins.str                             ┆ str                       │\n",
      "│ lucaswerkmeister__tool-quickcategories ┆ database.py                                                    ┆ CALLABLE_PARAMETER ┆ DatabaseStore.get_batches_slice.offset                                   ┆ builtins.int                             ┆ int                       │\n",
      "│ basilisp-lang__basilisp                ┆ tests/basilisp/keyword_test.py                                 ┆ CALLABLE_PARAMETER ┆ test_keyword_pickleability.o                                             ┆ basilisp.lang.keyword.Keyword            ┆ Keyword                   │\n",
      "│ basilisp-lang__basilisp                ┆ tests/basilisp/compiler_test.py                                ┆ CALLABLE_PARAMETER ┆ TestReify.TestReifyMethod.test_reify_method_does_not_support_kwargs.code ┆ builtins.str                             ┆ str                       │\n",
      "│ sonic182__aiosonic                     ┆ aiosonic/__init__.py                                           ┆ CALLABLE_PARAMETER ┆ HttpResponse._set_header.val                                             ┆ builtins.str                             ┆ str                       │\n",
      "│ paulcwatts__drf-json-schema            ┆ rest_framework_json_schema/auto.py                             ┆ CALLABLE_RETURN    ┆ AutoSchemaDescriptor.__get__                                             ┆ typing.Type                              ┆ Type                      │\n",
      "│ rakitaj__daily-programmer              ┆ hackerrank/implementation/circular-array-rotation/challenge.py ┆ CALLABLE_RETURN    ┆ read_test_output                                                         ┆ builtins.list                            ┆ list                      │\n",
      "│ payscale__fables                       ┆ fables/parse.py                                                ┆ CALLABLE_PARAMETER ┆ remove_data_before_header.df                                             ┆ pandas.DataFrame                         ┆ DataFrame                 │\n",
      "│ nabla-c0d3__sslyze                     ┆ sslyze/plugins/openssl_ccs_injection_plugin.py                 ┆ CALLABLE_RETURN    ┆ _test_for_ccs_injection                                                  ┆ builtins.bool                            ┆ bool                      │\n",
      "│ lucaswerkmeister__tool-quickcategories ┆ action.py                                                      ┆ CALLABLE_RETURN    ┆ AddCategoryAction._make_category_link                                    ┆ mwparserfromhell.nodes.wikilink.Wikilink ┆ Wikilink                  │\n",
      "│ basilisp-lang__basilisp                ┆ tests/basilisp/compiler_test.py                                ┆ CALLABLE_PARAMETER ┆ TestReify.test_reify_interface_must_implement_all_abstract_methods.code  ┆ builtins.str                             ┆ str                       │\n",
      "│ flopp__unicode-explorer                ┆ unicode/app.py                                                 ┆ CALLABLE_RETURN    ┆ search_bad_method                                                        ┆ werkzeug.wrappers.Response               ┆ Response                  │\n",
      "│ rakitaj__daily-programmer              ┆ algorithms/binary_tree.py                                      ┆ CALLABLE_RETURN    ┆ Solution.preorder_iter                                                   ┆ builtins.list                            ┆ list                      │\n",
      "│ nabla-c0d3__sslyze                     ┆ sslyze/server_setting.py                                       ┆ CALLABLE_PARAMETER ┆ _do_dns_lookup.hostname                                                  ┆ builtins.str                             ┆ str                       │\n",
      "│ jreese__aql                            ┆ aql/engines/sql.py                                             ┆ CALLABLE_RETURN    ┆ SqlEngine.update                                                         ┆ aql.query.PreparedQuery                  ┆ PreparedQuery             │\n",
      "│ rakitaj__daily-programmer              ┆ hackerrank/common.py                                           ┆ CALLABLE_PARAMETER ┆ dedupe_sequence.sequence                                                 ┆ typing.Sequence                          ┆ Sequence                  │\n",
      "│ eirannejad__calcatime                  ┆ calcatime.py                                                   ┆ CALLABLE_PARAMETER ┆ group_by_category.events                                                 ┆ builtins.list                            ┆ list                      │\n",
      "│ payscale__fables                       ┆ fables/parse.py                                                ┆ CALLABLE_RETURN    ┆ ParseVisitor.visit_Skip                                                  ┆ typing.Iterable                          ┆ Iterable                  │\n",
      "│ paulcwatts__drf-json-schema            ┆ rest_framework_json_schema/schema.py                           ┆ VARIABLE           ┆ BaseLinkedObject.metaλ1                                                  ┆ typing.Union                             ┆ Union                     │\n",
      "└────────────────────────────────────────┴────────────────────────────────────────────────────────────────┴────────────────────┴──────────────────────────────────────────────────────────────────────────┴──────────────────────────────────────────┴───────────────────────────┘\n"
     ]
    }
   ],
   "source": [
    "logger.info(filtered_ground_truths_vs_predictions.select(\n",
    "    pl.col(\"repository\"),\n",
    "    pl.col(ExtendedInferredSchema.file),\n",
    "    pl.col(ExtendedInferredSchema.category),\n",
    "    pl.col(ExtendedInferredSchema.qname_ssa),\n",
    "    pl.col(ExtendedInferredSchema.parametric_anno),\n",
    "    pl.col(\"rewritten_parametric_anno\"),\n",
    ").sample(n=20))"
   ]
  },
  {
   "cell_type": "code",
   "execution_count": 70,
   "metadata": {},
   "outputs": [
    {
     "name": "stderr",
     "output_type": "stream",
     "text": [
      "[TypeT5TopN1 @ INFO]: shape: (20, 6)\n",
      "┌────────────────────────────────────────┬─────────────────────────────────────────────┬────────────────────┬─────────────────────────────────────────┬─────────────────────────────────────────────────────────────────────────────────────────┬────────────────────────────────┐\n",
      "│ repository                             ┆ file                                        ┆ category           ┆ qname_ssa                               ┆ anno_predict                                                                            ┆ rewritten_anno_predict         │\n",
      "│ ---                                    ┆ ---                                         ┆ ---                ┆ ---                                     ┆ ---                                                                                     ┆ ---                            │\n",
      "│ str                                    ┆ str                                         ┆ str                ┆ str                                     ┆ str                                                                                     ┆ str                            │\n",
      "╞════════════════════════════════════════╪═════════════════════════════════════════════╪════════════════════╪═════════════════════════════════════════╪═════════════════════════════════════════════════════════════════════════════════════════╪════════════════════════════════╡\n",
      "│ seattleflu__id3c                       ┆ lib/id3c/cli/command/etl/fhir.py            ┆ CALLABLE_RETURN    ┆ extract_related_resources               ┆ builtins.dict[builtins.str,builtins.list[fhir.resources.domainresource.DomainResource]] ┆ dict[str,list[DomainResource]] │\n",
      "│ marcosschroh__dataclasses-avroschema   ┆ tests/model_generator/conftest.py           ┆ CALLABLE_RETURN    ┆ schema_one_to_self_relationship         ┆ builtins.dict[builtins.str,typing.Any]                                                  ┆ dict[str,Any]                  │\n",
      "│ payscale__fables                       ┆ fables/tree.py                              ┆ CALLABLE_RETURN    ┆ node_from_file                          ┆ fables.tree.FileNode                                                                    ┆ FileNode                       │\n",
      "│ marcosschroh__dataclasses-avroschema   ┆ tests/serialization/test_serialization.py   ┆ VARIABLE           ┆ UserAdvance.event_uuidλ1                ┆ uuid.UUID                                                                               ┆ UUID                           │\n",
      "│ lucaswerkmeister__tool-quickcategories ┆ database.py                                 ┆ CALLABLE_PARAMETER ┆ DatabaseStore._row_to_command_record.id ┆ builtins.str                                                                            ┆ str                            │\n",
      "│ seattleflu__id3c                       ┆ lib/id3c/cli/command/etl/manifest.py        ┆ CALLABLE_PARAMETER ┆ etl_manifest.db                         ┆ DatabaseSession                                                                         ┆ DatabaseSession                │\n",
      "│ ActivityWatch__aw-research             ┆ aw_research/classify.py                     ┆ CALLABLE_RETURN    ┆ _datetime_arg                           ┆ datetime.datetime                                                                       ┆ datetime                       │\n",
      "│ kornicameister__axion                  ┆ tests/conftest.py                           ┆ CALLABLE_PARAMETER ┆ spec_path.random_spec                   ┆ pathlib.Path                                                                            ┆ Path                           │\n",
      "│ joshtemple__lkml                       ┆ lkml/visitors.py                            ┆ CALLABLE_PARAMETER ┆ BasicVisitor.visit_token.token          ┆ lkml.tree.SyntaxToken                                                                   ┆ SyntaxToken                    │\n",
      "│ road-master__video-archiver            ┆ tests/testlibraries/cookie_jar_factory.py   ┆ CALLABLE_RETURN    ┆ RequestsCookieJarFactory.create         ┆ requests.cookies.RequestsCookieJar                                                      ┆ RequestsCookieJar              │\n",
      "│ payscale__fables                       ┆ fables/tree.py                              ┆ CALLABLE_PARAMETER ┆ FileNode.add_password.password          ┆ builtins.str                                                                            ┆ str                            │\n",
      "│ basilisp-lang__basilisp                ┆ tests/basilisp/namespace_test.py            ┆ CALLABLE_PARAMETER ┆ test_cannot_remove_core.ns_cache        ┆ basilisp.lang.runtime.NamespaceMap                                                      ┆ NamespaceMap                   │\n",
      "│ albertyw__albertyw.com                 ┆ app/note_util.py                            ┆ CALLABLE_PARAMETER ┆ get_note_from_slug.directory            ┆ builtins.str                                                                            ┆ str                            │\n",
      "│ nabla-c0d3__sslyze                     ┆ sslyze/json/json_output.py                  ┆ CALLABLE_RETURN    ┆ ServerScanResultAsJson.from_orm         ┆ sslyze.json.json_output.SslyzeOutputAsJson                                              ┆ SslyzeOutputAsJson             │\n",
      "│ albertyw__git-browse                   ┆ git_browse/browse.py                        ┆ CALLABLE_PARAMETER ┆ open_url.copy_clipboard                 ┆ builtins.bool                                                                           ┆ bool                           │\n",
      "│ scalableminds__webknossos-connect      ┆ wkconnect/backends/neuroglancer/sharding.py ┆ CALLABLE_RETURN    ┆ ShardingInfo.parse_minishard_index      ┆ numpy.ndarray                                                                           ┆ ndarray                        │\n",
      "│ knowark__estimark                      ┆ estimark/core/data/rst_loader.py            ┆ CALLABLE_PARAMETER ┆ RstLoader.__init__.root                 ┆ pathlib.Path                                                                            ┆ Path                           │\n",
      "│ nubark__instark                        ┆ instark/presenters/rest/helpers/request.py  ┆ CALLABLE_RETURN    ┆ get_request_filter                      ┆ builtins.tuple[builtins.str,builtins.int,builtins.int]                                  ┆ tuple[str,int,int]             │\n",
      "│ seattleflu__id3c                       ┆ lib/id3c/cli/redcap.py                      ┆ CALLABLE_RETURN    ┆ Record.update_record                    ┆ lib.id3c.cli.redcap.Project                                                             ┆ Project                        │\n",
      "│ jreese__aql                            ┆ aql/query.py                                ┆ CALLABLE_PARAMETER ┆ Query.limit.n                           ┆ builtins.int                                                                            ┆ int                            │\n",
      "└────────────────────────────────────────┴─────────────────────────────────────────────┴────────────────────┴─────────────────────────────────────────┴─────────────────────────────────────────────────────────────────────────────────────────┴────────────────────────────────┘\n"
     ]
    }
   ],
   "source": [
    "logger.info(filtered_ground_truths_vs_predictions.select(\n",
    "    pl.col(\"repository\"),\n",
    "    pl.col(ExtendedInferredSchema.file),\n",
    "    pl.col(ExtendedInferredSchema.category),\n",
    "    pl.col(ExtendedInferredSchema.qname_ssa),\n",
    "    pl.col(\"anno_predict\"),\n",
    "    pl.col(\"rewritten_anno_predict\"),\n",
    ").sample(n=20))"
   ]
  },
  {
   "cell_type": "code",
   "execution_count": 71,
   "metadata": {},
   "outputs": [
    {
     "name": "stderr",
     "output_type": "stream",
     "text": [
      "[TypeT5TopN1 @ INFO]: shape: (20, 6)\n",
      "┌──────────────────────────────────────┬─────────────────────────────────────────────────────┬────────────────────┬──────────────────────────────────────────────────────────────────────────────────┬──────────────────────────────────────────────────────────────────────────┬───────────────────────────────────┐\n",
      "│ repository                           ┆ file                                                ┆ category           ┆ qname_ssa                                                                        ┆ parametric_anno_predict                                                  ┆ rewritten_parametric_anno_predict │\n",
      "│ ---                                  ┆ ---                                                 ┆ ---                ┆ ---                                                                              ┆ ---                                                                      ┆ ---                               │\n",
      "│ str                                  ┆ str                                                 ┆ str                ┆ str                                                                              ┆ str                                                                      ┆ str                               │\n",
      "╞══════════════════════════════════════╪═════════════════════════════════════════════════════╪════════════════════╪══════════════════════════════════════════════════════════════════════════════════╪══════════════════════════════════════════════════════════════════════════╪═══════════════════════════════════╡\n",
      "│ kornicameister__axion                ┆ tests/test_handler_analysis_headers_arg.py          ┆ CALLABLE_PARAMETER ┆ test_no_oas_headers_typed_dict_bad_type.mocker                                   ┆ pytest_mock.Mock                                                         ┆ Mock                              │\n",
      "│ rakitaj__daily-programmer            ┆ hackerrank/implementation/implementation.py         ┆ CALLABLE_RETURN    ┆ picking_numbers                                                                  ┆ builtins.int                                                             ┆ int                               │\n",
      "│ scalableminds__webknossos-connect    ┆ wkconnect/backends/backend.py                       ┆ CALLABLE_PARAMETER ┆ Backend.handle_new_dataset.dataset_name                                          ┆ builtins.str                                                             ┆ str                               │\n",
      "│ road-master__video-archiver          ┆ tests/testlibraries/cookie_jar_factory.py           ┆ CALLABLE_PARAMETER ┆ RequestsCookieJarFactory.create.list_cookie                                      ┆ builtins.list                                                            ┆ list                              │\n",
      "│ paulcwatts__drf-json-schema          ┆ rest_framework_json_schema/transforms.py            ┆ CALLABLE_PARAMETER ┆ _upper.name                                                                      ┆ builtins.str                                                             ┆ str                               │\n",
      "│ nabla-c0d3__sslyze                   ┆ sslyze/plugins/certificate_info/_cli_connector.py   ┆ CALLABLE_PARAMETER ┆ _CertificateInfoCliConnector._get_basic_certificate_text.certificate             ┆ sslyze.plugins.certificate_info.implementation.CertificateInfoScanResult ┆ CertificateInfoScanResult         │\n",
      "│ kitsuyui__bamboo-crawler             ┆ bamboo_crawler/cli.py                               ┆ CALLABLE_PARAMETER ┆ setup_logger.debug                                                               ┆ builtins.bool                                                            ┆ bool                              │\n",
      "│ reddit__baseplate.py-upgrader        ┆ baseplate_py_upgrader/docker.py                     ┆ CALLABLE_PARAMETER ┆ upgrade_docker_image_references.root                                             ┆ pathlib.Path                                                             ┆ Path                              │\n",
      "│ payscale__fables                     ┆ fables/parse.py                                     ┆ CALLABLE_RETURN    ┆ remove_data_before_header                                                        ┆ pandas.DataFrame                                                         ┆ DataFrame                         │\n",
      "│ ActivityWatch__aw-research           ┆ aw_research/thankful.py                             ┆ CALLABLE_RETURN    ┆ find_email_address                                                               ┆ typing.Union                                                             ┆ Union                             │\n",
      "│ scalableminds__webknossos-connect    ┆ wkconnect/utils/types.py                            ┆ CALLABLE_RETURN    ┆ Box3D.div                                                                        ┆ wkconnect.utils.types.Box3D                                              ┆ Box3D                             │\n",
      "│ joshtemple__lkml                     ┆ lkml/tree.py                                        ┆ CALLABLE_RETURN    ┆ BlockNode.line_number                                                            ┆ typing.Union                                                             ┆ Union                             │\n",
      "│ webrecorder__browsertrix             ┆ backend/btrixcloud/crawlconfigs.py                  ┆ CALLABLE_PARAMETER ┆ CrawlConfigOps.add_crawl_config.user                                             ┆ backend.btrixcloud.users.User                                            ┆ User                              │\n",
      "│ rakitaj__daily-programmer            ┆ leetcode/problem023.py                              ┆ CALLABLE_RETURN    ┆ Solution.merge_lists                                                             ┆ typing.Union                                                             ┆ Union                             │\n",
      "│ kornicameister__axion                ┆ axion/oas/model.py                                  ┆ CALLABLE_PARAMETER ┆ OASQueryParameter.__init__.name                                                  ┆ builtins.str                                                             ┆ str                               │\n",
      "│ marcosschroh__dataclasses-avroschema ┆ dataclasses_avroschema/model_generator/generator.py ┆ CALLABLE_PARAMETER ┆ ModelGenerator.render_field.field                                                ┆ dataclasses_avroschema.types.JsonDict                                    ┆ JsonDict                          │\n",
      "│ webrecorder__browsertrix             ┆ backend/btrixcloud/crawls.py                        ┆ CALLABLE_PARAMETER ┆ CrawlOps.list_crawls.crawl_id                                                    ┆ builtins.str                                                             ┆ str                               │\n",
      "│ flopp__GpxTrackPoster                ┆ gpxtrackposter/poster.py                            ┆ CALLABLE_PARAMETER ┆ Poster.draw.drawer                                                               ┆ gpxtrackposter.tracks_drawer.TracksDrawer                                ┆ TracksDrawer                      │\n",
      "│ silasary__discord_connotations       ┆ discordbot/main.py                                  ┆ CALLABLE_PARAMETER ┆ Bot.on_message_create.event                                                      ┆ naff.api.events.MessageCreate                                            ┆ MessageCreate                     │\n",
      "│ basilisp-lang__basilisp              ┆ tests/basilisp/compiler_test.py                     ┆ CALLABLE_PARAMETER ┆ TestDefType.TestDefTypeProperty.test_deftype_property_may_not_have_args.lcompile ┆ tests.basilisp.helpers.CompileFn                                         ┆ CompileFn                         │\n",
      "└──────────────────────────────────────┴─────────────────────────────────────────────────────┴────────────────────┴──────────────────────────────────────────────────────────────────────────────────┴──────────────────────────────────────────────────────────────────────────┴───────────────────────────────────┘\n"
     ]
    }
   ],
   "source": [
    "logger.info(filtered_ground_truths_vs_predictions.select(\n",
    "    pl.col(\"repository\"),\n",
    "    pl.col(ExtendedInferredSchema.file),\n",
    "    pl.col(ExtendedInferredSchema.category),\n",
    "    pl.col(ExtendedInferredSchema.qname_ssa),\n",
    "    pl.col(\"parametric_anno_predict\"),\n",
    "    pl.col(\"rewritten_parametric_anno_predict\"),\n",
    ").sample(n=20))"
   ]
  },
  {
   "cell_type": "markdown",
   "metadata": {},
   "source": [
    "# Accept transformed dataset"
   ]
  },
  {
   "cell_type": "code",
   "execution_count": 72,
   "metadata": {},
   "outputs": [],
   "source": [
    "filtered_ground_truths_vs_predictions = filtered_ground_truths_vs_predictions.with_columns([\n",
    "    pl.col(\"rewritten_anno\").alias(ExtendedInferredSchema.anno),\n",
    "    pl.col(\"rewritten_parametric_anno\").alias(ExtendedInferredSchema.parametric_anno),\n",
    "    pl.col(\"rewritten_anno_predict\").alias(\"anno_predict\"),\n",
    "    pl.col(\"rewritten_parametric_anno_predict\").alias(\"parametric_anno_predict\")\n",
    "]).drop([\"rewritten_anno\", \"rewritten_parametric_anno\", \"rewritten_anno_predict\", \"rewritten_parametric_anno_predict\"])"
   ]
  },
  {
   "cell_type": "code",
   "execution_count": 73,
   "metadata": {},
   "outputs": [
    {
     "name": "stderr",
     "output_type": "stream",
     "text": [
      "[TypeT5TopN1 @ INFO]: shape: (20, 8)\n",
      "┌──────────────────────────────────────┬─────────────────────────────────────────────────────────────┬────────────────────┬─────────────────────────────────────────────────────────────────────────────────┬───────────────────────────────────┬───────────────────────────────────┬─────────────────────┬─────────────────────────┐\n",
      "│ repository                           ┆ file                                                        ┆ category           ┆ qname_ssa                                                                       ┆ anno                              ┆ anno_predict                      ┆ parametric_anno     ┆ parametric_anno_predict │\n",
      "│ ---                                  ┆ ---                                                         ┆ ---                ┆ ---                                                                             ┆ ---                               ┆ ---                               ┆ ---                 ┆ ---                     │\n",
      "│ str                                  ┆ str                                                         ┆ str                ┆ str                                                                             ┆ str                               ┆ str                               ┆ str                 ┆ str                     │\n",
      "╞══════════════════════════════════════╪═════════════════════════════════════════════════════════════╪════════════════════╪═════════════════════════════════════════════════════════════════════════════════╪═══════════════════════════════════╪═══════════════════════════════════╪═════════════════════╪═════════════════════════╡\n",
      "│ nabla-c0d3__sslyze                   ┆ sslyze/connection_helpers/tls_connection.py                 ┆ CALLABLE_PARAMETER ┆ SslConnection.__init__.should_use_legacy_openssl                                ┆ Union[None,bool]                  ┆ Union[None,bool]                  ┆ Union               ┆ Union                   │\n",
      "│ amplify-education__python-hcl2       ┆ hcl2/transformer.py                                         ┆ CALLABLE_RETURN    ┆ DictTransformer.unary_op                                                        ┆ str                               ┆ str                               ┆ str                 ┆ str                     │\n",
      "│ futursolo__magichttp                 ┆ magichttp/protocols.py                                      ┆ CALLABLE_PARAMETER ┆ HttpClientProtocol.write_request.scheme                                         ┆ Union[None,str]                   ┆ Union[None,str]                   ┆ Union               ┆ Union                   │\n",
      "│ ammarnajjar__pautomate               ┆ pautomate/common/git.py                                     ┆ CALLABLE_PARAMETER ┆ shell_first.command                                                             ┆ str                               ┆ str                               ┆ str                 ┆ str                     │\n",
      "│ antonagestam__collectfast            ┆ collectfast/management/commands/collectstatic.py            ┆ CALLABLE_PARAMETER ┆ Command.delete_file.source_storage                                              ┆ Storage                           ┆ Storage                           ┆ Storage             ┆ Storage                 │\n",
      "│ marcosschroh__dataclasses-avroschema ┆ tests/serialization/test_serialization.py                   ┆ VARIABLE           ┆ UserAdvance.md5λ1                                                               ┆ bytes                             ┆ bytes                             ┆ bytes               ┆ bytes                   │\n",
      "│ sonic182__aiosonic                   ┆ aiosonic/__init__.py                                        ┆ CALLABLE_RETURN    ┆ HTTPClient.get                                                                  ┆ HttpResponse                      ┆ HttpResponse                      ┆ HttpResponse        ┆ HttpResponse            │\n",
      "│ kornicameister__axion                ┆ axion/oas_mypy/__init__.py                                  ┆ CALLABLE_PARAMETER ┆ transform_parameter_to_type.ctx                                                 ┆ FunctionContext                   ┆ CallableContext                   ┆ FunctionContext     ┆ CallableContext         │\n",
      "│ nubark__instark                      ┆ tests/application/managers/test_notification_coordinator.py ┆ CALLABLE_PARAMETER ┆ test_notification_manager_delete_message.notification_manager                   ┆ NotificationManager               ┆ NotificationManager               ┆ NotificationManager ┆ NotificationManager     │\n",
      "│ kornicameister__axion                ┆ tests/test_oas_parameter.py                                 ┆ CALLABLE_PARAMETER ┆ test_header_param_invalid_name.param_name                                       ┆ str                               ┆ str                               ┆ str                 ┆ str                     │\n",
      "│ albertyw__git-browse                 ┆ git_browse/browse.py                                        ┆ CALLABLE_RETURN    ┆ get_commit_hash                                                                 ┆ Union[FocusHash,None]             ┆ Union[FocusHash,None]             ┆ Union               ┆ Union                   │\n",
      "│ jreese__aql                          ┆ aql/table.py                                                ┆ CALLABLE_RETURN    ┆ Table.__contains__                                                              ┆ bool                              ┆ bool                              ┆ bool                ┆ bool                    │\n",
      "│ basilisp-lang__basilisp              ┆ tests/basilisp/compiler_test.py                             ┆ CALLABLE_PARAMETER ┆ TestReify.TestReifyProperty.test_reify_property_may_not_be_multi_arity.lcompile ┆ CompileFn                         ┆ CompileFn                         ┆ CompileFn           ┆ CompileFn               │\n",
      "│ basilisp-lang__basilisp              ┆ tests/basilisp/compiler_test.py                             ┆ CALLABLE_PARAMETER ┆ TestReify.TestReifyMethod.test_reify_method_with_varargs_malformed.lcompile     ┆ CompileFn                         ┆ CompileFn                         ┆ CompileFn           ┆ CompileFn               │\n",
      "│ jreese__aql                          ┆ aql/engines/base.py                                         ┆ CALLABLE_PARAMETER ┆ Cursor.__init__.connection                                                      ┆ Connection                        ┆ Connection                        ┆ Connection          ┆ Connection              │\n",
      "│ nabla-c0d3__sslyze                   ┆ tests/factories.py                                          ┆ CALLABLE_PARAMETER ┆ ServerScanRequestFactory.create.server_location                                 ┆ Union[None,ServerNetworkLocation] ┆ Union[None,ServerNetworkLocation] ┆ Union               ┆ Union                   │\n",
      "│ Gerschtli__teamspeak-update-notifier ┆ notifier/client.py                                          ┆ CALLABLE_PARAMETER ┆ Client.listen.handlers_list                                                     ┆ list[Handler]                     ┆ list[Handler]                     ┆ list                ┆ list                    │\n",
      "│ everyclass__everyclass-server        ┆ everyclass/server/entity/model/rooms.py                     ┆ CALLABLE_RETURN    ┆ Campus.make                                                                     ┆ Campus                            ┆ Room                              ┆ Campus              ┆ Room                    │\n",
      "│ webrecorder__browsertrix             ┆ backend/btrixcloud/orgs.py                                  ┆ CALLABLE_PARAMETER ┆ OrgOps.add_user_to_org.org                                                      ┆ Organization                      ┆ Organization                      ┆ Organization        ┆ Organization            │\n",
      "│ everyclass__everyclass-server        ┆ everyclass/server/user/model/grant.py                       ┆ CALLABLE_PARAMETER ┆ Grant.new.user_id                                                               ┆ str                               ┆ str                               ┆ str                 ┆ str                     │\n",
      "└──────────────────────────────────────┴─────────────────────────────────────────────────────────────┴────────────────────┴─────────────────────────────────────────────────────────────────────────────────┴───────────────────────────────────┴───────────────────────────────────┴─────────────────────┴─────────────────────────┘\n"
     ]
    }
   ],
   "source": [
    "logger.info(filtered_ground_truths_vs_predictions.select(\n",
    "    pl.col(\"repository\"),\n",
    "    pl.col(ExtendedInferredSchema.file),\n",
    "    pl.col(ExtendedInferredSchema.category),\n",
    "    pl.col(ExtendedInferredSchema.qname_ssa),\n",
    "    pl.col(\"anno\"),\n",
    "    pl.col(\"anno_predict\"),\n",
    "    pl.col(\"parametric_anno\"),\n",
    "    pl.col(\"parametric_anno_predict\"),\n",
    ").sample(n=20))"
   ]
  },
  {
   "cell_type": "markdown",
   "metadata": {},
   "source": [
    "#  Prediction Metrics for Full Accuracy"
   ]
  },
  {
   "cell_type": "code",
   "execution_count": 14,
   "metadata": {
    "scrolled": true
   },
   "outputs": [
    {
     "name": "stderr",
     "output_type": "stream",
     "text": [
      "[HiTypilusN1 @ INFO]: Rewritten repos are at /home/benji/Documents/Uni/heidelberg/05/masterarbeit/impls/scripts/experiments/typilus-repos\n"
     ]
    },
    {
     "name": "stdout",
     "output_type": "stream",
     "text": [
      "50\n"
     ]
    },
    {
     "name": "stderr",
     "output_type": "stream",
     "text": [
      "\n",
      "Parsing labels:   0%|                                                                                                                                                                                                  | 0/50 [00:00<?, ?it/s]\u001b[A\n",
      "Parsing labels:   2%|███▋                                                                                                                                                                                      | 1/50 [00:02<01:46,  2.16s/it]\u001b[A\n",
      "Parsing labels:   4%|███████▍                                                                                                                                                                                  | 2/50 [00:03<01:09,  1.45s/it]\u001b[A\n",
      "Parsing labels:   6%|███████████▏                                                                                                                                                                              | 3/50 [00:03<00:47,  1.01s/it]\u001b[A\n",
      "Parsing labels:   8%|██████████████▉                                                                                                                                                                           | 4/50 [00:06<01:27,  1.89s/it]\u001b[A\n",
      "Parsing labels:  10%|██████████████████▌                                                                                                                                                                       | 5/50 [00:07<01:09,  1.54s/it]\u001b[A\n",
      "Parsing labels:  12%|██████████████████████▎                                                                                                                                                                   | 6/50 [00:28<05:53,  8.02s/it]\u001b[A\n",
      "Parsing labels:  14%|██████████████████████████                                                                                                                                                                | 7/50 [00:33<05:00,  6.98s/it]\u001b[A\n",
      "Parsing labels:  16%|█████████████████████████████▊                                                                                                                                                            | 8/50 [00:34<03:33,  5.08s/it]\u001b[A\n",
      "Parsing labels:  18%|█████████████████████████████████▍                                                                                                                                                        | 9/50 [00:34<02:27,  3.59s/it]\u001b[A\n",
      "Parsing labels:  20%|█████████████████████████████████████                                                                                                                                                    | 10/50 [00:36<02:01,  3.03s/it]\u001b[A\n",
      "Parsing labels:  22%|████████████████████████████████████████▋                                                                                                                                                | 11/50 [00:37<01:33,  2.39s/it]\u001b[A\n",
      "Parsing labels:  24%|████████████████████████████████████████████▍                                                                                                                                            | 12/50 [00:39<01:33,  2.45s/it]\u001b[A\n",
      "Parsing labels:  26%|████████████████████████████████████████████████                                                                                                                                         | 13/50 [00:40<01:09,  1.88s/it]\u001b[A\n",
      "Parsing labels:  28%|███████████████████████████████████████████████████▊                                                                                                                                     | 14/50 [00:40<00:48,  1.35s/it]\u001b[A\n",
      "Parsing labels:  30%|███████████████████████████████████████████████████████▌                                                                                                                                 | 15/50 [00:42<00:58,  1.67s/it]\u001b[A\n",
      "Parsing labels:  32%|███████████████████████████████████████████████████████████▏                                                                                                                             | 16/50 [00:46<01:19,  2.35s/it]\u001b[A\n",
      "Parsing labels:  34%|██████████████████████████████████████████████████████████████▉                                                                                                                          | 17/50 [00:48<01:11,  2.16s/it]\u001b[A\n",
      "Parsing labels:  36%|██████████████████████████████████████████████████████████████████▌                                                                                                                      | 18/50 [00:54<01:42,  3.22s/it]\u001b[A\n",
      "Parsing labels:  38%|██████████████████████████████████████████████████████████████████████▎                                                                                                                  | 19/50 [00:58<01:47,  3.46s/it]\u001b[A\n",
      "Parsing labels:  40%|██████████████████████████████████████████████████████████████████████████                                                                                                               | 20/50 [00:58<01:15,  2.52s/it]\u001b[A\n",
      "Parsing labels:  42%|█████████████████████████████████████████████████████████████████████████████▋                                                                                                           | 21/50 [00:59<00:58,  2.01s/it]\u001b[A\n",
      "Parsing labels:  44%|█████████████████████████████████████████████████████████████████████████████████▍                                                                                                       | 22/50 [01:03<01:16,  2.73s/it]\u001b[A\n",
      "Parsing labels:  46%|█████████████████████████████████████████████████████████████████████████████████████                                                                                                    | 23/50 [01:04<00:58,  2.16s/it]\u001b[A\n",
      "Parsing labels:  48%|████████████████████████████████████████████████████████████████████████████████████████▊                                                                                                | 24/50 [01:06<00:51,  1.99s/it]\u001b[A\n",
      "Parsing labels:  50%|████████████████████████████████████████████████████████████████████████████████████████████▌                                                                                            | 25/50 [01:08<00:54,  2.19s/it]\u001b[A\n",
      "Parsing labels:  52%|████████████████████████████████████████████████████████████████████████████████████████████████▏                                                                                        | 26/50 [01:09<00:44,  1.86s/it]\u001b[A\n",
      "Parsing labels:  54%|███████████████████████████████████████████████████████████████████████████████████████████████████▉                                                                                     | 27/50 [01:11<00:38,  1.68s/it]\u001b[A\n",
      "Parsing labels:  56%|███████████████████████████████████████████████████████████████████████████████████████████████████████▌                                                                                 | 28/50 [01:11<00:27,  1.24s/it]\u001b[A\n",
      "Parsing labels:  58%|███████████████████████████████████████████████████████████████████████████████████████████████████████████▎                                                                             | 29/50 [01:18<01:01,  2.92s/it]\u001b[A\n",
      "Parsing labels:  60%|███████████████████████████████████████████████████████████████████████████████████████████████████████████████                                                                          | 30/50 [01:18<00:44,  2.21s/it]\u001b[A\n",
      "Parsing labels:  62%|██████████████████████████████████████████████████████████████████████████████████████████████████████████████████▋                                                                      | 31/50 [01:20<00:39,  2.10s/it]\u001b[A\n",
      "Parsing labels:  64%|██████████████████████████████████████████████████████████████████████████████████████████████████████████████████████▍                                                                  | 32/50 [01:21<00:30,  1.67s/it]\u001b[A\n",
      "Parsing labels:  66%|██████████████████████████████████████████████████████████████████████████████████████████████████████████████████████████                                                               | 33/50 [01:21<00:22,  1.30s/it]\u001b[A\n",
      "Parsing labels:  68%|█████████████████████████████████████████████████████████████████████████████████████████████████████████████████████████████▊                                                           | 34/50 [01:22<00:16,  1.01s/it]\u001b[A\n",
      "Parsing labels:  70%|█████████████████████████████████████████████████████████████████████████████████████████████████████████████████████████████████▌                                                       | 35/50 [01:27<00:35,  2.39s/it]\u001b[A\n",
      "Parsing labels:  72%|█████████████████████████████████████████████████████████████████████████████████████████████████████████████████████████████████████▏                                                   | 36/50 [01:29<00:30,  2.16s/it]\u001b[A\n",
      "Parsing labels:  74%|████████████████████████████████████████████████████████████████████████████████████████████████████████████████████████████████████████▉                                                | 37/50 [01:30<00:22,  1.72s/it]\u001b[A\n",
      "Parsing labels:  76%|████████████████████████████████████████████████████████████████████████████████████████████████████████████████████████████████████████████▌                                            | 38/50 [01:32<00:22,  1.88s/it]\u001b[A\n",
      "Parsing labels:  78%|████████████████████████████████████████████████████████████████████████████████████████████████████████████████████████████████████████████████▎                                        | 39/50 [01:33<00:19,  1.76s/it]\u001b[A\n",
      "Parsing labels:  80%|████████████████████████████████████████████████████████████████████████████████████████████████████████████████████████████████████████████████████                                     | 40/50 [01:35<00:18,  1.83s/it]\u001b[A\n",
      "Parsing labels:  82%|███████████████████████████████████████████████████████████████████████████████████████████████████████████████████████████████████████████████████████▋                                 | 41/50 [01:39<00:21,  2.36s/it]\u001b[A\n",
      "Parsing labels:  84%|███████████████████████████████████████████████████████████████████████████████████████████████████████████████████████████████████████████████████████████▍                             | 42/50 [01:46<00:31,  3.93s/it]\u001b[A\n",
      "Parsing labels:  86%|███████████████████████████████████████████████████████████████████████████████████████████████████████████████████████████████████████████████████████████████                          | 43/50 [01:49<00:25,  3.57s/it]\u001b[A\n",
      "Parsing labels:  88%|██████████████████████████████████████████████████████████████████████████████████████████████████████████████████████████████████████████████████████████████████▊                      | 44/50 [01:50<00:15,  2.65s/it]\u001b[A\n",
      "Parsing labels:  90%|██████████████████████████████████████████████████████████████████████████████████████████████████████████████████████████████████████████████████████████████████████▌                  | 45/50 [01:50<00:10,  2.03s/it]\u001b[A\n",
      "Parsing labels:  92%|██████████████████████████████████████████████████████████████████████████████████████████████████████████████████████████████████████████████████████████████████████████▏              | 46/50 [01:58<00:15,  3.79s/it]\u001b[A\n",
      "Parsing labels:  94%|█████████████████████████████████████████████████████████████████████████████████████████████████████████████████████████████████████████████████████████████████████████████▉           | 47/50 [02:00<00:09,  3.09s/it]\u001b[A\n",
      "Parsing labels:  96%|█████████████████████████████████████████████████████████████████████████████████████████████████████████████████████████████████████████████████████████████████████████████████▌       | 48/50 [02:05<00:07,  3.74s/it]\u001b[A\n",
      "Parsing labels:  98%|█████████████████████████████████████████████████████████████████████████████████████████████████████████████████████████████████████████████████████████████████████████████████████▎   | 49/50 [02:08<00:03,  3.69s/it]\u001b[A\n",
      "Parsing labels: 100%|█████████████████████████████████████████████████████████████████████████████████████████████████████████████████████████████████████████████████████████████████████████████████████████| 50/50 [02:11<00:00,  2.63s/it]\u001b[A\n"
     ]
    }
   ],
   "source": [
    "import pathlib, shutil, tqdm\n",
    "\n",
    "from typet5.static_analysis import PythonProject\n",
    "from typet5.experiments.utils import remove_newer_syntax_for_repo\n",
    "from typet5.experiments.typilus import TypilusSupportedSyntax\n",
    "\n",
    "repos_dir = dataset.dataset_root\n",
    "typilus_rewritten_repos = pathlib.Path() / \"typilus-repos\"\n",
    "if not typilus_rewritten_repos.is_dir():\n",
    "    logger.info(\"Creating rewritten repos\")\n",
    "    shutil.copytree(repos_dir / \"repos\" / \"test\", typilus_rewritten_repos)\n",
    "    remove_newer_syntax_for_repo(typilus_rewritten_repos, TypilusSupportedSyntax)\n",
    "\n",
    "logger.info(f\"Rewritten repos are at {typilus_rewritten_repos.resolve()}\")\n",
    "name_to_location = {r.name: r for r in typilus_rewritten_repos.iterdir() if r.is_dir()}\n",
    "print(len(name_to_location))\n",
    "\n",
    "name_to_parsed = {\n",
    "    name: PythonProject.parse_from_root(root, discard_bad_files=True) \n",
    "    for name, root in tqdm.tqdm(name_to_location.items(), \"Parsing labels\")\n",
    "}\n",
    "# print(name_to_parsed[\"ActivityWatch__aw-research\"])"
   ]
  },
  {
   "cell_type": "code",
   "execution_count": 21,
   "metadata": {},
   "outputs": [
    {
     "data": {
      "application/vnd.jupyter.widget-view+json": {
       "model_id": "b191ebfced4d4ddcb7b79c893d05a9b8",
       "version_major": 2,
       "version_minor": 0
      },
      "text/plain": [
       "Fetching 9 files:   0%|          | 0/9 [00:00<?, ?it/s]"
      ]
     },
     "metadata": {},
     "output_type": "display_data"
    },
    {
     "name": "stderr",
     "output_type": "stream",
     "text": [
      "[HiTypilusN1 @ DEBUG]: 100 common types are known by TypeT5\n",
      "[HiTypilusN1 @ DEBUG]: {'IO', 'Collection', 'Qubit', 'bytes', 'Decimal', 'Table', 'DataFrame', 'Client', 'Set', 'ndarray', '_MakeClient', 'UserID', 'Item', 'T', 'object', '_T', 'PartyID', 'Parameter', 'Token', 'Scope', 'Flask', 'Container', 'MagicMock', 'Dict', 'Config', 'View', 'Module', 'None', 'HttpRequest', 'DataT', 'Variable', 'Text', 'Address', 'Source', 'BaseException', 'Path', 'Node', 'Type', 'User', 'Settings', 'type', 'ArgumentParser', 'Outcome', 'Tuple', 'Iterable', 'CWLObjectType', 'Tensor', 'Task', 'str', 'List', 'Name', 'URL', 'Logger', 'Result', 'Any', 'Model', 'Generator', 'int', 'Union', 'Mapping', 'GlobalState', 'Namespace', 'Configuration', 'Literal', '<List>', 'Vertex', 'Awaitable', 'Expr', 'Exception', 'Redis', 'Nvim', 'Article', 'Iterator', 'Field', 'BlockHeaderAPI', 'BytesIO', 'Application', 'UserContext', 'Session', 'State', 'Root', '...', 'Callable', 'float', 'Mock', 'Event', 'Issue', 'Candidates', 'Context', 'ID', 'timedelta', 'bool', 'Sequence', 'date', 'AsyncIterator', 'Connection', 'Response', 'datetime', 'Request', 'Message'}\n"
     ]
    }
   ],
   "source": [
    "# TypeT5 paper has Typilus evaluated ONLY on common types, as the freely trained model has no ability of predicting \n",
    "#\n",
    "# The original Typilus model can predict from a set of common types as well as (nonparametric) userdefined types, \n",
    "# but their released model can only predict common types, so we only evaluate its performance on common types. - TypeT5 Paper\n",
    "import libcst\n",
    "\n",
    "from typet5.model import ModelWrapper\n",
    "model = ModelWrapper.load_from_hub(\"MrVPlusOne/TypeT5-v7\")\n",
    "common_names = common_types = model.common_type_names\n",
    "\n",
    "logger.debug(f\"{len(common_types)} common types are known by TypeT5\")\n",
    "logger.debug(f\"{common_types}\")"
   ]
  },
  {
   "cell_type": "code",
   "execution_count": 19,
   "metadata": {},
   "outputs": [],
   "source": [
    "import pathlib, collections\n",
    "\n",
    "# Because our analysis reviews more datapoints than these models actually regard, reuse TypeT5 metrics instead\n",
    "def typet5_metrics_4_hitypilus(task: TypeCollectionCategory | str) -> None:\n",
    "    def cleanup_predictions(predictions: dict) -> dict:\n",
    "        # {'global@global': [{'category': 'local', 'name': '__all__', 'type': ['tuple[typing.Text]']}]}\n",
    "        rewritten_predictions = collections.defaultdict(list)\n",
    "        for scope, ps in predictions.items():\n",
    "            for p in ps:\n",
    "                rewritten_p = p.copy()\n",
    "                rewritten_p[\"type\"] = [ty.replace(\"typing.Text\", \"str\") for ty in rewritten_p[\"type\"]]\n",
    "                \n",
    "                # if rewritten_p[\"type\"] or rewritten_p[\"category\"] != \"local\":\n",
    "                rewritten_predictions[scope].append(rewritten_p)\n",
    "        \n",
    "        return rewritten_predictions\n",
    "    \n",
    "    from scripts.common.output import InferenceArtifactIO\n",
    "\n",
    "    test_set = dataset.test_set()\n",
    "\n",
    "    proj2datasets = [\n",
    "        (\n",
    "            project,\n",
    "            InferenceArtifactIO(\n",
    "                artifact_root=pathlib.Path(),\n",
    "                dataset=dataset,\n",
    "                repository=project,\n",
    "                tool_name=tool,\n",
    "                task=task,\n",
    "            ),\n",
    "        )\n",
    "        for project in test_set\n",
    "    ]\n",
    "    existing = dict(\n",
    "        (project, artifact)\n",
    "        for project, artifact in proj2datasets\n",
    "        if artifact.full_location().exists()\n",
    "    )\n",
    "    \n",
    "    from importlib import reload\n",
    "\n",
    "    from libcst import helpers as h\n",
    "    import tqdm\n",
    "\n",
    "\n",
    "    from typet5.experiments import hityper, type4py\n",
    "    from typet5.static_analysis import PythonProject, SignatureMap, AccuracyMetric, SignatureErrorAnalysis\n",
    "    from typet5.experiments.typet5 import accs_as_table_row\n",
    "    from typet5.visualization import pretty_print_dict\n",
    "    import pprint\n",
    "    reload(hityper)\n",
    "\n",
    "    assignments = dict[str, SignatureMap]()\n",
    "    projects = dict[str, PythonProject]()\n",
    "\n",
    "    for (project, artifact) in tqdm.tqdm(existing.items(), desc=f\"Loading predictions from {task}\"):\n",
    "        typilus_predictions, hitypilus_predictions, _ = artifact.read()\n",
    "        \n",
    "        # rewritten_project_location = name_to_location[project.name]\n",
    "        rewritten_project_parsed = name_to_parsed[project.name]\n",
    "        \n",
    "        # pprint.pprint(hity4py_predictions)\n",
    "        # print()\n",
    "        \n",
    "        sigmap = SignatureMap()\n",
    "        for fname, mres in hitypilus_predictions.items():\n",
    "            #print(f\"{fname=}, {mres=}\")\n",
    "            \n",
    "            mres_rewritten = cleanup_predictions(mres)\n",
    "            #print(fname, mres_rewritten)\n",
    "\n",
    "            # Removing first three path tokens from fname because they represent the temporary directory / tmp and tmpasdas\n",
    "            root, tmp, tmpfolder, *project_parts = pathlib.Path(fname).parts       \n",
    "            mname = PythonProject.rel_path_to_module_name(pathlib.Path(*project_parts))\n",
    "            \n",
    "            parser = hityper.HiTyperResponseParser(module=mname)\n",
    "            sigmap.update(parser.parse(mres_rewritten))\n",
    "        \n",
    "            #print(f\"Adding sigmap for {mname}\")\n",
    "        assignments[project.name] = sigmap\n",
    "        \n",
    "        #print(f\"Registering labels for {rewritten_project_location.name}\")\n",
    "        projects[project.name] = rewritten_project_parsed\n",
    "    \n",
    "    label_signatures: dict[str, SignatureMap] = {\n",
    "        project_name: {e.path: e.get_signature() for e in project.all_elems()}\n",
    "        for project_name, project in projects.items()\n",
    "    }\n",
    "    \n",
    "    pred_signatures = assignments\n",
    "    \n",
    "    print(f\"{len(label_signatures)=}, {len(pred_signatures)=}\")\n",
    "    \n",
    "    #for (pname, mname), o in zip(module_srcs, assignments):        \n",
    "        # pred_signatures[pname].update(o)\n",
    "\n",
    "    # print(\"LABEL SIGS:\", \"ActivityWatch__aw-research\", label_signatures[\"ActivityWatch__aw-research\"], \"\\n\")\n",
    "    # print(\"PRED SIGS:\", \"ActivityWatch__aw-research\", pred_signatures[\"ActivityWatch__aw-research\"], \"\\n\")\n",
    "\n",
    "    eval_result = type4py.Type4PyEvalResult(\n",
    "        pred_maps=pred_signatures,\n",
    "        label_maps=label_signatures,\n",
    "    )\n",
    "    \n",
    "    metrics = AccuracyMetric.default_metrics(common_type_names=common_names)\n",
    "    # acc_metric = AccuracyMetric(common_type_names=ubiq_names)\n",
    "\n",
    "    n_annots = sum([e.get_signature().n_annots() for _, p in projects.items() for e in p.all_elems()])\n",
    "    n_labels = sum([e.n_annotated() for lm in eval_result.label_maps.values() for e in lm.values()])\n",
    "    \n",
    "    logger.info(f\"n_annots: {n_annots}, n_labels: {n_labels}\")\n",
    "    logger.info(f\"Ratio: {n_labels / n_annots}\")\n",
    "    \n",
    "    accs = {\n",
    "        m.name: SignatureErrorAnalysis(\n",
    "            eval_result.pred_maps,\n",
    "            eval_result.label_maps,\n",
    "            m,\n",
    "            error_on_mismatched_signature=False,\n",
    "        ).accuracies\n",
    "        for m in metrics\n",
    "    }\n",
    "    accs_as_table_row(accs)\n",
    "    pretty_print_dict(accs)"
   ]
  },
  {
   "cell_type": "code",
   "execution_count": 22,
   "metadata": {
    "scrolled": true
   },
   "outputs": [
    {
     "name": "stderr",
     "output_type": "stream",
     "text": [
      "Loading predictions from all: 100%|███████████████████████████████████████████████████████████████████████████████████████████████████████████████████████████████████████████████████████████████████████████| 50/50 [00:02<00:00, 19.15it/s]\n"
     ]
    },
    {
     "name": "stdout",
     "output_type": "stream",
     "text": [
      "len(label_signatures)=50, len(pred_signatures)=50\n"
     ]
    },
    {
     "name": "stderr",
     "output_type": "stream",
     "text": [
      "[HiTypilusN1 @ INFO]: n_annots: 30070, n_labels: 16520\n",
      "[HiTypilusN1 @ INFO]: Ratio: 0.5493847688726305\n"
     ]
    },
    {
     "name": "stdout",
     "output_type": "stream",
     "text": [
      "[((ty'str', ty'CompileFn'), 307),\n",
      " ((ty'str', ty'int'), 109),\n",
      " ((ty'int', ty'str'), 81),\n",
      " ((ty'mypy.nodes.Context', ty'GeneratorContext'), 64),\n",
      " ((ty'str', ty'sym.Symbol'), 59),\n",
      " ((ty'mypy.nodes.Context', ty'AnalyzerContext'), 59),\n",
      " ((ty'Union[None, str]', ty'str'), 58),\n",
      " ((ty'rx.core.Observable', ty'int'), 50),\n",
      " ((ty'abilian.core.sqlalchemy.SQLAlchemy', ty'DatabaseSession'), 49),\n",
      " ((ty'str', ty'runtime.Namespace'), 46),\n",
      " ((ty'bool', ty'Union[None, bool]'), 46),\n",
      " ((ty'mock.MagicMock', ty'ptm.MockFixture'), 43),\n",
      " ((ty'None', ty'Union[None, str]'), 41),\n",
      " ((ty'None', ty'str'), 37),\n",
      " ((ty'str', ty'Union[None, str]'), 33),\n",
      " ((ty'str', ty'Path'), 33),\n",
      " ((ty'sslyze.server_connectivity_info.ServerConnectivityInfo',\n",
      "   ty'ServerConnectivityInfo'),\n",
      "  31),\n",
      " ((ty'argparse.ArgumentParser', ty'QueryParser'), 29),\n",
      " ((ty'List', ty'List[str]'), 27),\n",
      " ((ty'str', ty'uuid.UUID'), 24)]\n",
      "[((ty'str', ty'int'), 109),\n",
      " ((ty'int', ty'str'), 81),\n",
      " ((ty'Union[None, str]', ty'str'), 58),\n",
      " ((ty'rx.core.Observable', ty'int'), 50),\n",
      " ((ty'str', ty'runtime.Namespace'), 46),\n",
      " ((ty'bool', ty'Union[None, bool]'), 46),\n",
      " ((ty'None', ty'Union[None, str]'), 41),\n",
      " ((ty'None', ty'str'), 37),\n",
      " ((ty'str', ty'Union[None, str]'), 33),\n",
      " ((ty'str', ty'Path'), 33),\n",
      " ((ty'List', ty'List[str]'), 27),\n",
      " ((ty'float', ty'int'), 23),\n",
      " ((ty'str', ty'Any'), 22),\n",
      " ((ty'float', ty'str'), 21),\n",
      " ((ty'None', ty'bool'), 20),\n",
      " ((ty'argparse.Namespace', ty'List'), 20),\n",
      " ((ty'str', ty'T'), 19),\n",
      " ((ty'None', ty'Any'), 19),\n",
      " ((ty'typing.Type', ty'Type[object]'), 17),\n",
      " ((ty'int', ty'float'), 16)]\n",
      "[((ty'str', ty'CompileFn'), 307),\n",
      " ((ty'mypy.nodes.Context', ty'GeneratorContext'), 64),\n",
      " ((ty'str', ty'sym.Symbol'), 59),\n",
      " ((ty'mypy.nodes.Context', ty'AnalyzerContext'), 59),\n",
      " ((ty'abilian.core.sqlalchemy.SQLAlchemy', ty'DatabaseSession'), 49),\n",
      " ((ty'mock.MagicMock', ty'ptm.MockFixture'), 43),\n",
      " ((ty'sslyze.server_connectivity_info.ServerConnectivityInfo',\n",
      "   ty'ServerConnectivityInfo'),\n",
      "  31),\n",
      " ((ty'argparse.ArgumentParser', ty'QueryParser'), 29),\n",
      " ((ty'str', ty'uuid.UUID'), 24),\n",
      " ((ty'bool', ty'typedefs.GitObject'), 21),\n",
      " ((ty'str', ty'TenantProvider'), 21),\n",
      " ((ty'sqlalchemy.orm.Session', ty'DatabaseSession'), 18),\n",
      " ((ty'str', ty'AuthProvider'), 18),\n",
      " ((ty'typing.Type', ty'Type[CT]'), 18),\n",
      " ((ty'auth_store.AuthStore', ty'BatchStore'), 17),\n",
      " ((ty'DummyForm', ty'ISeq'), 16),\n",
      " ((ty'str', ty'Organization'), 16),\n",
      " ((ty'srctools.bsp_transform.Context', ty'ReaderContext'), 15),\n",
      " ((ty'asphalt.core.Context', ty'ReaderContext'), 15),\n",
      " ((ty'interface.GatewayResponse', ty'Capture'), 14)]\n",
      "[((ty'str', ty'CompileFn'), 307),\n",
      " ((ty'str', ty'int'), 120),\n",
      " ((ty'int', ty'str'), 86),\n",
      " ((ty'None', ty'str'), 78),\n",
      " ((ty'Context', ty'GeneratorContext'), 70),\n",
      " ((ty'str', ty'Symbol'), 60),\n",
      " ((ty'Context', ty'AnalyzerContext'), 59),\n",
      " ((ty'str', ty'Namespace'), 54),\n",
      " ((ty'Observable', ty'int'), 50),\n",
      " ((ty'SQLAlchemy', ty'DatabaseSession'), 49),\n",
      " ((ty'str', ty'Path'), 43),\n",
      " ((ty'MagicMock', ty'MockFixture'), 43),\n",
      " ((ty'Context', ty'ReaderContext'), 32),\n",
      " ((ty'List', ty'List[str]'), 31),\n",
      " ((ty'ArgumentParser', ty'QueryParser'), 29),\n",
      " ((ty'str', ty'UUID'), 27),\n",
      " ((ty'str', ty'Organization'), 26),\n",
      " ((ty'float', ty'int'), 24),\n",
      " ((ty'float', ty'str'), 23),\n",
      " ((ty'None', ty'bool'), 21)]\n",
      "[((ty'str', ty'int'), 120),\n",
      " ((ty'int', ty'str'), 86),\n",
      " ((ty'None', ty'str'), 78),\n",
      " ((ty'str', ty'Namespace'), 54),\n",
      " ((ty'Observable', ty'int'), 50),\n",
      " ((ty'str', ty'Path'), 43),\n",
      " ((ty'List', ty'List[str]'), 31),\n",
      " ((ty'float', ty'int'), 24),\n",
      " ((ty'float', ty'str'), 23),\n",
      " ((ty'None', ty'bool'), 21),\n",
      " ((ty'int', ty'float'), 21),\n",
      " ((ty'str', ty'T'), 20),\n",
      " ((ty'Namespace', ty'List'), 20),\n",
      " ((ty'Dict', ty'Dict[str, str]'), 19),\n",
      " ((ty'str', ty'bool'), 18),\n",
      " ((ty'MagicMock', ty'Mock'), 18),\n",
      " ((ty'Dict[str, Any]', ty'Dict'), 18),\n",
      " ((ty'Type', ty'Type[object]'), 17),\n",
      " ((ty'bool', ty'int'), 16),\n",
      " ((ty'None', ty'int'), 15)]\n",
      "[((ty'str', ty'CompileFn'), 307),\n",
      " ((ty'Context', ty'GeneratorContext'), 70),\n",
      " ((ty'str', ty'Symbol'), 60),\n",
      " ((ty'Context', ty'AnalyzerContext'), 59),\n",
      " ((ty'SQLAlchemy', ty'DatabaseSession'), 49),\n",
      " ((ty'MagicMock', ty'MockFixture'), 43),\n",
      " ((ty'Context', ty'ReaderContext'), 32),\n",
      " ((ty'ArgumentParser', ty'QueryParser'), 29),\n",
      " ((ty'str', ty'UUID'), 27),\n",
      " ((ty'str', ty'Organization'), 26),\n",
      " ((ty'bool', ty'GitObject'), 21),\n",
      " ((ty'str', ty'TenantProvider'), 21),\n",
      " ((ty'Session', ty'DatabaseSession'), 19),\n",
      " ((ty'str', ty'AuthProvider'), 18),\n",
      " ((ty'Type', ty'Type[CT]'), 18),\n",
      " ((ty'AuthStore', ty'BatchStore'), 17),\n",
      " ((ty'int', ty'Vec3D'), 17),\n",
      " ((ty'DummyForm', ty'ISeq'), 16),\n",
      " ((ty'GatewayResponse', ty'Capture'), 14),\n",
      " ((ty'str', ty'QueryDomain'), 13)]\n",
      "[((ty'str', ty'CompileFn'), 307),\n",
      " ((ty'str', ty'int'), 120),\n",
      " ((ty'int', ty'str'), 86),\n",
      " ((ty'None', ty'str'), 78),\n",
      " ((ty'Context', ty'GeneratorContext'), 70),\n",
      " ((ty'str', ty'Symbol'), 60),\n",
      " ((ty'Context', ty'AnalyzerContext'), 59),\n",
      " ((ty'str', ty'Namespace'), 54),\n",
      " ((ty'Observable', ty'int'), 50),\n",
      " ((ty'SQLAlchemy', ty'DatabaseSession'), 49),\n",
      " ((ty'str', ty'Path'), 43),\n",
      " ((ty'MagicMock', ty'MockFixture'), 43),\n",
      " ((ty'Generator', ty'Iterable'), 36),\n",
      " ((ty'str', ty'Union'), 36),\n",
      " ((ty'Context', ty'ReaderContext'), 32),\n",
      " ((ty'Generator', ty'Iterator'), 29),\n",
      " ((ty'ArgumentParser', ty'QueryParser'), 29),\n",
      " ((ty'List', ty'Dict'), 28),\n",
      " ((ty'List', ty'Iterable'), 27),\n",
      " ((ty'str', ty'UUID'), 27)]\n",
      "[((ty'str', ty'int'), 120),\n",
      " ((ty'int', ty'str'), 86),\n",
      " ((ty'None', ty'str'), 78),\n",
      " ((ty'str', ty'Namespace'), 54),\n",
      " ((ty'Observable', ty'int'), 50),\n",
      " ((ty'str', ty'Path'), 43),\n",
      " ((ty'Generator', ty'Iterable'), 36),\n",
      " ((ty'str', ty'Union'), 36),\n",
      " ((ty'Generator', ty'Iterator'), 29),\n",
      " ((ty'List', ty'Dict'), 28),\n",
      " ((ty'List', ty'Iterable'), 27),\n",
      " ((ty'List', ty'str'), 25),\n",
      " ((ty'float', ty'int'), 24),\n",
      " ((ty'float', ty'str'), 23),\n",
      " ((ty'None', ty'List'), 23),\n",
      " ((ty'str', ty'List'), 21),\n",
      " ((ty'None', ty'bool'), 21),\n",
      " ((ty'int', ty'float'), 21),\n",
      " ((ty'str', ty'T'), 20),\n",
      " ((ty'Namespace', ty'List'), 20)]\n",
      "[((ty'str', ty'CompileFn'), 307),\n",
      " ((ty'Context', ty'GeneratorContext'), 70),\n",
      " ((ty'str', ty'Symbol'), 60),\n",
      " ((ty'Context', ty'AnalyzerContext'), 59),\n",
      " ((ty'SQLAlchemy', ty'DatabaseSession'), 49),\n",
      " ((ty'MagicMock', ty'MockFixture'), 43),\n",
      " ((ty'Context', ty'ReaderContext'), 32),\n",
      " ((ty'ArgumentParser', ty'QueryParser'), 29),\n",
      " ((ty'str', ty'UUID'), 27),\n",
      " ((ty'str', ty'Organization'), 26),\n",
      " ((ty'bool', ty'GitObject'), 21),\n",
      " ((ty'str', ty'TenantProvider'), 21),\n",
      " ((ty'Session', ty'DatabaseSession'), 19),\n",
      " ((ty'str', ty'AuthProvider'), 18),\n",
      " ((ty'Dict', ty'IPersistentMap'), 17),\n",
      " ((ty'AuthStore', ty'BatchStore'), 17),\n",
      " ((ty'int', ty'Vec3D'), 17),\n",
      " ((ty'DummyForm', ty'ISeq'), 16),\n",
      " ((ty'GatewayResponse', ty'Capture'), 14),\n",
      " ((ty'Dict', ty'JsonDict'), 14)]\n",
      "Accuracies on all types:\n",
      "header:  ['full.all', 'calibrated.all', 'calibrated.simple', 'calibrated.complex', 'base.all']\n",
      "43.22 & 36.97 & 40.34 & 11.32 & 43.58\n",
      "Accuracies on common types:\n",
      "header:  ['full.all', 'calibrated.all', 'calibrated.simple', 'calibrated.complex', 'base.all']\n",
      "60.49 & 55.27 & 60.03 & 15.06 & 60.90\n",
      "Accuracies on rare types:\n",
      "header:  ['full.all', 'calibrated.all', 'calibrated.simple', 'calibrated.complex', 'base.all']\n",
      "9.14 & 11.06 & 11.67 & 7.01 & 13.04\n",
      "full_acc:\n",
      "   full_acc: 43.22% (count=12.4k)\n",
      "   full_acc_by_cat:\n",
      "      FuncArg: 28.37% (count=7.4k)\n",
      "      FuncReturn: 66.00% (count=4.9k)\n",
      "      GlobalVar: 23.19% (count=69)\n",
      "   full_acc_by_simple:\n",
      "      complex: 12.33% (count=1.8k)\n",
      "      simple: 48.52% (count=10.6k)\n",
      "   full_acc_label_size: 1.379\n",
      "   full_acc_pred_size: 1.348\n",
      "   full_acc_ignored_labels: 0\n",
      "   n_skipped_types: 2859\n",
      "   n_missing_types: 1269\n",
      "full_acc_common:\n",
      "   full_acc_common: 60.49% (count=8.2k)\n",
      "   full_acc_common_by_cat:\n",
      "      FuncArg: 60.63% (count=5.1k)\n",
      "      FuncReturn: 60.33% (count=3.1k)\n",
      "      GlobalVar: 55.10% (count=49)\n",
      "   full_acc_common_by_simple:\n",
      "      complex: 16.83% (count=1.0k)\n",
      "      simple: 66.64% (count=7.2k)\n",
      "   full_acc_common_label_size: 1.3384\n",
      "   full_acc_common_pred_size: 1.2801\n",
      "   full_acc_common_ignored_labels: 4167\n",
      "   n_skipped_types: 2859\n",
      "   n_missing_types: 1269\n",
      "full_acc_rare:\n",
      "   full_acc_rare: 9.14% (count=4.2k)\n",
      "   full_acc_rare_by_cat:\n",
      "      FuncArg: 9.34% (count=2.8k)\n",
      "      FuncReturn: 8.80% (count=1.3k)\n",
      "      GlobalVar: 5.00% (count=20)\n",
      "   full_acc_rare_by_simple:\n",
      "      complex: 6.62% (count=800)\n",
      "      simple: 9.74% (count=3.4k)\n",
      "   full_acc_rare_label_size: 1.4591\n",
      "   full_acc_rare_pred_size: 1.4819\n",
      "   full_acc_rare_ignored_labels: 8225\n",
      "   n_skipped_types: 2859\n",
      "   n_missing_types: 1269\n",
      "acc:\n",
      "   acc: 36.97% (count=10.0k)\n",
      "   acc_by_cat:\n",
      "      FuncArg: 36.72% (count=6.2k)\n",
      "      FuncReturn: 37.16% (count=3.8k)\n",
      "      GlobalVar: 49.23% (count=65)\n",
      "   acc_by_simple:\n",
      "      complex: 11.32% (count=1.2k)\n",
      "      simple: 40.34% (count=8.9k)\n",
      "   acc_label_size: 1.3054\n",
      "   acc_pred_size: 1.2768\n",
      "   acc_ignored_labels: 2348\n",
      "   n_skipped_types: 2859\n",
      "   n_missing_types: 1269\n",
      "acc_common:\n",
      "   acc_common: 55.27% (count=5.9k)\n",
      "   acc_common_by_cat:\n",
      "      FuncArg: 55.17% (count=3.8k)\n",
      "      FuncReturn: 55.70% (count=2.0k)\n",
      "      GlobalVar: 37.93% (count=29)\n",
      "   acc_common_by_simple:\n",
      "      complex: 15.06% (count=624)\n",
      "      simple: 60.03% (count=5.3k)\n",
      "   acc_common_label_size: 1.3048\n",
      "   acc_common_pred_size: 1.2452\n",
      "   acc_common_ignored_labels: 6506\n",
      "   n_skipped_types: 2859\n",
      "   n_missing_types: 1269\n",
      "acc_rare:\n",
      "   acc_rare: 11.06% (count=4.2k)\n",
      "   acc_rare_by_cat:\n",
      "      FuncArg: 11.64% (count=2.8k)\n",
      "      FuncReturn: 9.92% (count=1.3k)\n",
      "      GlobalVar: 5.26% (count=19)\n",
      "   acc_rare_by_simple:\n",
      "      complex: 7.01% (count=542)\n",
      "      simple: 11.67% (count=3.6k)\n",
      "   acc_rare_label_size: 1.3062\n",
      "   acc_rare_pred_size: 1.3215\n",
      "   acc_rare_ignored_labels: 8234\n",
      "   n_skipped_types: 2859\n",
      "   n_missing_types: 1269\n",
      "base_acc:\n",
      "   base_acc: 43.58% (count=10.0k)\n",
      "   base_acc_by_cat:\n",
      "      FuncArg: 42.89% (count=6.2k)\n",
      "      FuncReturn: 44.50% (count=3.8k)\n",
      "      GlobalVar: 55.38% (count=65)\n",
      "   base_acc_ignored_labels: 2348\n",
      "   n_skipped_types: 2859\n",
      "   n_missing_types: 1269\n",
      "base_acc_common:\n",
      "   base_acc_common: 60.90% (count=6.4k)\n",
      "   base_acc_common_by_cat:\n",
      "      FuncArg: 60.23% (count=4.0k)\n",
      "      FuncReturn: 61.89% (count=2.3k)\n",
      "      GlobalVar: 71.88% (count=32)\n",
      "   base_acc_common_ignored_labels: 5983\n",
      "   n_skipped_types: 2859\n",
      "   n_missing_types: 1269\n",
      "base_acc_rare:\n",
      "   base_acc_rare: 13.04% (count=3.6k)\n",
      "   base_acc_rare_by_cat:\n",
      "      FuncArg: 13.66% (count=2.5k)\n",
      "      FuncReturn: 11.73% (count=1.1k)\n",
      "      GlobalVar: 11.11% (count=18)\n",
      "   base_acc_rare_ignored_labels: 8757\n",
      "   n_skipped_types: 2859\n",
      "   n_missing_types: 1269\n"
     ]
    }
   ],
   "source": [
    "typet5_metrics_4_hitypilus(task=\"all\")"
   ]
  },
  {
   "cell_type": "code",
   "execution_count": 9,
   "metadata": {
    "scrolled": false
   },
   "outputs": [
    {
     "name": "stderr",
     "output_type": "stream",
     "text": [
      "Loading predictions from VARIABLE: 100%|██████████████████████████████████████████████████████████████████████████████████████████████████████████████████████████████████████████████████████████████████████| 50/50 [00:02<00:00, 23.09it/s]\n"
     ]
    },
    {
     "name": "stdout",
     "output_type": "stream",
     "text": [
      "len(label_signatures)=50, len(pred_signatures)=50\n"
     ]
    },
    {
     "name": "stderr",
     "output_type": "stream",
     "text": [
      "[HiType4PyN1 @ INFO]: n_annots: 30070, n_labels: 16520\n",
      "[HiType4PyN1 @ INFO]: Ratio: 0.5493847688726305\n"
     ]
    },
    {
     "name": "stdout",
     "output_type": "stream",
     "text": [
      "Accuracies on all types:\n",
      "header:  ['full.all', 'calibrated.all', 'calibrated.simple', 'calibrated.complex', 'base.all']\n",
      "45.09 & 48.55 & 51.66 & 21.78 & 54.87\n",
      "Accuracies on common types:\n",
      "header:  ['full.all', 'calibrated.all', 'calibrated.simple', 'calibrated.complex', 'base.all']\n",
      "62.32 & 61.36 & 64.66 & 30.62 & 66.24\n",
      "Accuracies on rare types:\n",
      "header:  ['full.all', 'calibrated.all', 'calibrated.simple', 'calibrated.complex', 'base.all']\n",
      "9.92 & 29.90 & 32.36 & 10.89 & 34.24\n"
     ]
    }
   ],
   "source": [
    "typet5_metrics_4_hitt5(task=TypeCollectionCategory.VARIABLE)"
   ]
  },
  {
   "cell_type": "code",
   "execution_count": 10,
   "metadata": {
    "scrolled": false
   },
   "outputs": [
    {
     "name": "stderr",
     "output_type": "stream",
     "text": [
      "Loading predictions from CALLABLE_RETURN: 100%|███████████████████████████████████████████████████████████████████████████████████████████████████████████████████████████████████████████████████████████████| 50/50 [00:02<00:00, 23.66it/s]\n"
     ]
    },
    {
     "name": "stdout",
     "output_type": "stream",
     "text": [
      "len(label_signatures)=50, len(pred_signatures)=50\n"
     ]
    },
    {
     "name": "stderr",
     "output_type": "stream",
     "text": [
      "[HiType4PyN1 @ INFO]: n_annots: 30070, n_labels: 16520\n",
      "[HiType4PyN1 @ INFO]: Ratio: 0.5493847688726305\n"
     ]
    },
    {
     "name": "stdout",
     "output_type": "stream",
     "text": [
      "Accuracies on all types:\n",
      "header:  ['full.all', 'calibrated.all', 'calibrated.simple', 'calibrated.complex', 'base.all']\n",
      "45.11 & 48.66 & 51.82 & 21.87 & 54.99\n",
      "Accuracies on common types:\n",
      "header:  ['full.all', 'calibrated.all', 'calibrated.simple', 'calibrated.complex', 'base.all']\n",
      "62.36 & 61.54 & 64.84 & 31.05 & 66.41\n",
      "Accuracies on rare types:\n",
      "header:  ['full.all', 'calibrated.all', 'calibrated.simple', 'calibrated.complex', 'base.all']\n",
      "9.91 & 29.92 & 32.47 & 10.68 & 34.28\n"
     ]
    }
   ],
   "source": [
    "typet5_metrics_4_hitt5(task=TypeCollectionCategory.CALLABLE_RETURN)"
   ]
  },
  {
   "cell_type": "code",
   "execution_count": 11,
   "metadata": {},
   "outputs": [
    {
     "name": "stderr",
     "output_type": "stream",
     "text": [
      "Loading predictions from CALLABLE_PARAMETER: 100%|████████████████████████████████████████████████████████████████████████████████████████████████████████████████████████████████████████████████████████████| 50/50 [00:02<00:00, 23.50it/s]\n"
     ]
    },
    {
     "name": "stdout",
     "output_type": "stream",
     "text": [
      "len(label_signatures)=50, len(pred_signatures)=50\n"
     ]
    },
    {
     "name": "stderr",
     "output_type": "stream",
     "text": [
      "[HiType4PyN1 @ INFO]: n_annots: 30070, n_labels: 16520\n",
      "[HiType4PyN1 @ INFO]: Ratio: 0.5493847688726305\n"
     ]
    },
    {
     "name": "stdout",
     "output_type": "stream",
     "text": [
      "Accuracies on all types:\n",
      "header:  ['full.all', 'calibrated.all', 'calibrated.simple', 'calibrated.complex', 'base.all']\n",
      "45.11 & 48.66 & 51.82 & 21.87 & 54.99\n",
      "Accuracies on common types:\n",
      "header:  ['full.all', 'calibrated.all', 'calibrated.simple', 'calibrated.complex', 'base.all']\n",
      "62.36 & 61.54 & 64.84 & 31.05 & 66.41\n",
      "Accuracies on rare types:\n",
      "header:  ['full.all', 'calibrated.all', 'calibrated.simple', 'calibrated.complex', 'base.all']\n",
      "9.91 & 29.92 & 32.47 & 10.68 & 34.28\n"
     ]
    }
   ],
   "source": [
    "typet5_metrics_4_hitt5(task=TypeCollectionCategory.CALLABLE_PARAMETER)"
   ]
  },
  {
   "cell_type": "code",
   "execution_count": 12,
   "metadata": {},
   "outputs": [
    {
     "name": "stderr",
     "output_type": "stream",
     "text": [
      "Loading predictions from all: 100%|███████████████████████████████████████████████████████████████████████████████████████████████████████████████████████████████████████████████████████████████████████████| 50/50 [00:04<00:00, 11.92it/s]\n"
     ]
    },
    {
     "name": "stdout",
     "output_type": "stream",
     "text": [
      "len(label_signatures)=50, len(pred_signatures)=50\n"
     ]
    },
    {
     "name": "stderr",
     "output_type": "stream",
     "text": [
      "[HiType4PyN1 @ INFO]: n_annots: 30070, n_labels: 16520\n",
      "[HiType4PyN1 @ INFO]: Ratio: 0.5493847688726305\n"
     ]
    },
    {
     "name": "stdout",
     "output_type": "stream",
     "text": [
      "Accuracies on all types:\n",
      "header:  ['full.all', 'calibrated.all', 'calibrated.simple', 'calibrated.complex', 'base.all']\n",
      "45.09 & 48.55 & 51.66 & 21.78 & 54.87\n",
      "Accuracies on common types:\n",
      "header:  ['full.all', 'calibrated.all', 'calibrated.simple', 'calibrated.complex', 'base.all']\n",
      "62.32 & 61.36 & 64.66 & 30.62 & 66.24\n",
      "Accuracies on rare types:\n",
      "header:  ['full.all', 'calibrated.all', 'calibrated.simple', 'calibrated.complex', 'base.all']\n",
      "9.92 & 29.90 & 32.36 & 10.89 & 34.24\n"
     ]
    }
   ],
   "source": [
    "typet5_metrics_4_hity4py(task=\"all\")"
   ]
  },
  {
   "cell_type": "code",
   "execution_count": null,
   "metadata": {},
   "outputs": [],
   "source": [
    "from typet5.static_analysis import SignatureErrorAnalysis, AccuracyMetric\n",
    "from typet5.experiments.typet5 import accs_as_table_row\n",
    "# from typet5.visualization import pretty_print_dict\n",
    "\n",
    "\n",
    "\n",
    "\n",
    "\n",
    "accs_as_table_row(accs)\n",
    "# pretty_print_dict(accs)\n"
   ]
  },
  {
   "cell_type": "code",
   "execution_count": null,
   "metadata": {},
   "outputs": [],
   "source": [
    "from sklearn import metrics, preprocessing\n",
    "import numpy as np\n",
    "\n",
    "logger.info(f\"Computing metrics on {len(filtered_ground_truths_vs_predictions)} samples\")\n",
    "\n",
    "\n",
    "logger.info(\"=== Adjusted Accuracy on All Types ===\")\n",
    "typet5_metrics(filtered_ground_truths_vs_predictions, column=ExtendedInferredSchema.anno, simple_complex=None)\n",
    "\n",
    "logger.info(\"=== Adjusted Accuracy on Simple Types ===\")\n",
    "typet5_metrics(filtered_ground_truths_vs_predictions, column=ExtendedInferredSchema.anno, simple_complex=\"simple\")\n",
    "\n",
    "logger.info(\"=== Adjusted Accuracy on Complex Types ===\")\n",
    "typet5_metrics(filtered_ground_truths_vs_predictions, column=ExtendedInferredSchema.anno, simple_complex=\"complex\")\n"
   ]
  },
  {
   "cell_type": "code",
   "execution_count": 76,
   "metadata": {
    "scrolled": true
   },
   "outputs": [
    {
     "name": "stderr",
     "output_type": "stream",
     "text": [
      "[TypeT5TopN1 @ INFO]: Computing metrics on 9629 samples\n",
      "[TypeT5TopN1 @ INFO]: === Base Accuracy on All Types ===\n",
      "[TypeT5TopN1 @ INFO]: accuracy=0.7751583757399523\n",
      "[TypeT5TopN1 @ INFO]: recall=0.5992065365372685\n",
      "[TypeT5TopN1 @ INFO]: precision=0.6050543966959154\n",
      "[TypeT5TopN1 @ INFO]: f1score=0.5794400364724952\n"
     ]
    }
   ],
   "source": [
    "from sklearn import metrics, preprocessing\n",
    "import numpy as np\n",
    "\n",
    "logger.info(f\"Computing metrics on {len(filtered_ground_truths_vs_predictions)} samples\")\n",
    "\n",
    "\n",
    "logger.info(\"=== Base Accuracy on All Types ===\")\n",
    "typet5_metrics(filtered_ground_truths_vs_predictions, column=ExtendedInferredSchema.parametric_anno, simple_complex=None)\n"
   ]
  },
  {
   "cell_type": "code",
   "execution_count": 14,
   "metadata": {},
   "outputs": [
    {
     "name": "stdout",
     "output_type": "stream",
     "text": [
      "['builtins.Exception' 'builtins.UnicodeError' 'builtins.bool'\n",
      " 'builtins.bytearray' 'builtins.bytes' 'builtins.complex' 'builtins.dict'\n",
      " 'builtins.float' 'builtins.int' 'builtins.list' 'builtins.object'\n",
      " 'builtins.set' 'builtins.str' 'builtins.tuple' 'builtins.type']\n"
     ]
    },
    {
     "ename": "NameError",
     "evalue": "name 'groundtruth_labels' is not defined",
     "output_type": "error",
     "traceback": [
      "\u001b[0;31m---------------------------------------------------------------------------\u001b[0m",
      "\u001b[0;31mNameError\u001b[0m                                 Traceback (most recent call last)",
      "Cell \u001b[0;32mIn[14], line 7\u001b[0m\n\u001b[1;32m      3\u001b[0m builtin_types \u001b[38;5;241m=\u001b[39m np\u001b[38;5;241m.\u001b[39munique(filtered_ground_truths_vs_predictions\u001b[38;5;241m.\u001b[39mfilter(\n\u001b[1;32m      4\u001b[0m     pl\u001b[38;5;241m.\u001b[39mcol(ExtendedInferredSchema\u001b[38;5;241m.\u001b[39mparametric_anno)\u001b[38;5;241m.\u001b[39mstr\u001b[38;5;241m.\u001b[39mstarts_with(\u001b[38;5;124m\"\u001b[39m\u001b[38;5;124mbuiltins.\u001b[39m\u001b[38;5;124m\"\u001b[39m)\n\u001b[1;32m      5\u001b[0m )\u001b[38;5;241m.\u001b[39mget_column(ExtendedInferredSchema\u001b[38;5;241m.\u001b[39mparametric_anno)\u001b[38;5;241m.\u001b[39mto_numpy())\n\u001b[1;32m      6\u001b[0m \u001b[38;5;28mprint\u001b[39m(builtin_types)\n\u001b[0;32m----> 7\u001b[0m display \u001b[38;5;241m=\u001b[39m metrics\u001b[38;5;241m.\u001b[39mConfusionMatrixDisplay\u001b[38;5;241m.\u001b[39mfrom_predictions(y_true\u001b[38;5;241m=\u001b[39m\u001b[43mgroundtruth_labels\u001b[49m, y_pred\u001b[38;5;241m=\u001b[39mmodel_predictions, labels\u001b[38;5;241m=\u001b[39mbuiltin_types, normalize\u001b[38;5;241m=\u001b[39m\u001b[38;5;124m\"\u001b[39m\u001b[38;5;124mtrue\u001b[39m\u001b[38;5;124m\"\u001b[39m)\n",
      "\u001b[0;31mNameError\u001b[0m: name 'groundtruth_labels' is not defined"
     ]
    }
   ],
   "source": [
    "from sklearn import metrics, preprocessing\n",
    "\n",
    "builtin_types = np.unique(filtered_ground_truths_vs_predictions.filter(\n",
    "    pl.col(ExtendedInferredSchema.parametric_anno).str.starts_with(\"builtins.\")\n",
    ").get_column(ExtendedInferredSchema.parametric_anno).to_numpy())\n",
    "print(builtin_types)\n",
    "display = metrics.ConfusionMatrixDisplay.from_predictions(y_true=groundtruth_labels, y_pred=model_predictions, labels=builtin_types, normalize=\"true\")"
   ]
  },
  {
   "cell_type": "code",
   "execution_count": null,
   "metadata": {},
   "outputs": [],
   "source": [
    "mock_mistakes = filtered_ground_truths_vs_predictions.select(pl.all()).filter(pl.col(ExtendedInferredSchema.parametric_anno).str.ends_with(\"Mock\"))\n",
    "#print(mock_mistakes.select(\n",
    "#    pl.col(\"repository\"),\n",
    "#    pl.col(ExtendedInferredSchema.file),\n",
    "#    pl.col(ExtendedInferredSchema.qname_ssa),\n",
    "#    pl.col(ExtendedInferredSchema.parametric_anno),\n",
    "#    pl.col(\"parametric_anno_predict\"),\n",
    "#))\n",
    "\n",
    "groundtruth_labels = mock_mistakes.get_column(ExtendedInferredSchema.parametric_anno).to_numpy()\n",
    "model_predictions = mock_mistakes.get_column(\"parametric_anno_predict\").to_numpy()\n",
    "\n",
    "\n",
    "display = metrics.ConfusionMatrixDisplay.from_predictions(\n",
    "    y_true=groundtruth_labels, \n",
    "    y_pred=model_predictions, \n",
    "    labels=np.unique(np.concatenate((groundtruth_labels, model_predictions))), \n",
    "    normalize=\"true\"\n",
    ")"
   ]
  },
  {
   "cell_type": "code",
   "execution_count": null,
   "metadata": {},
   "outputs": [],
   "source": [
    "#  Prediction Metrics for Full Accuracy"
   ]
  },
  {
   "cell_type": "code",
   "execution_count": null,
   "metadata": {},
   "outputs": [],
   "source": []
  },
  {
   "cell_type": "code",
   "execution_count": null,
   "metadata": {},
   "outputs": [],
   "source": []
  },
  {
   "cell_type": "code",
   "execution_count": null,
   "metadata": {},
   "outputs": [],
   "source": []
  }
 ],
 "metadata": {
  "kernelspec": {
   "display_name": "Python 3 (ipykernel)",
   "language": "python",
   "name": "python3"
  },
  "language_info": {
   "codemirror_mode": {
    "name": "ipython",
    "version": 3
   },
   "file_extension": ".py",
   "mimetype": "text/x-python",
   "name": "python",
   "nbconvert_exporter": "python",
   "pygments_lexer": "ipython3",
   "version": "3.10.12"
  },
  "vscode": {
   "interpreter": {
    "hash": "cb5ea0ec9276ea53bca768cbad83872d3e07fe0f98ee4aa691b5a250409cc09e"
   }
  }
 },
 "nbformat": 4,
 "nbformat_minor": 2
}
