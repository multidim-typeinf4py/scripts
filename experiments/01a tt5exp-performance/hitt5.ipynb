{
 "cells": [
  {
   "cell_type": "markdown",
   "metadata": {},
   "source": [
    "# BT4Py HiTypeT5 Top-1"
   ]
  },
  {
   "cell_type": "code",
   "execution_count": 7,
   "metadata": {},
   "outputs": [
    {
     "name": "stdout",
     "output_type": "stream",
     "text": [
      "The autoreload extension is already loaded. To reload it, use:\n",
      "  %reload_ext autoreload\n",
      "/home/benji/Documents/Uni/heidelberg/05/masterarbeit/impls/scripts/experiments\n"
     ]
    }
   ],
   "source": [
    "%load_ext autoreload\n",
    "%autoreload 2\n",
    "\n",
    "%pwd\n",
    "%cd /home/benji/Documents/Uni/heidelberg/05/masterarbeit/impls/scripts/experiments"
   ]
  },
  {
   "cell_type": "code",
   "execution_count": 8,
   "metadata": {},
   "outputs": [
    {
     "data": {
      "text/plain": [
       "polars.config.Config"
      ]
     },
     "execution_count": 8,
     "metadata": {},
     "output_type": "execute_result"
    }
   ],
   "source": [
    "import polars as pl\n",
    "\n",
    "pl.Config.set_fmt_str_lengths(300)\n",
    "pl.Config.set_tbl_rows(n=50)"
   ]
  },
  {
   "cell_type": "code",
   "execution_count": 9,
   "metadata": {},
   "outputs": [],
   "source": [
    "import pathlib\n",
    "\n",
    "from scripts.common.schemas import TypeCollectionCategory\n",
    "from scripts.infer.structure import DatasetFolderStructure\n",
    "\n",
    "tool = \"HiTypeT5PyN1\"\n",
    "dataset = DatasetFolderStructure(pathlib.Path(\n",
    "    \"/home/benji/Documents/Uni/heidelberg/05/masterarbeit/datasets/better-types-4-py-dataset\"\n",
    "))\n"
   ]
  },
  {
   "cell_type": "code",
   "execution_count": 10,
   "metadata": {},
   "outputs": [
    {
     "name": "stderr",
     "output_type": "stream",
     "text": [
      "[HiTypeT5PyN1 @ INFO]: Hello World!\n"
     ]
    }
   ],
   "source": [
    "import logging\n",
    "from importlib import reload\n",
    "\n",
    "logging.shutdown()\n",
    "reload(logging)\n",
    "\n",
    "logger = logging.getLogger(__name__)\n",
    "logger.setLevel(logging.DEBUG)\n",
    "for handler in logger.handlers:\n",
    "    logger.removeHandler(handler)\n",
    "ch = logging.StreamHandler()\n",
    "ch.setLevel(logging.DEBUG)\n",
    "\n",
    "ch.setFormatter(logging.Formatter(f\"[{tool} @ %(levelname)s]: %(message)s\"))\n",
    "logger.addHandler(ch)\n",
    "\n",
    "logger.info(\"Hello World!\")\n"
   ]
  },
  {
   "cell_type": "markdown",
   "metadata": {},
   "source": [
    "# Ensure Datapoints line up"
   ]
  },
  {
   "cell_type": "code",
   "execution_count": 18,
   "metadata": {
    "scrolled": true
   },
   "outputs": [
    {
     "name": "stderr",
     "output_type": "stream",
     "text": [
      "[HiTypeT5PyN1 @ INFO]: Rewritten repos are at /home/benji/Documents/Uni/heidelberg/05/masterarbeit/impls/scripts/experiments/hity4py-repos\n"
     ]
    },
    {
     "name": "stdout",
     "output_type": "stream",
     "text": [
      "50\n"
     ]
    },
    {
     "name": "stderr",
     "output_type": "stream",
     "text": [
      "\n",
      "Parsing labels:   0%|                                                                                                                                                                                                  | 0/50 [00:00<?, ?it/s]\u001b[A\n",
      "Parsing labels:   2%|███▋                                                                                                                                                                                      | 1/50 [00:08<06:36,  8.09s/it]\u001b[A\n",
      "Parsing labels:   4%|███████▍                                                                                                                                                                                  | 2/50 [00:09<03:11,  3.99s/it]\u001b[A\n",
      "Parsing labels:   6%|███████████▏                                                                                                                                                                              | 3/50 [00:10<02:01,  2.59s/it]\u001b[A\n",
      "Parsing labels:   8%|██████████████▉                                                                                                                                                                           | 4/50 [00:15<02:47,  3.64s/it]\u001b[A\n",
      "Parsing labels:  10%|██████████████████▌                                                                                                                                                                       | 5/50 [00:16<01:59,  2.67s/it]\u001b[A\n",
      "Parsing labels:  12%|██████████████████████▎                                                                                                                                                                   | 6/50 [00:53<10:34, 14.42s/it]\u001b[A\n",
      "Parsing labels:  14%|██████████████████████████                                                                                                                                                                | 7/50 [00:58<08:02, 11.22s/it]\u001b[A\n",
      "Parsing labels:  16%|█████████████████████████████▊                                                                                                                                                            | 8/50 [00:59<05:34,  7.95s/it]\u001b[A\n",
      "Parsing labels:  18%|█████████████████████████████████▍                                                                                                                                                        | 9/50 [00:59<03:46,  5.53s/it]\u001b[A\n",
      "Parsing labels:  20%|█████████████████████████████████████                                                                                                                                                    | 10/50 [01:00<02:42,  4.06s/it]\u001b[A\n",
      "Parsing labels:  22%|████████████████████████████████████████▋                                                                                                                                                | 11/50 [01:00<02:00,  3.09s/it]\u001b[A\n",
      "Parsing labels:  24%|████████████████████████████████████████████▍                                                                                                                                            | 12/50 [01:02<01:43,  2.72s/it]\u001b[A\n",
      "Parsing labels:  26%|████████████████████████████████████████████████                                                                                                                                         | 13/50 [01:03<01:13,  2.00s/it]\u001b[A\n",
      "Parsing labels:  30%|███████████████████████████████████████████████████████▌                                                                                                                                 | 15/50 [01:05<00:52,  1.51s/it]\u001b[A\n",
      "Parsing labels:  32%|███████████████████████████████████████████████████████████▏                                                                                                                             | 16/50 [01:07<00:58,  1.71s/it]\u001b[A\n",
      "Parsing labels:  34%|██████████████████████████████████████████████████████████████▉                                                                                                                          | 17/50 [01:08<00:53,  1.63s/it]\u001b[A\n",
      "Parsing labels:  36%|██████████████████████████████████████████████████████████████████▌                                                                                                                      | 18/50 [01:13<01:19,  2.48s/it]\u001b[A\n",
      "Parsing labels:  38%|██████████████████████████████████████████████████████████████████████▎                                                                                                                  | 19/50 [01:15<01:15,  2.44s/it]\u001b[A\n",
      "Parsing labels:  40%|██████████████████████████████████████████████████████████████████████████                                                                                                               | 20/50 [01:16<00:54,  1.82s/it]\u001b[A\n",
      "Parsing labels:  42%|█████████████████████████████████████████████████████████████████████████████▋                                                                                                           | 21/50 [01:16<00:42,  1.48s/it]\u001b[A\n",
      "Parsing labels:  44%|█████████████████████████████████████████████████████████████████████████████████▍                                                                                                       | 22/50 [01:23<01:28,  3.15s/it]\u001b[A\n",
      "Parsing labels:  46%|█████████████████████████████████████████████████████████████████████████████████████                                                                                                    | 23/50 [01:24<01:06,  2.45s/it]\u001b[A\n",
      "Parsing labels:  48%|████████████████████████████████████████████████████████████████████████████████████████▊                                                                                                | 24/50 [01:25<00:53,  2.05s/it]\u001b[A\n",
      "Parsing labels:  50%|████████████████████████████████████████████████████████████████████████████████████████████▌                                                                                            | 25/50 [01:26<00:41,  1.65s/it]\u001b[A\n",
      "Parsing labels:  52%|████████████████████████████████████████████████████████████████████████████████████████████████▏                                                                                        | 26/50 [01:27<00:32,  1.35s/it]\u001b[A\n",
      "Parsing labels:  54%|███████████████████████████████████████████████████████████████████████████████████████████████████▉                                                                                     | 27/50 [01:28<00:27,  1.20s/it]\u001b[A\n",
      "Parsing labels:  56%|███████████████████████████████████████████████████████████████████████████████████████████████████████▌                                                                                 | 28/50 [01:28<00:19,  1.12it/s]\u001b[A\n",
      "Parsing labels:  58%|███████████████████████████████████████████████████████████████████████████████████████████████████████████▎                                                                             | 29/50 [01:33<00:44,  2.10s/it]\u001b[A\n",
      "Parsing labels:  60%|███████████████████████████████████████████████████████████████████████████████████████████████████████████████                                                                          | 30/50 [01:33<00:31,  1.56s/it]\u001b[A\n",
      "Parsing labels:  62%|██████████████████████████████████████████████████████████████████████████████████████████████████████████████████▋                                                                      | 31/50 [01:35<00:29,  1.57s/it]\u001b[A\n",
      "Parsing labels:  64%|██████████████████████████████████████████████████████████████████████████████████████████████████████████████████████▍                                                                  | 32/50 [01:35<00:22,  1.26s/it]\u001b[A\n",
      "Parsing labels:  66%|██████████████████████████████████████████████████████████████████████████████████████████████████████████████████████████                                                               | 33/50 [01:35<00:17,  1.00s/it]\u001b[A\n",
      "Parsing labels:  68%|█████████████████████████████████████████████████████████████████████████████████████████████████████████████████████████████▊                                                           | 34/50 [01:36<00:12,  1.27it/s]\u001b[A\n",
      "Parsing labels:  70%|█████████████████████████████████████████████████████████████████████████████████████████████████████████████████████████████████▌                                                       | 35/50 [01:39<00:21,  1.44s/it]\u001b[A\n",
      "Parsing labels:  72%|█████████████████████████████████████████████████████████████████████████████████████████████████████████████████████████████████████▏                                                   | 36/50 [01:40<00:18,  1.32s/it]\u001b[A\n",
      "Parsing labels:  74%|████████████████████████████████████████████████████████████████████████████████████████████████████████████████████████████████████████▉                                                | 37/50 [01:40<00:13,  1.08s/it]\u001b[A\n",
      "Parsing labels:  76%|████████████████████████████████████████████████████████████████████████████████████████████████████████████████████████████████████████████▌                                            | 38/50 [01:42<00:15,  1.28s/it]\u001b[A\n",
      "Parsing labels:  78%|████████████████████████████████████████████████████████████████████████████████████████████████████████████████████████████████████████████████▎                                        | 39/50 [01:43<00:14,  1.29s/it]\u001b[A\n",
      "Parsing labels:  80%|████████████████████████████████████████████████████████████████████████████████████████████████████████████████████████████████████████████████████                                     | 40/50 [01:45<00:13,  1.37s/it]\u001b[A\n",
      "Parsing labels:  82%|███████████████████████████████████████████████████████████████████████████████████████████████████████████████████████████████████████████████████████▋                                 | 41/50 [01:48<00:15,  1.76s/it]\u001b[A\n",
      "Parsing labels:  84%|███████████████████████████████████████████████████████████████████████████████████████████████████████████████████████████████████████████████████████████▍                             | 42/50 [01:56<00:30,  3.85s/it]\u001b[A\n",
      "Parsing labels:  86%|███████████████████████████████████████████████████████████████████████████████████████████████████████████████████████████████████████████████████████████████                          | 43/50 [01:58<00:23,  3.32s/it]\u001b[A\n",
      "Parsing labels:  88%|██████████████████████████████████████████████████████████████████████████████████████████████████████████████████████████████████████████████████████████████████▊                      | 44/50 [01:59<00:14,  2.44s/it]\u001b[A\n",
      "Parsing labels:  90%|██████████████████████████████████████████████████████████████████████████████████████████████████████████████████████████████████████████████████████████████████████▌                  | 45/50 [01:59<00:09,  1.83s/it]\u001b[A\n",
      "Parsing labels:  92%|██████████████████████████████████████████████████████████████████████████████████████████████████████████████████████████████████████████████████████████████████████████▏              | 46/50 [02:05<00:12,  3.07s/it]\u001b[A\n",
      "Parsing labels:  94%|█████████████████████████████████████████████████████████████████████████████████████████████████████████████████████████████████████████████████████████████████████████████▉           | 47/50 [02:06<00:07,  2.50s/it]\u001b[A\n",
      "Parsing labels:  96%|█████████████████████████████████████████████████████████████████████████████████████████████████████████████████████████████████████████████████████████████████████████████████▌       | 48/50 [02:09<00:05,  2.50s/it]\u001b[A\n",
      "Parsing labels:  98%|█████████████████████████████████████████████████████████████████████████████████████████████████████████████████████████████████████████████████████████████████████████████████████▎   | 49/50 [02:12<00:02,  2.63s/it]\u001b[A\n",
      "Parsing labels: 100%|█████████████████████████████████████████████████████████████████████████████████████████████████████████████████████████████████████████████████████████████████████████████████████████| 50/50 [02:13<00:00,  2.68s/it]\u001b[A\n"
     ]
    }
   ],
   "source": [
    "import pathlib, shutil, tqdm\n",
    "\n",
    "from typet5.static_analysis import PythonProject\n",
    "from typet5.experiments.utils import remove_newer_syntax_for_repo\n",
    "from typet5.experiments.type4py import Type4PySupportedSyntax\n",
    "\n",
    "repos_dir = dataset.dataset_root\n",
    "hity4py_rewritten_repos = pathlib.Path() / \"hity4py-repos\"\n",
    "if not hity4py_rewritten_repos.is_dir():\n",
    "    logger.info(\"Creating rewritten repos\")\n",
    "    shutil.copytree(repos_dir / \"repos\" / \"test\", hity4py_rewritten_repos)\n",
    "    remove_newer_syntax_for_repo(hity4py_rewritten_repos, Type4PySupportedSyntax)\n",
    "\n",
    "logger.info(f\"Rewritten repos are at {hity4py_rewritten_repos.resolve()}\")\n",
    "name_to_location = {r.name: r for r in (repos_dir / \"repos\" / \"test\").iterdir() if r.is_dir()}\n",
    "print(len(name_to_location))\n",
    "\n",
    "name_to_parsed = {\n",
    "    name: PythonProject.parse_from_root(root, discard_bad_files=True) \n",
    "    for name, root in tqdm.tqdm(name_to_location.items(), \"Parsing labels\")\n",
    "}\n",
    "# print(name_to_parsed[\"ActivityWatch__aw-research\"])"
   ]
  },
  {
   "cell_type": "code",
   "execution_count": 19,
   "metadata": {},
   "outputs": [
    {
     "data": {
      "application/vnd.jupyter.widget-view+json": {
       "model_id": "30d0419c71ac49cb918e4ca92965dd75",
       "version_major": 2,
       "version_minor": 0
      },
      "text/plain": [
       "Fetching 9 files:   0%|          | 0/9 [00:00<?, ?it/s]"
      ]
     },
     "metadata": {},
     "output_type": "display_data"
    }
   ],
   "source": [
    "# Constants\n",
    "# Common Type Names\n",
    "from typet5.model import ModelWrapper\n",
    "model = ModelWrapper.load_from_hub(\"MrVPlusOne/TypeT5-v7\")\n",
    "common_names = model.common_type_names\n",
    "del model\n",
    "\n",
    "from scripts.common.schemas import TypeCollectionCategory"
   ]
  },
  {
   "cell_type": "code",
   "execution_count": 28,
   "metadata": {},
   "outputs": [],
   "source": [
    "import pathlib, collections\n",
    "\n",
    "# Because our analysis reviews more datapoints than these models actually regard, reuse TypeT5 metrics instead\n",
    "def typet5_metrics_4_hitt5(task: TypeCollectionCategory | str) -> None:\n",
    "    def cleanup_predictions(predictions: dict) -> dict:\n",
    "        # {'global@global': [{'category': 'local', 'name': '__all__', 'type': ['tuple[typing.Text]']}]}\n",
    "        rewritten_predictions = collections.defaultdict(list)\n",
    "        for scope, ps in predictions.items():\n",
    "            for p in ps:\n",
    "                rewritten_p = p.copy()\n",
    "                rewritten_p[\"type\"] = [ty.replace(\"typing.Text\", \"str\") for ty in rewritten_p[\"type\"]]\n",
    "                \n",
    "                # if rewritten_p[\"type\"] or rewritten_p[\"category\"] != \"local\":\n",
    "                rewritten_predictions[scope].append(rewritten_p)\n",
    "        \n",
    "        return rewritten_predictions\n",
    "    \n",
    "    from scripts.common.output import InferenceArtifactIO\n",
    "\n",
    "    test_set = dataset.test_set()\n",
    "\n",
    "    proj2datasets = [\n",
    "        (\n",
    "            project,\n",
    "            InferenceArtifactIO(\n",
    "                artifact_root=pathlib.Path(),\n",
    "                dataset=dataset,\n",
    "                repository=project,\n",
    "                tool_name=tool,\n",
    "                task=task,\n",
    "            ),\n",
    "        )\n",
    "        for project in test_set\n",
    "    ]\n",
    "    existing = dict(\n",
    "        (project, artifact)\n",
    "        for project, artifact in proj2datasets\n",
    "        if artifact.full_location().exists()\n",
    "    )\n",
    "    \n",
    "    from importlib import reload\n",
    "\n",
    "    from libcst import helpers as h\n",
    "    import tqdm\n",
    "\n",
    "\n",
    "    from typet5.experiments import hityper, type4py\n",
    "    from typet5.static_analysis import PythonProject, SignatureMap, AccuracyMetric, SignatureErrorAnalysis\n",
    "    from typet5.experiments.typet5 import accs_as_table_row\n",
    "    from typet5.visualization import pretty_print_dict\n",
    "    import pprint\n",
    "    reload(hityper)\n",
    "\n",
    "    assignments = dict[str, SignatureMap]()\n",
    "    projects = dict[str, PythonProject]()\n",
    "\n",
    "    for (project, artifact) in tqdm.tqdm(existing.items(), desc=f\"Loading predictions from {task}\"):\n",
    "        type4py_predictions, hity4py_predictions = artifact.read()\n",
    "        \n",
    "        # rewritten_project_location = name_to_location[project.name]\n",
    "        rewritten_project_parsed = name_to_parsed[project.name]\n",
    "        \n",
    "        # pprint.pprint(hity4py_predictions)\n",
    "        # print()\n",
    "        \n",
    "        sigmap = SignatureMap()\n",
    "        for fname, mres in hity4py_predictions.items():\n",
    "            #print(f\"{fname=}, {mres=}\")\n",
    "            \n",
    "            mres_rewritten = cleanup_predictions(mres)\n",
    "            #print(fname, mres_rewritten)\n",
    "\n",
    "            # Removing first three path tokens from fname because they represent the temporary directory / tmp and tmpasdas\n",
    "            root, tmp, tmpfolder, *project_parts = pathlib.Path(fname).parts       \n",
    "            mname = PythonProject.rel_path_to_module_name(pathlib.Path(*project_parts))\n",
    "            \n",
    "            parser = hityper.HiTyperResponseParser(module=mname)\n",
    "            sigmap.update(parser.parse(mres_rewritten))\n",
    "        \n",
    "            #print(f\"Adding sigmap for {mname}\")\n",
    "        assignments[project.name] = sigmap\n",
    "        \n",
    "        #print(f\"Registering labels for {rewritten_project_location.name}\")\n",
    "        projects[project.name] = rewritten_project_parsed\n",
    "    \n",
    "    label_signatures: dict[str, SignatureMap] = {\n",
    "        project_name: {e.path: e.get_signature() for e in project.all_elems()}\n",
    "        for project_name, project in projects.items()\n",
    "    }\n",
    "    \n",
    "    pred_signatures = assignments\n",
    "    \n",
    "    print(f\"{len(label_signatures)=}, {len(pred_signatures)=}\")\n",
    "    \n",
    "    #for (pname, mname), o in zip(module_srcs, assignments):        \n",
    "        # pred_signatures[pname].update(o)\n",
    "\n",
    "    # print(\"LABEL SIGS:\", \"ActivityWatch__aw-research\", label_signatures[\"ActivityWatch__aw-research\"], \"\\n\")\n",
    "    # print(\"PRED SIGS:\", \"ActivityWatch__aw-research\", pred_signatures[\"ActivityWatch__aw-research\"], \"\\n\")\n",
    "\n",
    "    eval_result = type4py.Type4PyEvalResult(\n",
    "        pred_maps=pred_signatures,\n",
    "        label_maps=label_signatures,\n",
    "    )\n",
    "    \n",
    "    metrics = AccuracyMetric.default_metrics(common_type_names=common_names)\n",
    "    # acc_metric = AccuracyMetric(common_type_names=ubiq_names)\n",
    "\n",
    "    n_annots = sum([e.get_signature().n_annots() for _, p in projects.items() for e in p.all_elems()])\n",
    "    n_labels = sum([e.n_annotated() for lm in eval_result.label_maps.values() for e in lm.values()])\n",
    "    \n",
    "    logger.info(f\"n_annots: {n_annots}, n_labels: {n_labels}\")\n",
    "    logger.info(f\"Ratio: {n_labels / n_annots}\")\n",
    "    \n",
    "    accs = {\n",
    "        m.name: SignatureErrorAnalysis(\n",
    "            eval_result.pred_maps,\n",
    "            eval_result.label_maps,\n",
    "            m,\n",
    "            error_on_mismatched_signature=False,\n",
    "        ).accuracies\n",
    "        for m in metrics\n",
    "    }\n",
    "    accs_as_table_row(accs)\n",
    "    pretty_print_dict(accs)"
   ]
  },
  {
   "cell_type": "code",
   "execution_count": 29,
   "metadata": {},
   "outputs": [
    {
     "name": "stderr",
     "output_type": "stream",
     "text": [
      "\n",
      "Loading predictions from all:   0%|                                                                                                                                                                                    | 0/50 [00:00<?, ?it/s]\u001b[A\n",
      "Loading predictions from all:   8%|█████████████▊                                                                                                                                                              | 4/50 [00:00<00:01, 25.48it/s]\u001b[A\n",
      "Loading predictions from all:  14%|████████████████████████                                                                                                                                                    | 7/50 [00:00<00:04,  9.25it/s]\u001b[A\n",
      "Loading predictions from all:  24%|█████████████████████████████████████████                                                                                                                                  | 12/50 [00:00<00:02, 16.69it/s]\u001b[A\n",
      "Loading predictions from all:  34%|██████████████████████████████████████████████████████████▏                                                                                                                | 17/50 [00:00<00:01, 22.36it/s]\u001b[A\n",
      "Loading predictions from all:  42%|███████████████████████████████████████████████████████████████████████▊                                                                                                   | 21/50 [00:01<00:01, 20.94it/s]\u001b[A\n",
      "Loading predictions from all:  48%|██████████████████████████████████████████████████████████████████████████████████                                                                                         | 24/50 [00:01<00:01, 22.23it/s]\u001b[A\n",
      "Loading predictions from all:  58%|███████████████████████████████████████████████████████████████████████████████████████████████████▏                                                                       | 29/50 [00:01<00:00, 26.02it/s]\u001b[A\n",
      "Loading predictions from all:  70%|███████████████████████████████████████████████████████████████████████████████████████████████████████████████████████▋                                                   | 35/50 [00:01<00:00, 31.66it/s]\u001b[A\n",
      "Loading predictions from all:  80%|████████████████████████████████████████████████████████████████████████████████████████████████████████████████████████████████████████▊                                  | 40/50 [00:01<00:00, 33.51it/s]\u001b[A\n",
      "Loading predictions from all:  88%|██████████████████████████████████████████████████████████████████████████████████████████████████████████████████████████████████████████████████████▍                    | 44/50 [00:01<00:00, 25.09it/s]\u001b[A\n",
      "Loading predictions from all:  94%|████████████████████████████████████████████████████████████████████████████████████████████████████████████████████████████████████████████████████████████████▋          | 47/50 [00:02<00:00, 25.02it/s]\u001b[A\n",
      "Loading predictions from all: 100%|███████████████████████████████████████████████████████████████████████████████████████████████████████████████████████████████████████████████████████████████████████████| 50/50 [00:02<00:00, 23.27it/s]\u001b[A\n"
     ]
    },
    {
     "name": "stdout",
     "output_type": "stream",
     "text": [
      "len(label_signatures)=50, len(pred_signatures)=50\n"
     ]
    },
    {
     "name": "stderr",
     "output_type": "stream",
     "text": [
      "[HiTypeT5PyN1 @ INFO]: n_annots: 30070, n_labels: 16520\n",
      "[HiTypeT5PyN1 @ INFO]: Ratio: 0.5493847688726305\n"
     ]
    },
    {
     "name": "stdout",
     "output_type": "stream",
     "text": [
      "[((ty'typing.Callable[str, CompileFn]', ty'CompileFn'), 309),\n",
      " ((ty'str', ty'int'), 125),\n",
      " ((ty'typing.Any', ty'Any'), 97),\n",
      " ((ty'PyASTCtx', ty'GeneratorContext'), 79),\n",
      " ((ty'Union[None, str]', ty'str'), 76),\n",
      " ((ty'Dict[str, typing.Any]', ty'Dict'), 57),\n",
      " ((ty'bool', ty'Union[None, bool]'), 44),\n",
      " ((ty'ptm.Mock', ty'ptm.MockFixture'), 41),\n",
      " ((ty'str', ty'Union[None, str]'), 38),\n",
      " ((ty'List', ty'List[str]'), 31),\n",
      " ((ty'SpecialForm', ty'ISeq'), 27),\n",
      " ((ty'str', ty'runtime.Namespace'), 27),\n",
      " ((ty'Dict[str, typing.Any]', ty'Dict[str, Any]'), 25),\n",
      " ((ty'None', ty'str'), 24),\n",
      " ((ty'List[str]', ty'List'), 24),\n",
      " ((ty'str', ty'uuid.UUID'), 24),\n",
      " ((ty'None', ty'Any'), 23),\n",
      " ((ty'None', ty'bool'), 21),\n",
      " ((ty'sym.Namespace', ty'runtime.Namespace'), 21),\n",
      " ((ty'logging.Logger', ty'logging.LogCaptureFixture'), 21)]\n",
      "[((ty'str', ty'int'), 125),\n",
      " ((ty'typing.Any', ty'Any'), 97),\n",
      " ((ty'Union[None, str]', ty'str'), 76),\n",
      " ((ty'Dict[str, typing.Any]', ty'Dict'), 57),\n",
      " ((ty'bool', ty'Union[None, bool]'), 44),\n",
      " ((ty'str', ty'Union[None, str]'), 38),\n",
      " ((ty'List', ty'List[str]'), 31),\n",
      " ((ty'str', ty'runtime.Namespace'), 27),\n",
      " ((ty'Dict[str, typing.Any]', ty'Dict[str, Any]'), 25),\n",
      " ((ty'None', ty'str'), 24),\n",
      " ((ty'List[str]', ty'List'), 24),\n",
      " ((ty'None', ty'Any'), 23),\n",
      " ((ty'None', ty'bool'), 21),\n",
      " ((ty'sym.Namespace', ty'runtime.Namespace'), 21),\n",
      " ((ty'Dict[str, typing.Any]', ty't.Dict[str, t.Any]'), 20),\n",
      " ((ty'int', ty'float'), 19),\n",
      " ((ty'None', ty'Union[None, str]'), 18),\n",
      " ((ty'typing.Type', ty'Type[object]'), 18),\n",
      " ((ty't.Any', ty't.Dict[str, t.Any]'), 18),\n",
      " ((ty'str', ty'Any'), 17)]\n",
      "[((ty'typing.Callable[str, CompileFn]', ty'CompileFn'), 309),\n",
      " ((ty'PyASTCtx', ty'GeneratorContext'), 79),\n",
      " ((ty'ptm.Mock', ty'ptm.MockFixture'), 41),\n",
      " ((ty'SpecialForm', ty'ISeq'), 27),\n",
      " ((ty'str', ty'uuid.UUID'), 24),\n",
      " ((ty'logging.Logger', ty'logging.LogCaptureFixture'), 21),\n",
      " ((ty'Dict[str, typing.Any]', ty'types.JsonDict'), 21),\n",
      " ((ty'typing.Type', ty'Type[CT]'), 18),\n",
      " ((ty'typedefs.FocusObject', ty'typedefs.GitObject'), 17),\n",
      " ((ty'SpecialForm', ty'sym.Symbol'), 14),\n",
      " ((ty'NamespaceMap', ty'atom.Atom[NamespaceMap]'), 14),\n",
      " ((ty'Symbol', ty'sym.Symbol'), 12),\n",
      " ((ty'Node', ty'LN'), 12),\n",
      " ((ty'SpecialForm', ty'Union[ISeq, llist.PersistentList]'), 11),\n",
      " ((ty'List[Track]', ty'typing.List[Track]'), 11),\n",
      " ((ty'str', ty'sym.Symbol'), 10),\n",
      " ((ty'None', ty'Union[ISeq[T], None]'), 9),\n",
      " ((ty'Union[IWithMeta, None]', ty'Union[IPersistentMap, None]'), 9),\n",
      " ((ty'Union[None, SSLContext]', ty'SSLContext'), 9),\n",
      " ((ty'Tuple[int]', ty'StrIntT'), 9)]\n",
      "[((ty'Callable[str, CompileFn]', ty'CompileFn'), 309),\n",
      " ((ty'str', ty'int'), 131),\n",
      " ((ty'PyASTCtx', ty'GeneratorContext'), 79),\n",
      " ((ty'Dict[str, Any]', ty'Dict'), 60),\n",
      " ((ty'Mock', ty'MockFixture'), 48),\n",
      " ((ty'None', ty'str'), 42),\n",
      " ((ty'List', ty'List[str]'), 33),\n",
      " ((ty'Any', ty'Dict[str, Any]'), 31),\n",
      " ((ty'int', ty'float'), 27),\n",
      " ((ty'SpecialForm', ty'ISeq'), 27),\n",
      " ((ty'str', ty'Namespace'), 27),\n",
      " ((ty'str', ty'UUID'), 27),\n",
      " ((ty'List[str]', ty'List'), 24),\n",
      " ((ty'None', ty'bool'), 22),\n",
      " ((ty'Logger', ty'LogCaptureFixture'), 22),\n",
      " ((ty'Dict[str, Any]', ty'JsonDict'), 21),\n",
      " ((ty'Symbol', ty'Namespace'), 20),\n",
      " ((ty'Type', ty'Type[object]'), 18),\n",
      " ((ty'Type', ty'Type[CT]'), 18),\n",
      " ((ty'IWithMeta', ty'IPersistentMap'), 17)]\n",
      "[((ty'str', ty'int'), 131),\n",
      " ((ty'Dict[str, Any]', ty'Dict'), 60),\n",
      " ((ty'None', ty'str'), 42),\n",
      " ((ty'List', ty'List[str]'), 33),\n",
      " ((ty'Any', ty'Dict[str, Any]'), 31),\n",
      " ((ty'int', ty'float'), 27),\n",
      " ((ty'str', ty'Namespace'), 27),\n",
      " ((ty'List[str]', ty'List'), 24),\n",
      " ((ty'None', ty'bool'), 22),\n",
      " ((ty'Symbol', ty'Namespace'), 20),\n",
      " ((ty'Type', ty'Type[object]'), 18),\n",
      " ((ty'str', ty'List[str]'), 15),\n",
      " ((ty'str', ty'Path'), 15),\n",
      " ((ty'Dict[str, Any]', ty'Dict[str, str]'), 14),\n",
      " ((ty'Any', ty'object'), 14),\n",
      " ((ty'Dict[str, str]', ty'Dict[str, Any]'), 14),\n",
      " ((ty'Type', ty'type'), 14),\n",
      " ((ty'Tuple[int]', ty'Tuple[int, int]'), 13),\n",
      " ((ty'None', ty'int'), 13),\n",
      " ((ty'Dict', ty'Dict[str, str]'), 12)]\n",
      "[((ty'Callable[str, CompileFn]', ty'CompileFn'), 309),\n",
      " ((ty'PyASTCtx', ty'GeneratorContext'), 79),\n",
      " ((ty'Mock', ty'MockFixture'), 48),\n",
      " ((ty'SpecialForm', ty'ISeq'), 27),\n",
      " ((ty'str', ty'UUID'), 27),\n",
      " ((ty'Logger', ty'LogCaptureFixture'), 22),\n",
      " ((ty'Dict[str, Any]', ty'JsonDict'), 21),\n",
      " ((ty'Type', ty'Type[CT]'), 18),\n",
      " ((ty'IWithMeta', ty'IPersistentMap'), 17),\n",
      " ((ty'FocusObject', ty'GitObject'), 17),\n",
      " ((ty'SpecialForm', ty'Symbol'), 14),\n",
      " ((ty'NamespaceMap', ty'Atom[NamespaceMap]'), 14),\n",
      " ((ty'None', ty'ISeq[T]'), 12),\n",
      " ((ty'Node', ty'LN'), 12),\n",
      " ((ty'SpecialForm', ty'Union[ISeq, PersistentList]'), 11),\n",
      " ((ty'str', ty'Symbol'), 10),\n",
      " ((ty'Tuple[int]', ty'StrIntT'), 9),\n",
      " ((ty'Dataset', ty'DatasetInfo'), 9),\n",
      " ((ty'Tuple[str]', ty'Reply'), 8),\n",
      " ((ty'Tuple[Union[Dict, Set]]', ty'Tuple[Set[Error], ParamMapping]'), 8)]\n",
      "[((ty'Callable', ty'CompileFn'), 309),\n",
      " ((ty'str', ty'int'), 131),\n",
      " ((ty'PyASTCtx', ty'GeneratorContext'), 79),\n",
      " ((ty'Mock', ty'MockFixture'), 48),\n",
      " ((ty'None', ty'str'), 42),\n",
      " ((ty'Generator', ty'Iterable'), 36),\n",
      " ((ty'Any', ty'Dict'), 35),\n",
      " ((ty'Dict', ty'JsonDict'), 32),\n",
      " ((ty'str', ty'List'), 30),\n",
      " ((ty'Generator', ty'Iterator'), 29),\n",
      " ((ty'int', ty'float'), 27),\n",
      " ((ty'SpecialForm', ty'ISeq'), 27),\n",
      " ((ty'str', ty'Namespace'), 27),\n",
      " ((ty'str', ty'UUID'), 27),\n",
      " ((ty'List', ty'Sequence'), 24),\n",
      " ((ty'None', ty'bool'), 22),\n",
      " ((ty'Logger', ty'LogCaptureFixture'), 22),\n",
      " ((ty'Symbol', ty'Namespace'), 20),\n",
      " ((ty'Type', ty'type'), 20),\n",
      " ((ty'Dict', ty'Mapping'), 19)]\n",
      "[((ty'str', ty'int'), 131),\n",
      " ((ty'None', ty'str'), 42),\n",
      " ((ty'Generator', ty'Iterable'), 36),\n",
      " ((ty'Any', ty'Dict'), 35),\n",
      " ((ty'str', ty'List'), 30),\n",
      " ((ty'Generator', ty'Iterator'), 29),\n",
      " ((ty'int', ty'float'), 27),\n",
      " ((ty'str', ty'Namespace'), 27),\n",
      " ((ty'List', ty'Sequence'), 24),\n",
      " ((ty'None', ty'bool'), 22),\n",
      " ((ty'Symbol', ty'Namespace'), 20),\n",
      " ((ty'Type', ty'type'), 20),\n",
      " ((ty'Dict', ty'Mapping'), 19),\n",
      " ((ty'None', ty'List'), 18),\n",
      " ((ty'Union', ty'Tuple'), 15),\n",
      " ((ty'SpecialForm', ty'Union'), 15),\n",
      " ((ty'str', ty'Path'), 15),\n",
      " ((ty'str', ty'Union'), 15),\n",
      " ((ty'Any', ty'object'), 14),\n",
      " ((ty'None', ty'int'), 13)]\n",
      "[((ty'Callable', ty'CompileFn'), 309),\n",
      " ((ty'PyASTCtx', ty'GeneratorContext'), 79),\n",
      " ((ty'Mock', ty'MockFixture'), 48),\n",
      " ((ty'Dict', ty'JsonDict'), 32),\n",
      " ((ty'SpecialForm', ty'ISeq'), 27),\n",
      " ((ty'str', ty'UUID'), 27),\n",
      " ((ty'Logger', ty'LogCaptureFixture'), 22),\n",
      " ((ty'None', ty'ISeq'), 18),\n",
      " ((ty'IWithMeta', ty'IPersistentMap'), 17),\n",
      " ((ty'FocusObject', ty'GitObject'), 17),\n",
      " ((ty'SpecialForm', ty'Symbol'), 14),\n",
      " ((ty'NamespaceMap', ty'Atom'), 14),\n",
      " ((ty'Node', ty'LN'), 12),\n",
      " ((ty'str', ty'Symbol'), 10),\n",
      " ((ty'Tuple', ty'StrIntT'), 9),\n",
      " ((ty'Dataset', ty'DatasetInfo'), 9),\n",
      " ((ty'None', ty'IPersistentMap'), 8),\n",
      " ((ty'Dict', ty'IPersistentMap'), 8),\n",
      " ((ty'Tuple', ty'Reply'), 8),\n",
      " ((ty'int', ty'Vec3D'), 8)]\n",
      "Accuracies on all types:\n",
      "header:  ['full.all', 'calibrated.all', 'calibrated.simple', 'calibrated.complex', 'base.all']\n",
      "64.41 & 64.66 & 72.20 & 24.75 & 72.78\n",
      "Accuracies on common types:\n",
      "header:  ['full.all', 'calibrated.all', 'calibrated.simple', 'calibrated.complex', 'base.all']\n",
      "73.49 & 74.73 & 80.68 & 36.56 & 81.75\n",
      "Accuracies on rare types:\n",
      "header:  ['full.all', 'calibrated.all', 'calibrated.simple', 'calibrated.complex', 'base.all']\n",
      "46.42 & 50.48 & 59.40 & 13.12 & 57.01\n",
      "full_acc:\n",
      "   full_acc: 64.41% (count=12.5k)\n",
      "   full_acc_by_cat:\n",
      "      FuncArg: 59.48% (count=7.7k)\n",
      "      FuncReturn: 72.93% (count=4.8k)\n",
      "      GlobalVar: 23.19% (count=69)\n",
      "   full_acc_by_simple:\n",
      "      complex: 24.40% (count=2.3k)\n",
      "      simple: 73.31% (count=10.2k)\n",
      "   full_acc_label_size: 1.3787\n",
      "   full_acc_pred_size: 1.3938\n",
      "   full_acc_ignored_labels: 0\n",
      "   n_skipped_types: 2859\n",
      "   n_missing_types: 1142\n",
      "full_acc_common:\n",
      "   full_acc_common: 73.49% (count=8.3k)\n",
      "   full_acc_common_by_cat:\n",
      "      FuncArg: 73.52% (count=5.3k)\n",
      "      FuncReturn: 73.43% (count=3.0k)\n",
      "      GlobalVar: 73.47% (count=49)\n",
      "   full_acc_common_by_simple:\n",
      "      complex: 30.41% (count=1.2k)\n",
      "      simple: 80.89% (count=7.1k)\n",
      "   full_acc_common_label_size: 1.3364\n",
      "   full_acc_common_pred_size: 1.3081\n",
      "   full_acc_common_ignored_labels: 4199\n",
      "   n_skipped_types: 2859\n",
      "   n_missing_types: 1142\n",
      "full_acc_rare:\n",
      "   full_acc_rare: 46.42% (count=4.2k)\n",
      "   full_acc_rare_by_cat:\n",
      "      FuncArg: 47.01% (count=2.9k)\n",
      "      FuncReturn: 45.02% (count=1.3k)\n",
      "      GlobalVar: 50.00% (count=20)\n",
      "   full_acc_rare_by_simple:\n",
      "      complex: 17.47% (count=1.1k)\n",
      "      simple: 56.18% (count=3.1k)\n",
      "   full_acc_rare_label_size: 1.4625\n",
      "   full_acc_rare_pred_size: 1.5637\n",
      "   full_acc_rare_ignored_labels: 8320\n",
      "   n_skipped_types: 2859\n",
      "   n_missing_types: 1142\n",
      "acc:\n",
      "   acc: 64.66% (count=10.1k)\n",
      "   acc_by_cat:\n",
      "      FuncArg: 64.96% (count=6.3k)\n",
      "      FuncReturn: 64.10% (count=3.7k)\n",
      "      GlobalVar: 67.69% (count=65)\n",
      "   acc_by_simple:\n",
      "      complex: 24.75% (count=1.6k)\n",
      "      simple: 72.20% (count=8.5k)\n",
      "   acc_label_size: 1.3044\n",
      "   acc_pred_size: 1.3353\n",
      "   acc_ignored_labels: 2425\n",
      "   n_skipped_types: 2859\n",
      "   n_missing_types: 1142\n",
      "acc_common:\n",
      "   acc_common: 74.73% (count=5.9k)\n",
      "   acc_common_by_cat:\n",
      "      FuncArg: 74.58% (count=3.9k)\n",
      "      FuncReturn: 75.00% (count=2.0k)\n",
      "      GlobalVar: 75.86% (count=29)\n",
      "   acc_common_by_simple:\n",
      "      complex: 36.56% (count=796)\n",
      "      simple: 80.68% (count=5.1k)\n",
      "   acc_common_label_size: 1.3018\n",
      "   acc_common_pred_size: 1.2708\n",
      "   acc_common_ignored_labels: 6615\n",
      "   n_skipped_types: 2859\n",
      "   n_missing_types: 1142\n",
      "acc_rare:\n",
      "   acc_rare: 50.48% (count=4.2k)\n",
      "   acc_rare_by_cat:\n",
      "      FuncArg: 51.30% (count=2.9k)\n",
      "      FuncReturn: 48.56% (count=1.3k)\n",
      "      GlobalVar: 55.00% (count=20)\n",
      "   acc_rare_by_simple:\n",
      "      complex: 13.12% (count=808)\n",
      "      simple: 59.40% (count=3.4k)\n",
      "   acc_rare_label_size: 1.3081\n",
      "   acc_rare_pred_size: 1.4263\n",
      "   acc_rare_ignored_labels: 8329\n",
      "   n_skipped_types: 2859\n",
      "   n_missing_types: 1142\n",
      "base_acc:\n",
      "   base_acc: 72.78% (count=10.1k)\n",
      "   base_acc_by_cat:\n",
      "      FuncArg: 73.06% (count=6.3k)\n",
      "      FuncReturn: 72.21% (count=3.7k)\n",
      "      GlobalVar: 76.92% (count=65)\n",
      "   base_acc_ignored_labels: 2425\n",
      "   n_skipped_types: 2859\n",
      "   n_missing_types: 1142\n",
      "base_acc_common:\n",
      "   base_acc_common: 81.75% (count=6.4k)\n",
      "   base_acc_common_by_cat:\n",
      "      FuncArg: 82.11% (count=4.1k)\n",
      "      FuncReturn: 81.06% (count=2.3k)\n",
      "      GlobalVar: 84.38% (count=32)\n",
      "   base_acc_common_ignored_labels: 6086\n",
      "   n_skipped_types: 2859\n",
      "   n_missing_types: 1142\n",
      "base_acc_rare:\n",
      "   base_acc_rare: 57.01% (count=3.7k)\n",
      "   base_acc_rare_by_cat:\n",
      "      FuncArg: 59.41% (count=2.5k)\n",
      "      FuncReturn: 51.50% (count=1.1k)\n",
      "      GlobalVar: 55.56% (count=18)\n",
      "   base_acc_rare_ignored_labels: 8858\n",
      "   n_skipped_types: 2859\n",
      "   n_missing_types: 1142\n"
     ]
    }
   ],
   "source": [
    "typet5_metrics_4_hitt5(task=\"all\")"
   ]
  },
  {
   "cell_type": "code",
   "execution_count": 9,
   "metadata": {
    "scrolled": false
   },
   "outputs": [
    {
     "name": "stderr",
     "output_type": "stream",
     "text": [
      "Loading predictions from VARIABLE: 100%|██████████████████████████████████████████████████████████████████████████████████████████████████████████████████████████████████████████████████████████████████████| 50/50 [00:02<00:00, 23.09it/s]\n"
     ]
    },
    {
     "name": "stdout",
     "output_type": "stream",
     "text": [
      "len(label_signatures)=50, len(pred_signatures)=50\n"
     ]
    },
    {
     "name": "stderr",
     "output_type": "stream",
     "text": [
      "[HiType4PyN1 @ INFO]: n_annots: 30070, n_labels: 16520\n",
      "[HiType4PyN1 @ INFO]: Ratio: 0.5493847688726305\n"
     ]
    },
    {
     "name": "stdout",
     "output_type": "stream",
     "text": [
      "Accuracies on all types:\n",
      "header:  ['full.all', 'calibrated.all', 'calibrated.simple', 'calibrated.complex', 'base.all']\n",
      "45.09 & 48.55 & 51.66 & 21.78 & 54.87\n",
      "Accuracies on common types:\n",
      "header:  ['full.all', 'calibrated.all', 'calibrated.simple', 'calibrated.complex', 'base.all']\n",
      "62.32 & 61.36 & 64.66 & 30.62 & 66.24\n",
      "Accuracies on rare types:\n",
      "header:  ['full.all', 'calibrated.all', 'calibrated.simple', 'calibrated.complex', 'base.all']\n",
      "9.92 & 29.90 & 32.36 & 10.89 & 34.24\n"
     ]
    }
   ],
   "source": [
    "typet5_metrics_4_hitt5(task=TypeCollectionCategory.VARIABLE)"
   ]
  },
  {
   "cell_type": "code",
   "execution_count": 10,
   "metadata": {
    "scrolled": false
   },
   "outputs": [
    {
     "name": "stderr",
     "output_type": "stream",
     "text": [
      "Loading predictions from CALLABLE_RETURN: 100%|███████████████████████████████████████████████████████████████████████████████████████████████████████████████████████████████████████████████████████████████| 50/50 [00:02<00:00, 23.66it/s]\n"
     ]
    },
    {
     "name": "stdout",
     "output_type": "stream",
     "text": [
      "len(label_signatures)=50, len(pred_signatures)=50\n"
     ]
    },
    {
     "name": "stderr",
     "output_type": "stream",
     "text": [
      "[HiType4PyN1 @ INFO]: n_annots: 30070, n_labels: 16520\n",
      "[HiType4PyN1 @ INFO]: Ratio: 0.5493847688726305\n"
     ]
    },
    {
     "name": "stdout",
     "output_type": "stream",
     "text": [
      "Accuracies on all types:\n",
      "header:  ['full.all', 'calibrated.all', 'calibrated.simple', 'calibrated.complex', 'base.all']\n",
      "45.11 & 48.66 & 51.82 & 21.87 & 54.99\n",
      "Accuracies on common types:\n",
      "header:  ['full.all', 'calibrated.all', 'calibrated.simple', 'calibrated.complex', 'base.all']\n",
      "62.36 & 61.54 & 64.84 & 31.05 & 66.41\n",
      "Accuracies on rare types:\n",
      "header:  ['full.all', 'calibrated.all', 'calibrated.simple', 'calibrated.complex', 'base.all']\n",
      "9.91 & 29.92 & 32.47 & 10.68 & 34.28\n"
     ]
    }
   ],
   "source": [
    "typet5_metrics_4_hitt5(task=TypeCollectionCategory.CALLABLE_RETURN)"
   ]
  },
  {
   "cell_type": "code",
   "execution_count": 11,
   "metadata": {},
   "outputs": [
    {
     "name": "stderr",
     "output_type": "stream",
     "text": [
      "Loading predictions from CALLABLE_PARAMETER: 100%|████████████████████████████████████████████████████████████████████████████████████████████████████████████████████████████████████████████████████████████| 50/50 [00:02<00:00, 23.50it/s]\n"
     ]
    },
    {
     "name": "stdout",
     "output_type": "stream",
     "text": [
      "len(label_signatures)=50, len(pred_signatures)=50\n"
     ]
    },
    {
     "name": "stderr",
     "output_type": "stream",
     "text": [
      "[HiType4PyN1 @ INFO]: n_annots: 30070, n_labels: 16520\n",
      "[HiType4PyN1 @ INFO]: Ratio: 0.5493847688726305\n"
     ]
    },
    {
     "name": "stdout",
     "output_type": "stream",
     "text": [
      "Accuracies on all types:\n",
      "header:  ['full.all', 'calibrated.all', 'calibrated.simple', 'calibrated.complex', 'base.all']\n",
      "45.11 & 48.66 & 51.82 & 21.87 & 54.99\n",
      "Accuracies on common types:\n",
      "header:  ['full.all', 'calibrated.all', 'calibrated.simple', 'calibrated.complex', 'base.all']\n",
      "62.36 & 61.54 & 64.84 & 31.05 & 66.41\n",
      "Accuracies on rare types:\n",
      "header:  ['full.all', 'calibrated.all', 'calibrated.simple', 'calibrated.complex', 'base.all']\n",
      "9.91 & 29.92 & 32.47 & 10.68 & 34.28\n"
     ]
    }
   ],
   "source": [
    "typet5_metrics_4_hitt5(task=TypeCollectionCategory.CALLABLE_PARAMETER)"
   ]
  },
  {
   "cell_type": "code",
   "execution_count": 12,
   "metadata": {},
   "outputs": [
    {
     "name": "stderr",
     "output_type": "stream",
     "text": [
      "Loading predictions from all: 100%|███████████████████████████████████████████████████████████████████████████████████████████████████████████████████████████████████████████████████████████████████████████| 50/50 [00:04<00:00, 11.92it/s]\n"
     ]
    },
    {
     "name": "stdout",
     "output_type": "stream",
     "text": [
      "len(label_signatures)=50, len(pred_signatures)=50\n"
     ]
    },
    {
     "name": "stderr",
     "output_type": "stream",
     "text": [
      "[HiType4PyN1 @ INFO]: n_annots: 30070, n_labels: 16520\n",
      "[HiType4PyN1 @ INFO]: Ratio: 0.5493847688726305\n"
     ]
    },
    {
     "name": "stdout",
     "output_type": "stream",
     "text": [
      "Accuracies on all types:\n",
      "header:  ['full.all', 'calibrated.all', 'calibrated.simple', 'calibrated.complex', 'base.all']\n",
      "45.09 & 48.55 & 51.66 & 21.78 & 54.87\n",
      "Accuracies on common types:\n",
      "header:  ['full.all', 'calibrated.all', 'calibrated.simple', 'calibrated.complex', 'base.all']\n",
      "62.32 & 61.36 & 64.66 & 30.62 & 66.24\n",
      "Accuracies on rare types:\n",
      "header:  ['full.all', 'calibrated.all', 'calibrated.simple', 'calibrated.complex', 'base.all']\n",
      "9.92 & 29.90 & 32.36 & 10.89 & 34.24\n"
     ]
    }
   ],
   "source": [
    "typet5_metrics_4_hity4py(task=\"all\")"
   ]
  }
 ],
 "metadata": {
  "kernelspec": {
   "display_name": "Python 3 (ipykernel)",
   "language": "python",
   "name": "python3"
  },
  "language_info": {
   "codemirror_mode": {
    "name": "ipython",
    "version": 3
   },
   "file_extension": ".py",
   "mimetype": "text/x-python",
   "name": "python",
   "nbconvert_exporter": "python",
   "pygments_lexer": "ipython3",
   "version": "3.10.12"
  },
  "vscode": {
   "interpreter": {
    "hash": "cb5ea0ec9276ea53bca768cbad83872d3e07fe0f98ee4aa691b5a250409cc09e"
   }
  }
 },
 "nbformat": 4,
 "nbformat_minor": 2
}
