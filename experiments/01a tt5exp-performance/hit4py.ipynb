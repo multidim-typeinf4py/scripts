{
 "cells": [
  {
   "cell_type": "markdown",
   "metadata": {},
   "source": [
    "# BT4Py Type4Py Top-1"
   ]
  },
  {
   "cell_type": "code",
   "execution_count": 1,
   "metadata": {},
   "outputs": [
    {
     "name": "stdout",
     "output_type": "stream",
     "text": [
      "/home/benji/Documents/Uni/heidelberg/05/masterarbeit/impls/scripts/experiments\n"
     ]
    }
   ],
   "source": [
    "%load_ext autoreload\n",
    "%autoreload 2\n",
    "\n",
    "%pwd\n",
    "%cd /home/benji/Documents/Uni/heidelberg/05/masterarbeit/impls/scripts/experiments"
   ]
  },
  {
   "cell_type": "code",
   "execution_count": 3,
   "metadata": {},
   "outputs": [
    {
     "data": {
      "text/plain": [
       "polars.config.Config"
      ]
     },
     "execution_count": 3,
     "metadata": {},
     "output_type": "execute_result"
    }
   ],
   "source": [
    "import polars as pl\n",
    "\n",
    "pl.Config.set_fmt_str_lengths(300)\n",
    "pl.Config.set_tbl_rows(n=50)"
   ]
  },
  {
   "cell_type": "code",
   "execution_count": 2,
   "metadata": {},
   "outputs": [
    {
     "name": "stderr",
     "output_type": "stream",
     "text": [
      "2023-07-27 23:04:15.000778: I tensorflow/core/platform/cpu_feature_guard.cc:182] This TensorFlow binary is optimized to use available CPU instructions in performance-critical operations.\n",
      "To enable the following instructions: AVX2 FMA, in other operations, rebuild TensorFlow with the appropriate compiler flags.\n",
      "2023-07-27 23:04:15.996411: W tensorflow/compiler/tf2tensorrt/utils/py_utils.cc:38] TF-TRT Warning: Could not find TensorRT\n"
     ]
    }
   ],
   "source": [
    "import pathlib\n",
    "\n",
    "from scripts.common.schemas import TypeCollectionCategory\n",
    "from scripts.infer.structure import DatasetFolderStructure\n",
    "\n",
    "tool = \"HiType4PyN1\"\n",
    "dataset = DatasetFolderStructure(pathlib.Path(\n",
    "    \"/home/benji/Documents/Uni/heidelberg/05/masterarbeit/datasets/better-types-4-py-dataset\"\n",
    "))\n"
   ]
  },
  {
   "cell_type": "code",
   "execution_count": 3,
   "metadata": {},
   "outputs": [
    {
     "name": "stderr",
     "output_type": "stream",
     "text": [
      "[HiType4PyN1 @ INFO]: Hello World!\n"
     ]
    }
   ],
   "source": [
    "import logging\n",
    "from importlib import reload\n",
    "\n",
    "logging.shutdown()\n",
    "reload(logging)\n",
    "\n",
    "logger = logging.getLogger(__name__)\n",
    "logger.setLevel(logging.DEBUG)\n",
    "for handler in logger.handlers:\n",
    "    logger.removeHandler(handler)\n",
    "ch = logging.StreamHandler()\n",
    "ch.setLevel(logging.DEBUG)\n",
    "\n",
    "ch.setFormatter(logging.Formatter(f\"[{tool} @ %(levelname)s]: %(message)s\"))\n",
    "logger.addHandler(ch)\n",
    "\n",
    "logger.info(\"Hello World!\")\n"
   ]
  },
  {
   "cell_type": "markdown",
   "metadata": {},
   "source": [
    "#  Prediction Metrics for Full Accuracy"
   ]
  },
  {
   "cell_type": "code",
   "execution_count": 4,
   "metadata": {
    "scrolled": true
   },
   "outputs": [
    {
     "name": "stderr",
     "output_type": "stream",
     "text": [
      "[HiType4PyN1 @ INFO]: Rewritten repos are at /home/benji/Documents/Uni/heidelberg/05/masterarbeit/impls/scripts/experiments/hity4py-repos\n"
     ]
    },
    {
     "name": "stdout",
     "output_type": "stream",
     "text": [
      "50\n"
     ]
    },
    {
     "name": "stderr",
     "output_type": "stream",
     "text": [
      "Parsing labels: 100%|█████████████████████████████████████████████████████████████████| 50/50 [01:50<00:00,  2.21s/it]\n"
     ]
    }
   ],
   "source": [
    "import pathlib, shutil, tqdm\n",
    "\n",
    "from typet5.static_analysis import PythonProject\n",
    "from typet5.experiments.utils import remove_newer_syntax_for_repo\n",
    "from typet5.experiments.type4py import Type4PySupportedSyntax\n",
    "\n",
    "repos_dir = dataset.dataset_root\n",
    "hity4py_rewritten_repos = pathlib.Path() / \"hity4py-repos\"\n",
    "if not hity4py_rewritten_repos.is_dir():\n",
    "    logger.info(\"Creating rewritten repos\")\n",
    "    shutil.copytree(repos_dir / \"repos\" / \"test\", hity4py_rewritten_repos)\n",
    "    remove_newer_syntax_for_repo(hity4py_rewritten_repos, Type4PySupportedSyntax)\n",
    "\n",
    "logger.info(f\"Rewritten repos are at {hity4py_rewritten_repos.resolve()}\")\n",
    "name_to_location = {r.name: r for r in hity4py_rewritten_repos.iterdir() if r.is_dir()}\n",
    "print(len(name_to_location))\n",
    "\n",
    "name_to_parsed = {\n",
    "    name: PythonProject.parse_from_root(root, discard_bad_files=True) \n",
    "    for name, root in tqdm.tqdm(name_to_location.items(), \"Parsing labels\")\n",
    "}\n",
    "# print(name_to_parsed[\"ActivityWatch__aw-research\"])"
   ]
  },
  {
   "cell_type": "code",
   "execution_count": 5,
   "metadata": {},
   "outputs": [
    {
     "data": {
      "application/vnd.jupyter.widget-view+json": {
       "model_id": "fc483adaeac74c6e80211339a30fb82e",
       "version_major": 2,
       "version_minor": 0
      },
      "text/plain": [
       "Fetching 9 files:   0%|          | 0/9 [00:00<?, ?it/s]"
      ]
     },
     "metadata": {},
     "output_type": "display_data"
    }
   ],
   "source": [
    "# Constants\n",
    "# Common Type Names\n",
    "from typet5.model import ModelWrapper\n",
    "model = ModelWrapper.load_from_hub(\"MrVPlusOne/TypeT5-v7\")\n",
    "common_names = model.common_type_names\n",
    "del model\n",
    "\n",
    "from scripts.common.schemas import TypeCollectionCategory"
   ]
  },
  {
   "cell_type": "code",
   "execution_count": 10,
   "metadata": {},
   "outputs": [],
   "source": [
    "import pathlib, collections\n",
    "\n",
    "# Because our analysis reviews more datapoints than these models actually regard, reuse TypeT5 metrics instead\n",
    "def typet5_metrics_4_hity4py(task: TypeCollectionCategory | str) -> None:\n",
    "    def cleanup_predictions(predictions: dict) -> dict:\n",
    "        # {'global@global': [{'category': 'local', 'name': '__all__', 'type': ['tuple[typing.Text]']}]}\n",
    "        rewritten_predictions = collections.defaultdict(list)\n",
    "        for scope, ps in predictions.items():\n",
    "            for p in ps:\n",
    "                rewritten_p = p.copy()\n",
    "                rewritten_p[\"type\"] = [ty.replace(\"typing.Text\", \"str\") for ty in rewritten_p[\"type\"]]\n",
    "                \n",
    "                # if rewritten_p[\"type\"] or rewritten_p[\"category\"] != \"local\":\n",
    "                rewritten_predictions[scope].append(rewritten_p)\n",
    "        \n",
    "        return rewritten_predictions\n",
    "    \n",
    "    from scripts.common.output import InferenceArtifactIO\n",
    "\n",
    "    test_set = dataset.test_set()\n",
    "\n",
    "    proj2datasets = [\n",
    "        (\n",
    "            project,\n",
    "            InferenceArtifactIO(\n",
    "                artifact_root=pathlib.Path(),\n",
    "                dataset=dataset,\n",
    "                repository=project,\n",
    "                tool_name=tool,\n",
    "                task=task,\n",
    "            ),\n",
    "        )\n",
    "        for project in test_set\n",
    "    ]\n",
    "    existing = dict(\n",
    "        (project, artifact)\n",
    "        for project, artifact in proj2datasets\n",
    "        if artifact.full_location().exists()\n",
    "    )\n",
    "    \n",
    "    from importlib import reload\n",
    "\n",
    "    from libcst import helpers as h\n",
    "    import tqdm\n",
    "\n",
    "\n",
    "    from typet5.experiments import hityper, type4py\n",
    "    from typet5.static_analysis import PythonProject, SignatureMap, AccuracyMetric, SignatureErrorAnalysis\n",
    "    from typet5.experiments.typet5 import accs_as_table_row\n",
    "    from typet5.visualization import pretty_print_dict\n",
    "    import pprint\n",
    "    reload(hityper)\n",
    "\n",
    "    assignments = dict[str, SignatureMap]()\n",
    "    projects = dict[str, PythonProject]()\n",
    "\n",
    "    for (project, artifact) in tqdm.tqdm(existing.items(), desc=f\"Loading predictions from {task}\"):\n",
    "        type4py_predictions, hity4py_predictions = artifact.read()\n",
    "        \n",
    "        # rewritten_project_location = name_to_location[project.name]\n",
    "        rewritten_project_parsed = name_to_parsed[project.name]\n",
    "        \n",
    "        # pprint.pprint(hity4py_predictions)\n",
    "        # print()\n",
    "        \n",
    "        sigmap = SignatureMap()\n",
    "        for fname, mres in hity4py_predictions.items():\n",
    "            #print(f\"{fname=}, {mres=}\")\n",
    "            \n",
    "            mres_rewritten = cleanup_predictions(mres)\n",
    "            #print(fname, mres_rewritten)\n",
    "\n",
    "            # Removing first three path tokens from fname because they represent the temporary directory / tmp and tmpasdas\n",
    "            root, tmp, tmpfolder, *project_parts = pathlib.Path(fname).parts       \n",
    "            mname = PythonProject.rel_path_to_module_name(pathlib.Path(*project_parts))\n",
    "            \n",
    "            parser = hityper.HiTyperResponseParser(module=mname)\n",
    "            sigmap.update(parser.parse(mres_rewritten))\n",
    "        \n",
    "            #print(f\"Adding sigmap for {mname}\")\n",
    "        assignments[project.name] = sigmap\n",
    "        \n",
    "        #print(f\"Registering labels for {rewritten_project_location.name}\")\n",
    "        projects[project.name] = rewritten_project_parsed\n",
    "    \n",
    "    label_signatures: dict[str, SignatureMap] = {\n",
    "        project_name: {e.path: e.get_signature() for e in project.all_elems()}\n",
    "        for project_name, project in projects.items()\n",
    "    }\n",
    "    \n",
    "    pred_signatures = assignments\n",
    "    \n",
    "    print(f\"{len(label_signatures)=}, {len(pred_signatures)=}\")\n",
    "    \n",
    "    #for (pname, mname), o in zip(module_srcs, assignments):        \n",
    "        # pred_signatures[pname].update(o)\n",
    "\n",
    "    # print(\"LABEL SIGS:\", \"ActivityWatch__aw-research\", label_signatures[\"ActivityWatch__aw-research\"], \"\\n\")\n",
    "    # print(\"PRED SIGS:\", \"ActivityWatch__aw-research\", pred_signatures[\"ActivityWatch__aw-research\"], \"\\n\")\n",
    "\n",
    "    eval_result = type4py.Type4PyEvalResult(\n",
    "        pred_maps=pred_signatures,\n",
    "        label_maps=label_signatures,\n",
    "    )\n",
    "    \n",
    "    metrics = AccuracyMetric.default_metrics(common_type_names=common_names)\n",
    "    # acc_metric = AccuracyMetric(common_type_names=ubiq_names)\n",
    "\n",
    "    n_annots = sum([e.get_signature().n_annots() for _, p in projects.items() for e in p.all_elems()])\n",
    "    n_labels = sum([e.n_annotated() for lm in eval_result.label_maps.values() for e in lm.values()])\n",
    "    \n",
    "    logger.info(f\"n_annots: {n_annots}, n_labels: {n_labels}\")\n",
    "    logger.info(f\"Ratio: {n_labels / n_annots}\")\n",
    "    \n",
    "    accs = {\n",
    "        m.name: SignatureErrorAnalysis(\n",
    "            eval_result.pred_maps,\n",
    "            eval_result.label_maps,\n",
    "            m,\n",
    "            error_on_mismatched_signature=False,\n",
    "        ).accuracies\n",
    "        for m in metrics\n",
    "    }\n",
    "    accs_as_table_row(accs)\n",
    "    pretty_print_dict(accs)"
   ]
  },
  {
   "cell_type": "code",
   "execution_count": 9,
   "metadata": {},
   "outputs": [
    {
     "name": "stderr",
     "output_type": "stream",
     "text": [
      "Loading predictions from VARIABLE: 100%|██████████████████████████████████████████████████████████████████████████████████████████████████████████████████████████████████████████████████████████████████████| 50/50 [00:02<00:00, 23.09it/s]\n"
     ]
    },
    {
     "name": "stdout",
     "output_type": "stream",
     "text": [
      "len(label_signatures)=50, len(pred_signatures)=50\n"
     ]
    },
    {
     "name": "stderr",
     "output_type": "stream",
     "text": [
      "[HiType4PyN1 @ INFO]: n_annots: 30070, n_labels: 16520\n",
      "[HiType4PyN1 @ INFO]: Ratio: 0.5493847688726305\n"
     ]
    },
    {
     "name": "stdout",
     "output_type": "stream",
     "text": [
      "Accuracies on all types:\n",
      "header:  ['full.all', 'calibrated.all', 'calibrated.simple', 'calibrated.complex', 'base.all']\n",
      "45.09 & 48.55 & 51.66 & 21.78 & 54.87\n",
      "Accuracies on common types:\n",
      "header:  ['full.all', 'calibrated.all', 'calibrated.simple', 'calibrated.complex', 'base.all']\n",
      "62.32 & 61.36 & 64.66 & 30.62 & 66.24\n",
      "Accuracies on rare types:\n",
      "header:  ['full.all', 'calibrated.all', 'calibrated.simple', 'calibrated.complex', 'base.all']\n",
      "9.92 & 29.90 & 32.36 & 10.89 & 34.24\n"
     ]
    }
   ],
   "source": [
    "typet5_metrics_4_hity4py(task=TypeCollectionCategory.VARIABLE)"
   ]
  },
  {
   "cell_type": "code",
   "execution_count": 10,
   "metadata": {
    "scrolled": false
   },
   "outputs": [
    {
     "name": "stderr",
     "output_type": "stream",
     "text": [
      "Loading predictions from CALLABLE_RETURN: 100%|███████████████████████████████████████████████████████████████████████████████████████████████████████████████████████████████████████████████████████████████| 50/50 [00:02<00:00, 23.66it/s]\n"
     ]
    },
    {
     "name": "stdout",
     "output_type": "stream",
     "text": [
      "len(label_signatures)=50, len(pred_signatures)=50\n"
     ]
    },
    {
     "name": "stderr",
     "output_type": "stream",
     "text": [
      "[HiType4PyN1 @ INFO]: n_annots: 30070, n_labels: 16520\n",
      "[HiType4PyN1 @ INFO]: Ratio: 0.5493847688726305\n"
     ]
    },
    {
     "name": "stdout",
     "output_type": "stream",
     "text": [
      "Accuracies on all types:\n",
      "header:  ['full.all', 'calibrated.all', 'calibrated.simple', 'calibrated.complex', 'base.all']\n",
      "45.11 & 48.66 & 51.82 & 21.87 & 54.99\n",
      "Accuracies on common types:\n",
      "header:  ['full.all', 'calibrated.all', 'calibrated.simple', 'calibrated.complex', 'base.all']\n",
      "62.36 & 61.54 & 64.84 & 31.05 & 66.41\n",
      "Accuracies on rare types:\n",
      "header:  ['full.all', 'calibrated.all', 'calibrated.simple', 'calibrated.complex', 'base.all']\n",
      "9.91 & 29.92 & 32.47 & 10.68 & 34.28\n"
     ]
    }
   ],
   "source": [
    "typet5_metrics_4_hity4py(task=TypeCollectionCategory.CALLABLE_RETURN)"
   ]
  },
  {
   "cell_type": "code",
   "execution_count": 11,
   "metadata": {},
   "outputs": [
    {
     "name": "stderr",
     "output_type": "stream",
     "text": [
      "Loading predictions from CALLABLE_PARAMETER: 100%|████████████████████████████████████████████████████████████████████████████████████████████████████████████████████████████████████████████████████████████| 50/50 [00:02<00:00, 23.50it/s]\n"
     ]
    },
    {
     "name": "stdout",
     "output_type": "stream",
     "text": [
      "len(label_signatures)=50, len(pred_signatures)=50\n"
     ]
    },
    {
     "name": "stderr",
     "output_type": "stream",
     "text": [
      "[HiType4PyN1 @ INFO]: n_annots: 30070, n_labels: 16520\n",
      "[HiType4PyN1 @ INFO]: Ratio: 0.5493847688726305\n"
     ]
    },
    {
     "name": "stdout",
     "output_type": "stream",
     "text": [
      "Accuracies on all types:\n",
      "header:  ['full.all', 'calibrated.all', 'calibrated.simple', 'calibrated.complex', 'base.all']\n",
      "45.11 & 48.66 & 51.82 & 21.87 & 54.99\n",
      "Accuracies on common types:\n",
      "header:  ['full.all', 'calibrated.all', 'calibrated.simple', 'calibrated.complex', 'base.all']\n",
      "62.36 & 61.54 & 64.84 & 31.05 & 66.41\n",
      "Accuracies on rare types:\n",
      "header:  ['full.all', 'calibrated.all', 'calibrated.simple', 'calibrated.complex', 'base.all']\n",
      "9.91 & 29.92 & 32.47 & 10.68 & 34.28\n"
     ]
    }
   ],
   "source": [
    "typet5_metrics_4_hity4py(task=TypeCollectionCategory.CALLABLE_PARAMETER)"
   ]
  },
  {
   "cell_type": "code",
   "execution_count": 11,
   "metadata": {
    "scrolled": false
   },
   "outputs": [
    {
     "name": "stderr",
     "output_type": "stream",
     "text": [
      "Loading predictions from all: 100%|███████████████████████████████████████████████████| 50/50 [00:02<00:00, 24.68it/s]\n"
     ]
    },
    {
     "name": "stdout",
     "output_type": "stream",
     "text": [
      "len(label_signatures)=50, len(pred_signatures)=50\n"
     ]
    },
    {
     "name": "stderr",
     "output_type": "stream",
     "text": [
      "[HiType4PyN1 @ INFO]: n_annots: 30070, n_labels: 16520\n",
      "[HiType4PyN1 @ INFO]: Ratio: 0.5493847688726305\n"
     ]
    },
    {
     "name": "stdout",
     "output_type": "stream",
     "text": [
      "[((ty'tests.basilisp.helpers.CompileFn', ty'CompileFn'), 273),\n",
      " ((ty'int', ty'str'), 89),\n",
      " ((ty'str', ty'int'), 87),\n",
      " ((ty'Union[None, str]', ty'str'), 67),\n",
      " ((ty'basilisp.lang.symbol.Symbol', ty'sym.Symbol'), 54),\n",
      " ((ty'basilisp.lang.runtime.Namespace', ty'runtime.Namespace'), 51),\n",
      " ((ty'pytest_mock.MockFixture', ty'ptm.MockFixture'), 51),\n",
      " ((ty'pathlib.Path', ty'Path'), 40),\n",
      " ((ty'id3c.db.session.DatabaseSession', ty'DatabaseSession'), 36),\n",
      " ((ty'str', ty'Any'), 34),\n",
      " ((ty'bool', ty'str'), 33),\n",
      " ((ty'float', ty'int'), 31),\n",
      " ((ty'str', ty'CompileFn'), 31),\n",
      " ((ty'str', ty'Union[None, str]'), 30),\n",
      " ((ty'str', ty'List[str]'), 30),\n",
      " ((ty'Dict[str, typing.Any]', ty't.Dict[str, t.Any]'), 30),\n",
      " ((ty'List', ty'List[str]'), 29),\n",
      " ((ty'basilisp.lang.interfaces.ISeq', ty'ISeq'), 29),\n",
      " ((ty'sslyze.server_connectivity.ServerConnectivityInfo',\n",
      "   ty'ServerConnectivityInfo'),\n",
      "  28),\n",
      " ((ty'str', ty'sym.Symbol'), 27)]\n",
      "[((ty'int', ty'str'), 89),\n",
      " ((ty'str', ty'int'), 87),\n",
      " ((ty'Union[None, str]', ty'str'), 67),\n",
      " ((ty'basilisp.lang.runtime.Namespace', ty'runtime.Namespace'), 51),\n",
      " ((ty'pathlib.Path', ty'Path'), 40),\n",
      " ((ty'str', ty'Any'), 34),\n",
      " ((ty'bool', ty'str'), 33),\n",
      " ((ty'float', ty'int'), 31),\n",
      " ((ty'str', ty'Union[None, str]'), 30),\n",
      " ((ty'str', ty'List[str]'), 30),\n",
      " ((ty'Dict[str, typing.Any]', ty't.Dict[str, t.Any]'), 30),\n",
      " ((ty'List', ty'List[str]'), 29),\n",
      " ((ty'str', ty'T'), 26),\n",
      " ((ty'unittesmock.Mock', ty'Mock'), 25),\n",
      " ((ty'None', ty'str'), 24),\n",
      " ((ty'tests.basilisp.helpers.CompileFn', ty'str'), 23),\n",
      " ((ty'str', ty'None'), 23),\n",
      " ((ty'str', ty'bool'), 22),\n",
      " ((ty'None', ty'bool'), 20),\n",
      " ((ty'None', ty'Any'), 18)]\n",
      "[((ty'tests.basilisp.helpers.CompileFn', ty'CompileFn'), 273),\n",
      " ((ty'basilisp.lang.symbol.Symbol', ty'sym.Symbol'), 54),\n",
      " ((ty'pytest_mock.MockFixture', ty'ptm.MockFixture'), 51),\n",
      " ((ty'id3c.db.session.DatabaseSession', ty'DatabaseSession'), 36),\n",
      " ((ty'str', ty'CompileFn'), 31),\n",
      " ((ty'basilisp.lang.interfaces.ISeq', ty'ISeq'), 29),\n",
      " ((ty'sslyze.server_connectivity.ServerConnectivityInfo',\n",
      "   ty'ServerConnectivityInfo'),\n",
      "  28),\n",
      " ((ty'str', ty'sym.Symbol'), 27),\n",
      " ((ty'int', ty'Vec3D'), 21),\n",
      " ((ty'str', ty'typedefs.GitObject'), 20),\n",
      " ((ty'str', ty'uuid.UUID'), 19),\n",
      " ((ty'rest_framework.tesAPIRequestFactory', ty'APIRequestFactory'), 19),\n",
      " ((ty'Union[None, basilisp.lang.interfaces.IPersistentMap]',\n",
      "   ty'Union[IPersistentMap, None]'),\n",
      "  18),\n",
      " ((ty'siteinfo.CategoryInfo', ty'CategoryInfo'), 18),\n",
      " ((ty'store.BatchStore', ty'BatchStore'), 17),\n",
      " ((ty'basilisp.lang.compiler.nodes.Recur', ty'GeneratorContext'), 15),\n",
      " ((ty'str', ty'QueryParser'), 15),\n",
      " ((ty'str', ty'Organization'), 14),\n",
      " ((ty'application.domain.common.QueryParser', ty'QueryParser'), 13),\n",
      " ((ty'int', ty'XY'), 13)]\n",
      "[((ty'int', ty'str'), 102),\n",
      " ((ty'str', ty'int'), 97),\n",
      " ((ty'bool', ty'str'), 47),\n",
      " ((ty'str', ty'List[str]'), 39),\n",
      " ((ty'None', ty'str'), 38),\n",
      " ((ty'str', ty'bool'), 33),\n",
      " ((ty'float', ty'int'), 33),\n",
      " ((ty'List', ty'List[str]'), 31),\n",
      " ((ty'str', ty'CompileFn'), 31),\n",
      " ((ty'str', ty'T'), 30),\n",
      " ((ty'str', ty'Symbol'), 27),\n",
      " ((ty'CompileFn', ty'str'), 23),\n",
      " ((ty'int', ty'Vec3D'), 23),\n",
      " ((ty'str', ty'Path'), 22),\n",
      " ((ty'str', ty'Organization'), 22),\n",
      " ((ty'str', ty'UUID'), 22),\n",
      " ((ty'None', ty'bool'), 21),\n",
      " ((ty'str', ty'GitObject'), 21),\n",
      " ((ty'Dict', ty'Dict[str, Any]'), 19),\n",
      " ((ty'tesAPIRequestFactory', ty'APIRequestFactory'), 19)]\n",
      "[((ty'int', ty'str'), 102),\n",
      " ((ty'str', ty'int'), 97),\n",
      " ((ty'bool', ty'str'), 47),\n",
      " ((ty'str', ty'List[str]'), 39),\n",
      " ((ty'None', ty'str'), 38),\n",
      " ((ty'str', ty'bool'), 33),\n",
      " ((ty'float', ty'int'), 33),\n",
      " ((ty'List', ty'List[str]'), 31),\n",
      " ((ty'str', ty'T'), 30),\n",
      " ((ty'CompileFn', ty'str'), 23),\n",
      " ((ty'str', ty'Path'), 22),\n",
      " ((ty'None', ty'bool'), 21),\n",
      " ((ty'Dict', ty'Dict[str, Any]'), 19),\n",
      " ((ty'Dict', ty'Dict[str, str]'), 18),\n",
      " ((ty'int', ty'bool'), 18),\n",
      " ((ty'str', ty'Dict'), 18),\n",
      " ((ty'Type', ty'Type[object]'), 17),\n",
      " ((ty'Dict', ty'str'), 16),\n",
      " ((ty'bool', ty'int'), 14),\n",
      " ((ty'int', ty'List[int]'), 14)]\n",
      "[((ty'str', ty'CompileFn'), 31),\n",
      " ((ty'str', ty'Symbol'), 27),\n",
      " ((ty'int', ty'Vec3D'), 23),\n",
      " ((ty'str', ty'Organization'), 22),\n",
      " ((ty'str', ty'UUID'), 22),\n",
      " ((ty'str', ty'GitObject'), 21),\n",
      " ((ty'tesAPIRequestFactory', ty'APIRequestFactory'), 19),\n",
      " ((ty'Recur', ty'GeneratorContext'), 15),\n",
      " ((ty'str', ty'QueryParser'), 15),\n",
      " ((ty'int', ty'XY'), 13),\n",
      " ((ty'str', ty'DatabaseSession'), 12),\n",
      " ((ty'Node', ty'GeneratorContext'), 11),\n",
      " ((ty'int', ty'DatabaseSession'), 11),\n",
      " ((ty'str', ty'DatasetInfo'), 11),\n",
      " ((ty'str', ty'Vec3D'), 11),\n",
      " ((ty'str', ty'LogCaptureFixture'), 10),\n",
      " ((ty'str', ty'Storage'), 10),\n",
      " ((ty'Type', ty'Type[CT]'), 10),\n",
      " ((ty'str', ty'ISeq'), 9),\n",
      " ((ty'str', ty'GeneratorContext'), 9)]\n",
      "[((ty'int', ty'str'), 102),\n",
      " ((ty'str', ty'int'), 97),\n",
      " ((ty'str', ty'List'), 63),\n",
      " ((ty'bool', ty'str'), 47),\n",
      " ((ty'str', ty'Dict'), 40),\n",
      " ((ty'None', ty'str'), 38),\n",
      " ((ty'Generator', ty'Iterable'), 36),\n",
      " ((ty'str', ty'Union'), 35),\n",
      " ((ty'str', ty'bool'), 33),\n",
      " ((ty'float', ty'int'), 33),\n",
      " ((ty'str', ty'CompileFn'), 31),\n",
      " ((ty'str', ty'T'), 30),\n",
      " ((ty'Generator', ty'Iterator'), 29),\n",
      " ((ty'Dict', ty'str'), 27),\n",
      " ((ty'str', ty'Symbol'), 27),\n",
      " ((ty'Dict', ty'JsonDict'), 24),\n",
      " ((ty'CompileFn', ty'str'), 23),\n",
      " ((ty'int', ty'Vec3D'), 23),\n",
      " ((ty'str', ty'Path'), 22),\n",
      " ((ty'int', ty'List'), 22)]\n",
      "[((ty'int', ty'str'), 102),\n",
      " ((ty'str', ty'int'), 97),\n",
      " ((ty'str', ty'List'), 63),\n",
      " ((ty'bool', ty'str'), 47),\n",
      " ((ty'str', ty'Dict'), 40),\n",
      " ((ty'None', ty'str'), 38),\n",
      " ((ty'Generator', ty'Iterable'), 36),\n",
      " ((ty'str', ty'Union'), 35),\n",
      " ((ty'str', ty'bool'), 33),\n",
      " ((ty'float', ty'int'), 33),\n",
      " ((ty'str', ty'T'), 30),\n",
      " ((ty'Generator', ty'Iterator'), 29),\n",
      " ((ty'Dict', ty'str'), 27),\n",
      " ((ty'CompileFn', ty'str'), 23),\n",
      " ((ty'str', ty'Path'), 22),\n",
      " ((ty'int', ty'List'), 22),\n",
      " ((ty'None', ty'bool'), 21),\n",
      " ((ty'Dict', ty'List'), 20),\n",
      " ((ty'None', ty'List'), 20),\n",
      " ((ty'str', ty'Type'), 19)]\n",
      "[((ty'str', ty'CompileFn'), 31),\n",
      " ((ty'str', ty'Symbol'), 27),\n",
      " ((ty'Dict', ty'JsonDict'), 24),\n",
      " ((ty'int', ty'Vec3D'), 23),\n",
      " ((ty'str', ty'Organization'), 22),\n",
      " ((ty'str', ty'UUID'), 22),\n",
      " ((ty'str', ty'GitObject'), 21),\n",
      " ((ty'tesAPIRequestFactory', ty'APIRequestFactory'), 19),\n",
      " ((ty'Recur', ty'GeneratorContext'), 15),\n",
      " ((ty'str', ty'QueryParser'), 15),\n",
      " ((ty'str', ty'ISeq'), 13),\n",
      " ((ty'int', ty'XY'), 13),\n",
      " ((ty'str', ty'DatabaseSession'), 12),\n",
      " ((ty'Node', ty'GeneratorContext'), 11),\n",
      " ((ty'int', ty'DatabaseSession'), 11),\n",
      " ((ty'str', ty'DatasetInfo'), 11),\n",
      " ((ty'str', ty'Vec3D'), 11),\n",
      " ((ty'str', ty'LogCaptureFixture'), 10),\n",
      " ((ty'str', ty'Storage'), 10),\n",
      " ((ty'Dict', ty'IPersistentMap'), 9)]\n",
      "Accuracies on all types:\n",
      "header:  ['full.all', 'calibrated.all', 'calibrated.simple', 'calibrated.complex', 'base.all']\n",
      "47.44 & 51.66 & 54.86 & 23.69 & 57.81\n",
      "Accuracies on common types:\n",
      "header:  ['full.all', 'calibrated.all', 'calibrated.simple', 'calibrated.complex', 'base.all']\n",
      "65.81 & 66.59 & 69.99 & 34.00 & 70.83\n",
      "Accuracies on rare types:\n",
      "header:  ['full.all', 'calibrated.all', 'calibrated.simple', 'calibrated.complex', 'base.all']\n",
      "9.92 & 29.92 & 32.33 & 11.33 & 34.21\n",
      "full_acc:\n",
      "   full_acc: 47.44% (count=12.2k)\n",
      "   full_acc_by_cat:\n",
      "      FuncArg: 34.07% (count=7.2k)\n",
      "      FuncReturn: 67.39% (count=4.9k)\n",
      "      GlobalVar: 23.19% (count=69)\n",
      "   full_acc_by_simple:\n",
      "      complex: 17.22% (count=1.9k)\n",
      "      simple: 53.10% (count=10.3k)\n",
      "   full_acc_label_size: 1.3816\n",
      "   full_acc_pred_size: 1.3593\n",
      "   full_acc_ignored_labels: 0\n",
      "   n_skipped_types: 2859\n",
      "   n_missing_types: 1453\n",
      "full_acc_common:\n",
      "   full_acc_common: 65.81% (count=8.2k)\n",
      "   full_acc_common_by_cat:\n",
      "      FuncArg: 64.86% (count=5.0k)\n",
      "      FuncReturn: 67.48% (count=3.1k)\n",
      "      GlobalVar: 57.14% (count=49)\n",
      "   full_acc_common_by_simple:\n",
      "      complex: 24.87% (count=1.1k)\n",
      "      simple: 72.25% (count=7.1k)\n",
      "   full_acc_common_label_size: 1.3329\n",
      "   full_acc_common_pred_size: 1.2996\n",
      "   full_acc_common_ignored_labels: 4013\n",
      "   n_skipped_types: 2859\n",
      "   n_missing_types: 1453\n",
      "full_acc_rare:\n",
      "   full_acc_rare: 9.92% (count=4.0k)\n",
      "   full_acc_rare_by_cat:\n",
      "      FuncArg: 9.91% (count=2.7k)\n",
      "      FuncReturn: 9.92% (count=1.3k)\n",
      "      GlobalVar: 10.53% (count=19)\n",
      "   full_acc_rare_by_simple:\n",
      "      complex: 6.76% (count=814)\n",
      "      simple: 10.72% (count=3.2k)\n",
      "   full_acc_rare_label_size: 1.4809\n",
      "   full_acc_rare_pred_size: 1.4812\n",
      "   full_acc_rare_ignored_labels: 8195\n",
      "   n_skipped_types: 2859\n",
      "   n_missing_types: 1453\n",
      "acc:\n",
      "   acc: 51.66% (count=9.8k)\n",
      "   acc_by_cat:\n",
      "      FuncArg: 52.10% (count=5.9k)\n",
      "      FuncReturn: 51.02% (count=3.8k)\n",
      "      GlobalVar: 49.23% (count=65)\n",
      "   acc_by_simple:\n",
      "      complex: 23.69% (count=1.0k)\n",
      "      simple: 54.86% (count=8.8k)\n",
      "   acc_label_size: 1.3037\n",
      "   acc_pred_size: 1.2443\n",
      "   acc_ignored_labels: 2373\n",
      "   n_skipped_types: 2859\n",
      "   n_missing_types: 1453\n",
      "acc_common:\n",
      "   acc_common: 66.59% (count=5.8k)\n",
      "   acc_common_by_cat:\n",
      "      FuncArg: 66.97% (count=3.7k)\n",
      "      FuncReturn: 66.02% (count=2.1k)\n",
      "      GlobalVar: 60.00% (count=30)\n",
      "   acc_common_by_simple:\n",
      "      complex: 34.00% (count=550)\n",
      "      simple: 69.99% (count=5.3k)\n",
      "   acc_common_label_size: 1.2951\n",
      "   acc_common_pred_size: 1.2152\n",
      "   acc_common_ignored_labels: 6377\n",
      "   n_skipped_types: 2859\n",
      "   n_missing_types: 1453\n",
      "acc_rare:\n",
      "   acc_rare: 29.92% (count=4.0k)\n",
      "   acc_rare_by_cat:\n",
      "      FuncArg: 29.11% (count=2.7k)\n",
      "      FuncReturn: 31.61% (count=1.3k)\n",
      "      GlobalVar: 26.32% (count=19)\n",
      "   acc_rare_by_simple:\n",
      "      complex: 11.33% (count=459)\n",
      "      simple: 32.33% (count=3.5k)\n",
      "   acc_rare_label_size: 1.3162\n",
      "   acc_rare_pred_size: 1.2867\n",
      "   acc_rare_ignored_labels: 8204\n",
      "   n_skipped_types: 2859\n",
      "   n_missing_types: 1453\n",
      "base_acc:\n",
      "   base_acc: 57.81% (count=9.8k)\n",
      "   base_acc_by_cat:\n",
      "      FuncArg: 58.08% (count=5.9k)\n",
      "      FuncReturn: 57.50% (count=3.8k)\n",
      "      GlobalVar: 52.31% (count=65)\n",
      "   base_acc_ignored_labels: 2373\n",
      "   n_skipped_types: 2859\n",
      "   n_missing_types: 1453\n",
      "base_acc_common:\n",
      "   base_acc_common: 70.83% (count=6.3k)\n",
      "   base_acc_common_by_cat:\n",
      "      FuncArg: 71.22% (count=3.9k)\n",
      "      FuncReturn: 70.16% (count=2.4k)\n",
      "      GlobalVar: 73.53% (count=34)\n",
      "   base_acc_common_ignored_labels: 5869\n",
      "   n_skipped_types: 2859\n",
      "   n_missing_types: 1453\n",
      "base_acc_rare:\n",
      "   base_acc_rare: 34.21% (count=3.5k)\n",
      "   base_acc_rare_by_cat:\n",
      "      FuncArg: 33.75% (count=2.3k)\n",
      "      FuncReturn: 35.19% (count=1.1k)\n",
      "      GlobalVar: 33.33% (count=18)\n",
      "   base_acc_rare_ignored_labels: 8712\n",
      "   n_skipped_types: 2859\n",
      "   n_missing_types: 1453\n"
     ]
    }
   ],
   "source": [
    "typet5_metrics_4_hity4py(task=\"all\")"
   ]
  }
 ],
 "metadata": {
  "kernelspec": {
   "display_name": "Python 3 (ipykernel)",
   "language": "python",
   "name": "python3"
  },
  "language_info": {
   "codemirror_mode": {
    "name": "ipython",
    "version": 3
   },
   "file_extension": ".py",
   "mimetype": "text/x-python",
   "name": "python",
   "nbconvert_exporter": "python",
   "pygments_lexer": "ipython3",
   "version": "3.10.12"
  },
  "vscode": {
   "interpreter": {
    "hash": "cb5ea0ec9276ea53bca768cbad83872d3e07fe0f98ee4aa691b5a250409cc09e"
   }
  }
 },
 "nbformat": 4,
 "nbformat_minor": 2
}
